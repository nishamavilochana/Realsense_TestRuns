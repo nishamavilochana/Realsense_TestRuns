{
 "cells": [
  {
   "cell_type": "code",
   "execution_count": 23,
   "id": "2ae6d55a",
   "metadata": {},
   "outputs": [
    {
     "name": "stdout",
     "output_type": "stream",
     "text": [
      "Collecting pyautogui\n",
      "  Downloading PyAutoGUI-0.9.54.tar.gz (61 kB)\n",
      "                                              0.0/61.2 kB ? eta -:--:--\n",
      "     --------------------------               41.0/61.2 kB ? eta -:--:--\n",
      "     --------------------------               41.0/61.2 kB ? eta -:--:--\n",
      "     -------------------------------        51.2/61.2 kB 290.5 kB/s eta 0:00:01\n",
      "     -------------------------------------- 61.2/61.2 kB 326.9 kB/s eta 0:00:00\n",
      "  Installing build dependencies: started\n",
      "  Installing build dependencies: finished with status 'done'\n",
      "  Getting requirements to build wheel: started\n",
      "  Getting requirements to build wheel: finished with status 'done'\n",
      "  Preparing metadata (pyproject.toml): started\n",
      "  Preparing metadata (pyproject.toml): finished with status 'done'\n",
      "Collecting pymsgbox (from pyautogui)\n",
      "  Downloading PyMsgBox-1.0.9.tar.gz (18 kB)\n",
      "  Installing build dependencies: started\n",
      "  Installing build dependencies: finished with status 'done'\n",
      "  Getting requirements to build wheel: started\n",
      "  Getting requirements to build wheel: finished with status 'done'\n",
      "  Preparing metadata (pyproject.toml): started\n",
      "  Preparing metadata (pyproject.toml): finished with status 'done'\n",
      "Collecting pytweening>=1.0.4 (from pyautogui)\n",
      "  Downloading pytweening-1.0.7.tar.gz (168 kB)\n",
      "                                              0.0/168.2 kB ? eta -:--:--\n",
      "     ----------------                        71.7/168.2 kB 1.9 MB/s eta 0:00:01\n",
      "     ----------------                        71.7/168.2 kB 1.9 MB/s eta 0:00:01\n",
      "     ------------------------             112.6/168.2 kB 819.2 kB/s eta 0:00:01\n",
      "     ------------------------------------ 168.2/168.2 kB 918.3 kB/s eta 0:00:00\n",
      "  Preparing metadata (setup.py): started\n",
      "  Preparing metadata (setup.py): finished with status 'done'\n",
      "Collecting pyscreeze>=0.1.21 (from pyautogui)\n",
      "  Downloading PyScreeze-0.1.29.tar.gz (25 kB)\n",
      "  Installing build dependencies: started\n",
      "  Installing build dependencies: finished with status 'done'\n",
      "  Getting requirements to build wheel: started\n",
      "  Getting requirements to build wheel: finished with status 'done'\n",
      "  Preparing metadata (pyproject.toml): started\n",
      "  Preparing metadata (pyproject.toml): finished with status 'done'\n",
      "Collecting pygetwindow>=0.0.5 (from pyautogui)\n",
      "  Downloading PyGetWindow-0.0.9.tar.gz (9.7 kB)\n",
      "  Preparing metadata (setup.py): started\n",
      "  Preparing metadata (setup.py): finished with status 'done'\n",
      "Collecting mouseinfo (from pyautogui)\n",
      "  Downloading MouseInfo-0.1.3.tar.gz (10 kB)\n",
      "  Preparing metadata (setup.py): started\n",
      "  Preparing metadata (setup.py): finished with status 'done'\n",
      "Collecting pyrect (from pygetwindow>=0.0.5->pyautogui)\n",
      "  Downloading PyRect-0.2.0.tar.gz (17 kB)\n",
      "  Preparing metadata (setup.py): started\n",
      "  Preparing metadata (setup.py): finished with status 'done'\n",
      "Collecting pyscreenshot (from pyscreeze>=0.1.21->pyautogui)\n",
      "  Downloading pyscreenshot-3.1-py3-none-any.whl (28 kB)\n",
      "Requirement already satisfied: Pillow>=9.3.0 in c:\\users\\tharu\\miniconda3\\envs\\realsense\\lib\\site-packages (from pyscreeze>=0.1.21->pyautogui) (10.0.0)\n",
      "Collecting pyperclip (from mouseinfo->pyautogui)\n",
      "  Downloading pyperclip-1.8.2.tar.gz (20 kB)\n",
      "  Preparing metadata (setup.py): started\n",
      "  Preparing metadata (setup.py): finished with status 'done'\n",
      "Collecting EasyProcess (from pyscreenshot->pyscreeze>=0.1.21->pyautogui)\n",
      "  Downloading EasyProcess-1.1-py3-none-any.whl (8.7 kB)\n",
      "Collecting entrypoint2 (from pyscreenshot->pyscreeze>=0.1.21->pyautogui)\n",
      "  Downloading entrypoint2-1.1-py2.py3-none-any.whl (9.9 kB)\n",
      "Collecting mss (from pyscreenshot->pyscreeze>=0.1.21->pyautogui)\n",
      "  Downloading mss-9.0.1-py3-none-any.whl (22 kB)\n",
      "Building wheels for collected packages: pyautogui, pygetwindow, pyscreeze, pytweening, mouseinfo, pymsgbox, pyperclip, pyrect\n",
      "  Building wheel for pyautogui (pyproject.toml): started\n",
      "  Building wheel for pyautogui (pyproject.toml): finished with status 'done'\n",
      "  Created wheel for pyautogui: filename=PyAutoGUI-0.9.54-py3-none-any.whl size=37601 sha256=fcd4e9bd06bf6c60396180c37f9c53ea41f9dfcdcc540c84a36fa3479d43c281\n",
      "  Stored in directory: c:\\users\\tharu\\appdata\\local\\pip\\cache\\wheels\\95\\dc\\b1\\fe122b791e0db8bf439a0e6e1d2628e48f10bf430cae13521b\n",
      "  Building wheel for pygetwindow (setup.py): started\n",
      "  Building wheel for pygetwindow (setup.py): finished with status 'done'\n",
      "  Created wheel for pygetwindow: filename=PyGetWindow-0.0.9-py3-none-any.whl size=11079 sha256=b8f222cdcb673854580faa8411d9989e5d90d3c0dfac042205d45b311599b82d\n",
      "  Stored in directory: c:\\users\\tharu\\appdata\\local\\pip\\cache\\wheels\\07\\75\\0b\\7ca0b598eb4c21d43ba4bcc78a0538dfcf803a5997da33bc19\n",
      "  Building wheel for pyscreeze (pyproject.toml): started\n",
      "  Building wheel for pyscreeze (pyproject.toml): finished with status 'done'\n",
      "  Created wheel for pyscreeze: filename=PyScreeze-0.1.29-py3-none-any.whl size=13485 sha256=0d5b89ed5dfe86f9766a34d2a2218b8baead8d51b7752daa82726bd9277b0322\n",
      "  Stored in directory: c:\\users\\tharu\\appdata\\local\\pip\\cache\\wheels\\d3\\bd\\06\\4b4c57f65e89d1ab7a63a924c12aca4784cd95e74940371b5e\n",
      "  Building wheel for pytweening (setup.py): started\n",
      "  Building wheel for pytweening (setup.py): finished with status 'done'\n",
      "  Created wheel for pytweening: filename=pytweening-1.0.7-py3-none-any.whl size=6214 sha256=67b501a53229402f4e167e1e0b022c4694aff7687a2088539d4c9564b1b45bdf\n",
      "  Stored in directory: c:\\users\\tharu\\appdata\\local\\pip\\cache\\wheels\\b2\\9b\\02\\059beba389e7e31a635bd9e8d9b7299f4ec11caca1f237f56d\n",
      "  Building wheel for mouseinfo (setup.py): started\n",
      "  Building wheel for mouseinfo (setup.py): finished with status 'done'\n",
      "  Created wheel for mouseinfo: filename=MouseInfo-0.1.3-py3-none-any.whl size=10906 sha256=4f7656cede4c570b69ee1125c54bff6ef32a90bdd0f04aed008fb0104dd0574a\n",
      "  Stored in directory: c:\\users\\tharu\\appdata\\local\\pip\\cache\\wheels\\20\\0b\\7f\\939ac9ff785b09951c706150537572c00123412f260a6024f3\n",
      "  Building wheel for pymsgbox (pyproject.toml): started\n",
      "  Building wheel for pymsgbox (pyproject.toml): finished with status 'done'\n",
      "  Created wheel for pymsgbox: filename=PyMsgBox-1.0.9-py3-none-any.whl size=7417 sha256=ea4ab1728d6b5a1417c7367293bcbea87c40789cf651c190a197493b8e3d04d4\n",
      "  Stored in directory: c:\\users\\tharu\\appdata\\local\\pip\\cache\\wheels\\85\\92\\63\\e126ee5f33d8f2ed04f96e43ef5df7270a2f331848752e8662\n",
      "  Building wheel for pyperclip (setup.py): started\n",
      "  Building wheel for pyperclip (setup.py): finished with status 'done'\n",
      "  Created wheel for pyperclip: filename=pyperclip-1.8.2-py3-none-any.whl size=11137 sha256=df427f695117d85390d346e1100627544289c9f7bfb2a54b3586d17885124a18\n",
      "  Stored in directory: c:\\users\\tharu\\appdata\\local\\pip\\cache\\wheels\\70\\bd\\ba\\8ae5c080c895c9360fe6e153acda2dee82527374467eae061b\n",
      "  Building wheel for pyrect (setup.py): started\n",
      "  Building wheel for pyrect (setup.py): finished with status 'done'\n",
      "  Created wheel for pyrect: filename=PyRect-0.2.0-py2.py3-none-any.whl size=11205 sha256=d601673f8e3d59874649ab6666e787afe401deefb211f19dae2b77651bb73d34\n",
      "  Stored in directory: c:\\users\\tharu\\appdata\\local\\pip\\cache\\wheels\\c4\\e9\\fc\\b7a666dd4f9a3168fb44d643079b41d36ddab52f470707e820\n",
      "Successfully built pyautogui pygetwindow pyscreeze pytweening mouseinfo pymsgbox pyperclip pyrect\n",
      "Installing collected packages: pytweening, pyrect, pyperclip, pymsgbox, entrypoint2, EasyProcess, pygetwindow, mss, mouseinfo, pyscreenshot, pyscreeze, pyautogui\n",
      "Successfully installed EasyProcess-1.1 entrypoint2-1.1 mouseinfo-0.1.3 mss-9.0.1 pyautogui-0.9.54 pygetwindow-0.0.9 pymsgbox-1.0.9 pyperclip-1.8.2 pyrect-0.2.0 pyscreenshot-3.1 pyscreeze-0.1.29 pytweening-1.0.7\n",
      "Note: you may need to restart the kernel to use updated packages.\n"
     ]
    }
   ],
   "source": [
    "# pip install pyautogui"
   ]
  },
  {
   "cell_type": "code",
   "execution_count": 1,
   "id": "c341741f",
   "metadata": {},
   "outputs": [],
   "source": [
    "import pyrealsense2 as rs\n",
    "import numpy as np\n",
    "import cv2"
   ]
  },
  {
   "cell_type": "code",
   "execution_count": 2,
   "id": "bcfd9a1b",
   "metadata": {},
   "outputs": [],
   "source": [
    "config=rs.config()\n",
    "pipeline=rs.pipeline()"
   ]
  },
  {
   "cell_type": "code",
   "execution_count": 3,
   "id": "9b6fb3d4",
   "metadata": {},
   "outputs": [],
   "source": [
    "config.enable_stream(rs.stream.depth,640,480,rs.format.z16,30)\n",
    "config.enable_stream(rs.stream.color,640,480,rs.format.bgr8,30)"
   ]
  },
  {
   "cell_type": "markdown",
   "id": "e0fca290",
   "metadata": {},
   "source": [
    "# Gets distance Prints & Shows on feed"
   ]
  },
  {
   "cell_type": "code",
   "execution_count": 34,
   "id": "3aeb616a",
   "metadata": {},
   "outputs": [],
   "source": [
    "def distance(x,y):\n",
    "    frames=pipeline.wait_for_frames()\n",
    "    depth_frame=frames.get_depth_frame()\n",
    "    depth_array = np.array(depth_frame.get_data())\n",
    "    row_index = y\n",
    "    column_index = x\n",
    "    depth_value = depth_array[row_index, column_index]\n",
    "    print(depth_value)\n",
    "    return depth_value"
   ]
  },
  {
   "cell_type": "code",
   "execution_count": 40,
   "id": "14e46b8e",
   "metadata": {},
   "outputs": [],
   "source": [
    "def click_event(event,x,y,flags,params):\n",
    "    global position\n",
    "    global i\n",
    "    if event == cv2.EVENT_LBUTTONDOWN:\n",
    "        font = cv2.FONT_HERSHEY_SIMPLEX\n",
    "        i=distance(x,y)\n",
    "        cv2.putText(color_image, str(i), (x,y), font,1, (255, 0, 0), 2)\n",
    "        cv2.imshow('RGB View', depth_colormap)"
   ]
  },
  {
   "cell_type": "code",
   "execution_count": 41,
   "id": "c614eefe",
   "metadata": {},
   "outputs": [
    {
     "name": "stdout",
     "output_type": "stream",
     "text": [
      "161\n",
      "3285\n",
      "6938\n",
      "3450\n",
      "1900\n"
     ]
    }
   ],
   "source": [
    "pipeline.start(config)\n",
    "while True:\n",
    "    try:\n",
    "        frames=pipeline.wait_for_frames()\n",
    "        colored=frames.get_depth_frame()\n",
    "        color_image=np.asanyarray(colored.get_data())\n",
    "        depth_colormap=cv2.applyColorMap(cv2.convertScaleAbs(color_image,alpha=0.03),cv2.COLORMAP_HSV)\n",
    "        cv2.imshow('RGB View', depth_colormap)\n",
    "        cv2.setMouseCallback(\"RGB View\", click_event)\n",
    "    except Exception as e:\n",
    "        print(e)\n",
    "    if cv2.waitKey(1) & 0xFF == ord('q'):\n",
    "        break\n",
    "pipeline.stop()\n",
    "cv2.destroyAllWindows()"
   ]
  },
  {
   "cell_type": "markdown",
   "id": "cb32e017",
   "metadata": {},
   "source": [
    "# to be finished"
   ]
  },
  {
   "cell_type": "code",
   "execution_count": 32,
   "id": "97f3afbd",
   "metadata": {},
   "outputs": [],
   "source": [
    "import pyautogui\n",
    "def mouse_hover():\n",
    "    while True:\n",
    "        frames=pipeline.wait_for_frames()\n",
    "        colored=frames.get_color_frame()\n",
    "        color_image=np.asanyarray(colored.get_data())\n",
    "        cv2.imshow('RGB View', color_image)\n",
    "        x1, y1 = pyautogui.position()\n",
    "        font = cv2.FONT_HERSHEY_SIMPLEX\n",
    "        i=distance(x1,y1)\n",
    "        cv2.putText(color_image, str(i), (x,y), font,1, (255, 0, 0), 2)\n",
    "        cv2.imshow('RGB View', color_image)\n",
    "        try:\n",
    "            cv2.setMouseCallback(\"RGB View\", click_event)\n",
    "        except:\n",
    "            cv2.imshow('RGB View', color_image)"
   ]
  },
  {
   "cell_type": "markdown",
   "id": "0a1b4fdf",
   "metadata": {},
   "source": [
    "# Works Fine-Debugs"
   ]
  },
  {
   "cell_type": "code",
   "execution_count": null,
   "id": "236ff22a",
   "metadata": {},
   "outputs": [],
   "source": [
    "pipeline.start(config)\n",
    "while True:\n",
    "    frames=pipeline.wait_for_frames()\n",
    "    depth_frame=frames.get_depth_frame()\n",
    "    colored=frames.get_color_frame()\n",
    "    try:\n",
    "        depth_array = np.array(depth_frame.get_data())\n",
    "        row_index = 320  \n",
    "        column_index = 240\n",
    "        depth_value = depth_array[row_index, column_index]\n",
    "#         print(\"Depth value at row\", row_index, \"and column\", column_index, \"is:\", depth_value)\n",
    "        color_image=np.asanyarray(colored.get_data())\n",
    "        image =cv2.putText(color_image,str(depth_value),(240, 320),cv2.FONT_HERSHEY_SIMPLEX,1,(0, 0, 255),2,cv2.LINE_AA)\n",
    "        \n",
    "        cv2.namedWindow('RGB View',cv2.WINDOW_NORMAL)\n",
    "        cv2.imshow('RGB View', color_image)\n",
    "        cv2.setMouseCallback('RGB View', click_event2)\n",
    "    except:\n",
    "        color_image=np.asanyarray(colored.get_data())\n",
    "        cv2.namedWindow('RGB View', cv2.WINDOW_NORMAL)\n",
    "        cv2.imshow('RGB View', color_image)\n",
    "    if cv2.waitKey(1) & 0xFF == ord('q'):\n",
    "        break\n",
    "pipeline.stop()\n",
    "cv2.destroyAllWindows()"
   ]
  },
  {
   "cell_type": "code",
   "execution_count": null,
   "id": "d0b9a842",
   "metadata": {},
   "outputs": [],
   "source": [
    "pipeline.start(config)\n",
    "while True:\n",
    "    frames=pipeline.wait_for_frames()\n",
    "    depth_frame=frames.get_depth_frame()\n",
    "    colored=frames.get_color_frame()\n",
    "    color_image=np.asanyarray(colored.get_data())\n",
    "    cv2.imshow('RGB View', color_image)\n",
    "    cv2.setMouseCallback('RGB View', click_event)\n",
    "    if cv2.waitKey(1) & 0xFF == ord('q'):\n",
    "        break\n",
    "pipeline.stop()\n",
    "cv2.destroyAllWindows()"
   ]
  },
  {
   "cell_type": "code",
   "execution_count": null,
   "id": "dc002db0",
   "metadata": {},
   "outputs": [],
   "source": [
    "pipeline.stop()"
   ]
  },
  {
   "cell_type": "code",
   "execution_count": null,
   "id": "dbb7cc27",
   "metadata": {},
   "outputs": [],
   "source": []
  },
  {
   "cell_type": "code",
   "execution_count": null,
   "id": "8a2c2dfc",
   "metadata": {},
   "outputs": [],
   "source": []
  }
 ],
 "metadata": {
  "kernelspec": {
   "display_name": "Python 3 (ipykernel)",
   "language": "python",
   "name": "python3"
  },
  "language_info": {
   "codemirror_mode": {
    "name": "ipython",
    "version": 3
   },
   "file_extension": ".py",
   "mimetype": "text/x-python",
   "name": "python",
   "nbconvert_exporter": "python",
   "pygments_lexer": "ipython3",
   "version": "3.11.3"
  }
 },
 "nbformat": 4,
 "nbformat_minor": 5
}
