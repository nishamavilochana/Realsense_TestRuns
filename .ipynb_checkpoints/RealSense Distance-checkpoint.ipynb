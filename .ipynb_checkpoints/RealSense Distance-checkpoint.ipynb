{
 "cells": [
  {
   "cell_type": "code",
   "execution_count": 1,
   "id": "c341741f",
   "metadata": {},
   "outputs": [],
   "source": [
    "import pyrealsense2 as rs\n",
    "import numpy as np\n",
    "import cv2"
   ]
  },
  {
   "cell_type": "code",
   "execution_count": 2,
   "id": "bcfd9a1b",
   "metadata": {},
   "outputs": [],
   "source": [
    "config=rs.config()\n",
    "pipeline=rs.pipeline()"
   ]
  },
  {
   "cell_type": "code",
   "execution_count": 3,
   "id": "9b6fb3d4",
   "metadata": {},
   "outputs": [],
   "source": [
    "config.enable_stream(rs.stream.depth,640,480,rs.format.z16,30)\n",
    "config.enable_stream(rs.stream.color,640,480,rs.format.bgr8,30)"
   ]
  },
  {
   "cell_type": "code",
   "execution_count": 10,
   "id": "98a35e66",
   "metadata": {},
   "outputs": [],
   "source": [
    "def distance():\n",
    "    depth_array = np.array(depth_frame.get_data())\n",
    "    row_index = 240\n",
    "    column_index = 320\n",
    "    depth_value = depth_array[row_index, column_index]\n",
    "    return depth_value\n",
    "    print(\"Depth value at row\", row_index, \"and column\", column_index, \"is:\", depth_value)"
   ]
  },
  {
   "cell_type": "code",
   "execution_count": 4,
   "id": "14e46b8e",
   "metadata": {},
   "outputs": [],
   "source": [
    "def click_event(event,x,y,flags,params):\n",
    "    if event == cv2.EVENT_LBUTTONDOWN:\n",
    "        print(x,' ',y)\n",
    "        font = cv2.FONT_HERSHEY_SIMPLEX\n",
    "        cv2.putText(color_image, str(x) + ',' +str(y), (x,y), font,1, (255, 0, 0), 2)\n",
    "        cv2.imshow('RGB View', color_image)"
   ]
  },
  {
   "cell_type": "code",
   "execution_count": 8,
   "id": "ccb261a7",
   "metadata": {},
   "outputs": [],
   "source": [
    "def click_event2(event,x,y,flags,params):\n",
    "    if event == cv2.EVENT_LBUTTONDOWN:\n",
    "        print(x,' ',y)\n",
    "        return x,y\n",
    "        font = cv2.FONT_HERSHEY_SIMPLEX\n",
    "        cv2.putText(color_image, str(x) + ',' +str(y), (x,y), font,1, (255, 0, 0), 2)\n",
    "        cv2.imshow('RGB View', color_image)"
   ]
  },
  {
   "cell_type": "code",
   "execution_count": 10,
   "id": "952f7487",
   "metadata": {},
   "outputs": [],
   "source": [
    "pipeline.start(config)\n",
    "while True:\n",
    "    frames=pipeline.wait_for_frames()\n",
    "    depth_frame=frames.get_depth_frame()\n",
    "    colored=frames.get_color_frame()\n",
    "    try:\n",
    "        depth_array = np.array(depth_frame.get_data())\n",
    "        row_index = 320  \n",
    "        column_index = 240\n",
    "        depth_value = depth_array[row_index, column_index]\n",
    "#         print(\"Depth value at row\", row_index, \"and column\", column_index, \"is:\", depth_value)\n",
    "        color_image=np.asanyarray(colored.get_data())\n",
    "#         image =cv2.putText(color_image,str(depth_value),(240, 320),cv2.FONT_HERSHEY_SIMPLEX,1,(0, 0, 255),2,cv2.LINE_AA)\n",
    "        cv2.putText(color_image, str(x) + ',' +str(y), (x,y), font,1, (255, 0, 0), 2)\n",
    "        cv2.namedWindow('RGB View',cv2.WINDOW_NORMAL)\n",
    "        cv2.imshow('RGB View', color_image)\n",
    "        cv2.setMouseCallback('RGB View', click_event2)\n",
    "    except:\n",
    "        color_image=np.asanyarray(colored.get_data())\n",
    "        cv2.namedWindow('RGB View', cv2.WINDOW_NORMAL)\n",
    "        cv2.imshow('RGB View', color_image)\n",
    "    if cv2.waitKey(1) & 0xFF == ord('q'):\n",
    "        break\n",
    "pipeline.stop()\n",
    "cv2.destroyAllWindows()"
   ]
  },
  {
   "cell_type": "markdown",
   "id": "c28394f1",
   "metadata": {},
   "source": [
    "# Works Fine"
   ]
  },
  {
   "cell_type": "code",
   "execution_count": 6,
   "id": "236ff22a",
   "metadata": {},
   "outputs": [
    {
     "name": "stdout",
     "output_type": "stream",
     "text": [
      "218   288\n",
      "270   192\n",
      "484   346\n",
      "493   332\n",
      "493   332\n",
      "493   332\n",
      "493   332\n",
      "493   332\n",
      "493   332\n",
      "293   320\n",
      "293   320\n",
      "293   320\n"
     ]
    }
   ],
   "source": [
    "pipeline.start(config)\n",
    "while True:\n",
    "    frames=pipeline.wait_for_frames()\n",
    "    depth_frame=frames.get_depth_frame()\n",
    "    colored=frames.get_color_frame()\n",
    "    try:\n",
    "        depth_array = np.array(depth_frame.get_data())\n",
    "        row_index = 320  \n",
    "        column_index = 240\n",
    "        depth_value = depth_array[row_index, column_index]\n",
    "#         print(\"Depth value at row\", row_index, \"and column\", column_index, \"is:\", depth_value)\n",
    "        color_image=np.asanyarray(colored.get_data())\n",
    "#         image =cv2.putText(color_image,str(depth_value),(240, 320),cv2.FONT_HERSHEY_SIMPLEX,1,(0, 0, 255),2,cv2.LINE_AA)\n",
    "        \n",
    "        cv2.namedWindow('RGB View',cv2.WINDOW_NORMAL)\n",
    "        cv2.imshow('RGB View', color_image)\n",
    "        cv2.setMouseCallback('RGB View', click_event2)\n",
    "    except:\n",
    "        color_image=np.asanyarray(colored.get_data())\n",
    "        cv2.namedWindow('RGB View', cv2.WINDOW_NORMAL)\n",
    "        cv2.imshow('RGB View', color_image)\n",
    "    if cv2.waitKey(1) & 0xFF == ord('q'):\n",
    "        break\n",
    "pipeline.stop()\n",
    "cv2.destroyAllWindows()"
   ]
  },
  {
   "cell_type": "code",
   "execution_count": 5,
   "id": "d0b9a842",
   "metadata": {},
   "outputs": [
    {
     "name": "stdout",
     "output_type": "stream",
     "text": [
      "460   294\n",
      "156   281\n",
      "154   279\n",
      "9   13\n",
      "2   5\n",
      "387   240\n"
     ]
    }
   ],
   "source": [
    "pipeline.start(config)\n",
    "while True:\n",
    "    frames=pipeline.wait_for_frames()\n",
    "    depth_frame=frames.get_depth_frame()\n",
    "    colored=frames.get_color_frame()\n",
    "    color_image=np.asanyarray(colored.get_data())\n",
    "    cv2.imshow('RGB View', color_image)\n",
    "    cv2.setMouseCallback('RGB View', click_event)\n",
    "    if cv2.waitKey(1) & 0xFF == ord('q'):\n",
    "        break\n",
    "pipeline.stop()\n",
    "cv2.destroyAllWindows()"
   ]
  },
  {
   "cell_type": "code",
   "execution_count": 31,
   "id": "dc002db0",
   "metadata": {},
   "outputs": [],
   "source": [
    "pipeline.stop()"
   ]
  },
  {
   "cell_type": "code",
   "execution_count": null,
   "id": "dbb7cc27",
   "metadata": {},
   "outputs": [],
   "source": []
  },
  {
   "cell_type": "code",
   "execution_count": null,
   "id": "8a2c2dfc",
   "metadata": {},
   "outputs": [],
   "source": []
  }
 ],
 "metadata": {
  "kernelspec": {
   "display_name": "Python 3 (ipykernel)",
   "language": "python",
   "name": "python3"
  },
  "language_info": {
   "codemirror_mode": {
    "name": "ipython",
    "version": 3
   },
   "file_extension": ".py",
   "mimetype": "text/x-python",
   "name": "python",
   "nbconvert_exporter": "python",
   "pygments_lexer": "ipython3",
   "version": "3.11.3"
  }
 },
 "nbformat": 4,
 "nbformat_minor": 5
}
