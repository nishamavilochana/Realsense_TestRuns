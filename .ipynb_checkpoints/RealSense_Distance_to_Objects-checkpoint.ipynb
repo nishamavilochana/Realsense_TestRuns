{
 "cells": [
  {
   "cell_type": "code",
   "execution_count": 1,
   "id": "175180dc",
   "metadata": {},
   "outputs": [],
   "source": [
    "import pyrealsense2 as rs\n",
    "import numpy as np\n",
    "import cv2\n",
    "import ultralytics\n",
    "from ultralytics import YOLO"
   ]
  },
  {
   "cell_type": "code",
   "execution_count": 2,
   "id": "2ce79617",
   "metadata": {},
   "outputs": [],
   "source": [
    "model=YOLO(\"yolov8n.pt\")"
   ]
  },
  {
   "cell_type": "code",
   "execution_count": 3,
   "id": "0f8782fb",
   "metadata": {},
   "outputs": [],
   "source": [
    "def distance(x,y):\n",
    "    frames=pipeline.wait_for_frames()\n",
    "    depth_frame=frames.get_depth_frame()\n",
    "    depth_array = np.array(depth_frame.get_data())\n",
    "    row_index = y\n",
    "    column_index = x\n",
    "    depth_value = depth_array[row_index, column_index]\n",
    "    print(depth_value)\n",
    "    return depth_value"
   ]
  },
  {
   "cell_type": "code",
   "execution_count": 4,
   "id": "359e6408",
   "metadata": {},
   "outputs": [],
   "source": [
    "def img_distance(color_image):\n",
    "    res=model(color_image)\n",
    "    result=res[0]\n",
    "    box=result.boxes[0]  #gets the first box\n",
    "    for i in range(0,len(result.boxes),1):\n",
    "        box=result.boxes[i]\n",
    "        j=box.xyxy[0].tolist() #gets the coordinates of the box\n",
    "        x1=int(j[0])\n",
    "        y1=int(j[1])\n",
    "        x2=int(j[2])\n",
    "        y2=int(j[3])\n",
    "        radius = 10\n",
    "        xmid=int(x1+(x2-x1)/2)\n",
    "        ymid=int(y1+(y2-y1)/2)\n",
    "        z=distance(xmid,ymid)\n",
    "        cv2.putText(color_image, str(z), (xmid,ymid), cv2.FONT_HERSHEY_COMPLEX_SMALL,1, (0, 0, 255), 1)\n",
    "#         image = cv2.circle(color_image,(xmid,ymid), radius, (255, 0, 0), 2)\n",
    "        image=cv2.rectangle(color_image,(int(j[0]),int(j[1])),(int(j[2]),int(j[3])),(255, 0, 0),2)\n",
    "        cv2.namedWindow(\"RGB\",cv2.WINDOW_NORMAL)\n",
    "        cv2.imshow(\"RGB\",color_image)\n",
    "cv2.waitKey(0)\n",
    "cv2.destroyAllWindows()"
   ]
  },
  {
   "cell_type": "code",
   "execution_count": 16,
   "id": "b59976b1",
   "metadata": {},
   "outputs": [],
   "source": [
    "config=rs.config()\n",
    "pipeline=rs.pipeline()\n",
    "config.enable_stream(rs.stream.depth,640,480,rs.format.z16,30)\n",
    "config.enable_stream(rs.stream.color,640,480,rs.format.bgr8,30)"
   ]
  },
  {
   "cell_type": "code",
   "execution_count": 17,
   "id": "761d3d42",
   "metadata": {},
   "outputs": [
    {
     "name": "stderr",
     "output_type": "stream",
     "text": [
      "\n",
      "0: 480x640 3 persons, 1 bus, 1 chair, 135.3ms\n",
      "Speed: 3.8ms preprocess, 135.3ms inference, 0.0ms postprocess per image at shape (1, 3, 480, 640)\n",
      "\n"
     ]
    },
    {
     "name": "stdout",
     "output_type": "stream",
     "text": [
      "0\n",
      "4036\n",
      "2108\n",
      "347\n",
      "6366\n"
     ]
    },
    {
     "name": "stderr",
     "output_type": "stream",
     "text": [
      "0: 480x640 2 persons, 1 cow, 3 chairs, 147.2ms\n",
      "Speed: 0.0ms preprocess, 147.2ms inference, 2.9ms postprocess per image at shape (1, 3, 480, 640)\n",
      "\n"
     ]
    },
    {
     "name": "stdout",
     "output_type": "stream",
     "text": [
      "2122\n",
      "0\n",
      "974\n",
      "8345\n",
      "1016\n",
      "0\n"
     ]
    },
    {
     "name": "stderr",
     "output_type": "stream",
     "text": [
      "0: 480x640 2 persons, 4 chairs, 1 couch, 143.2ms\n",
      "Speed: 5.8ms preprocess, 143.2ms inference, 0.0ms postprocess per image at shape (1, 3, 480, 640)\n",
      "\n"
     ]
    },
    {
     "name": "stdout",
     "output_type": "stream",
     "text": [
      "2115\n",
      "0\n",
      "0\n",
      "351\n",
      "953\n",
      "305\n",
      "1009\n"
     ]
    },
    {
     "name": "stderr",
     "output_type": "stream",
     "text": [
      "0: 480x640 2 persons, 1 cow, 4 chairs, 153.1ms\n",
      "Speed: 2.0ms preprocess, 153.1ms inference, 2.7ms postprocess per image at shape (1, 3, 480, 640)\n"
     ]
    },
    {
     "name": "stdout",
     "output_type": "stream",
     "text": [
      "0\n",
      "2038\n",
      "968\n",
      "305\n",
      "8345\n",
      "1009\n",
      "0\n"
     ]
    },
    {
     "name": "stderr",
     "output_type": "stream",
     "text": [
      "\n",
      "0: 480x640 2 persons, 1 cow, 4 chairs, 2 couchs, 153.4ms\n",
      "Speed: 4.1ms preprocess, 153.4ms inference, 2.5ms postprocess per image at shape (1, 3, 480, 640)\n"
     ]
    },
    {
     "name": "stdout",
     "output_type": "stream",
     "text": [
      "341\n",
      "2422\n",
      "200\n",
      "304\n",
      "972\n",
      "1007\n",
      "330\n"
     ]
    },
    {
     "name": "stderr",
     "output_type": "stream",
     "text": [
      "\n"
     ]
    },
    {
     "name": "stdout",
     "output_type": "stream",
     "text": [
      "979\n",
      "8577\n"
     ]
    },
    {
     "name": "stderr",
     "output_type": "stream",
     "text": [
      "0: 480x640 2 persons, 3 chairs, 192.8ms\n",
      "Speed: 9.6ms preprocess, 192.8ms inference, 6.2ms postprocess per image at shape (1, 3, 480, 640)\n",
      "\n"
     ]
    },
    {
     "name": "stdout",
     "output_type": "stream",
     "text": [
      "0\n",
      "2366\n",
      "966\n",
      "335\n",
      "1011\n"
     ]
    },
    {
     "name": "stderr",
     "output_type": "stream",
     "text": [
      "0: 480x640 4 persons, 1 suitcase, 2 chairs, 1 laptop, 189.7ms\n",
      "Speed: 5.5ms preprocess, 189.7ms inference, 2.5ms postprocess per image at shape (1, 3, 480, 640)\n"
     ]
    },
    {
     "name": "stdout",
     "output_type": "stream",
     "text": [
      "0\n",
      "972\n",
      "0\n",
      "1014\n",
      "1009\n",
      "0\n",
      "2375\n"
     ]
    },
    {
     "name": "stderr",
     "output_type": "stream",
     "text": [
      "\n",
      "0: 480x640 3 persons, 1 cow, 2 chairs, 127.7ms\n",
      "Speed: 2.5ms preprocess, 127.7ms inference, 0.0ms postprocess per image at shape (1, 3, 480, 640)\n"
     ]
    },
    {
     "name": "stdout",
     "output_type": "stream",
     "text": [
      "8234\n",
      "343\n",
      "8345\n"
     ]
    },
    {
     "name": "stderr",
     "output_type": "stream",
     "text": [
      "\n"
     ]
    },
    {
     "name": "stdout",
     "output_type": "stream",
     "text": [
      "2470\n",
      "201\n",
      "971\n",
      "2375\n"
     ]
    },
    {
     "name": "stderr",
     "output_type": "stream",
     "text": [
      "0: 480x640 3 persons, 3 chairs, 125.7ms\n",
      "Speed: 0.0ms preprocess, 125.7ms inference, 0.0ms postprocess per image at shape (1, 3, 480, 640)\n",
      "\n"
     ]
    },
    {
     "name": "stdout",
     "output_type": "stream",
     "text": [
      "343\n",
      "0\n",
      "976\n",
      "2403\n",
      "2441\n",
      "0\n"
     ]
    },
    {
     "name": "stderr",
     "output_type": "stream",
     "text": [
      "0: 480x640 5 persons, 3 chairs, 1 laptop, 126.4ms\n",
      "Speed: 0.0ms preprocess, 126.4ms inference, 0.0ms postprocess per image at shape (1, 3, 480, 640)\n"
     ]
    },
    {
     "name": "stdout",
     "output_type": "stream",
     "text": [
      "342\n",
      "1004\n",
      "201\n",
      "2422\n",
      "972\n",
      "1017\n"
     ]
    },
    {
     "name": "stderr",
     "output_type": "stream",
     "text": [
      "\n"
     ]
    },
    {
     "name": "stdout",
     "output_type": "stream",
     "text": [
      "2584\n",
      "2412\n",
      "2403\n"
     ]
    },
    {
     "name": "stderr",
     "output_type": "stream",
     "text": [
      "0: 480x640 4 persons, 2 chairs, 1 laptop, 110.0ms\n",
      "Speed: 8.9ms preprocess, 110.0ms inference, 8.3ms postprocess per image at shape (1, 3, 480, 640)\n"
     ]
    },
    {
     "name": "stdout",
     "output_type": "stream",
     "text": [
      "0\n",
      "1014\n",
      "2441\n",
      "0\n",
      "977\n",
      "2422\n",
      "1016\n"
     ]
    },
    {
     "name": "stderr",
     "output_type": "stream",
     "text": [
      "\n",
      "0: 480x640 3 persons, 2 chairs, 107.6ms\n",
      "Speed: 2.4ms preprocess, 107.6ms inference, 5.0ms postprocess per image at shape (1, 3, 480, 640)\n",
      "\n"
     ]
    },
    {
     "name": "stdout",
     "output_type": "stream",
     "text": [
      "346\n",
      "972\n",
      "0\n",
      "2412\n",
      "2441\n"
     ]
    },
    {
     "name": "stderr",
     "output_type": "stream",
     "text": [
      "0: 480x640 4 persons, 1 cow, 3 chairs, 1 laptop, 110.4ms\n",
      "Speed: 0.0ms preprocess, 110.4ms inference, 0.0ms postprocess per image at shape (1, 3, 480, 640)\n"
     ]
    },
    {
     "name": "stdout",
     "output_type": "stream",
     "text": [
      "340\n",
      "8345\n",
      "972\n",
      "1014\n",
      "2431\n",
      "2520\n",
      "1017\n"
     ]
    },
    {
     "name": "stderr",
     "output_type": "stream",
     "text": [
      "\n",
      "0: 480x640 3 persons, 2 chairs, 121.1ms\n"
     ]
    },
    {
     "name": "stdout",
     "output_type": "stream",
     "text": [
      "0\n",
      "201\n"
     ]
    },
    {
     "name": "stderr",
     "output_type": "stream",
     "text": [
      "Speed: 6.6ms preprocess, 121.1ms inference, 4.0ms postprocess per image at shape (1, 3, 480, 640)\n",
      "\n"
     ]
    },
    {
     "name": "stdout",
     "output_type": "stream",
     "text": [
      "0\n",
      "2441\n",
      "974\n",
      "2422\n",
      "0\n"
     ]
    },
    {
     "name": "stderr",
     "output_type": "stream",
     "text": [
      "0: 480x640 2 persons, 1 chair, 111.0ms\n",
      "Speed: 5.0ms preprocess, 111.0ms inference, 0.0ms postprocess per image at shape (1, 3, 480, 640)\n",
      "\n"
     ]
    },
    {
     "name": "stdout",
     "output_type": "stream",
     "text": [
      "340\n",
      "2441\n",
      "1014\n"
     ]
    },
    {
     "name": "stderr",
     "output_type": "stream",
     "text": [
      "0: 480x640 3 persons, 1 cow, 2 chairs, 1 dining table, 2 laptops, 123.3ms\n",
      "Speed: 0.0ms preprocess, 123.3ms inference, 6.6ms postprocess per image at shape (1, 3, 480, 640)\n"
     ]
    },
    {
     "name": "stdout",
     "output_type": "stream",
     "text": [
      "340\n",
      "8125\n",
      "1017\n",
      "974\n",
      "1012\n",
      "257\n",
      "2450\n"
     ]
    },
    {
     "name": "stderr",
     "output_type": "stream",
     "text": [
      "\n",
      "0: 480x640 3 persons, 1 suitcase, 1 chair, 115.1ms\n"
     ]
    },
    {
     "name": "stdout",
     "output_type": "stream",
     "text": [
      "2403\n",
      "0\n"
     ]
    },
    {
     "name": "stderr",
     "output_type": "stream",
     "text": [
      "Speed: 9.5ms preprocess, 115.1ms inference, 0.0ms postprocess per image at shape (1, 3, 480, 640)\n",
      "\n"
     ]
    },
    {
     "name": "stdout",
     "output_type": "stream",
     "text": [
      "343\n",
      "8234\n",
      "2450\n",
      "0\n",
      "969\n"
     ]
    },
    {
     "name": "stderr",
     "output_type": "stream",
     "text": [
      "0: 480x640 2 persons, 1 cow, 3 chairs, 1 laptop, 128.3ms\n",
      "Speed: 0.0ms preprocess, 128.3ms inference, 0.0ms postprocess per image at shape (1, 3, 480, 640)\n",
      "\n"
     ]
    },
    {
     "name": "stdout",
     "output_type": "stream",
     "text": [
      "341\n",
      "8577\n",
      "974\n",
      "200\n",
      "1014\n",
      "2422\n",
      "1017\n"
     ]
    },
    {
     "name": "stderr",
     "output_type": "stream",
     "text": [
      "0: 480x640 4 persons, 2 chairs, 2 laptops, 129.7ms\n",
      "Speed: 0.0ms preprocess, 129.7ms inference, 0.0ms postprocess per image at shape (1, 3, 480, 640)\n"
     ]
    },
    {
     "name": "stdout",
     "output_type": "stream",
     "text": [
      "0\n",
      "1019\n",
      "2450\n",
      "972\n",
      "2431\n",
      "317\n",
      "2441\n"
     ]
    },
    {
     "name": "stderr",
     "output_type": "stream",
     "text": [
      "\n",
      "0: 480x640 4 persons, 1 suitcase, 2 chairs, 1 laptop, 110.0ms\n",
      "Speed: 2.5ms preprocess, 110.0ms inference, 2.0ms postprocess per image at shape (1, 3, 480, 640)\n"
     ]
    },
    {
     "name": "stdout",
     "output_type": "stream",
     "text": [
      "1011\n",
      "346\n",
      "318\n"
     ]
    },
    {
     "name": "stderr",
     "output_type": "stream",
     "text": [
      "\n"
     ]
    },
    {
     "name": "stdout",
     "output_type": "stream",
     "text": [
      "969\n",
      "2431\n",
      "2673\n",
      "200\n",
      "8234\n",
      "2441\n"
     ]
    },
    {
     "name": "stderr",
     "output_type": "stream",
     "text": [
      "0: 480x640 3 persons, 1 chair, 1 couch, 1 laptop, 110.7ms\n",
      "Speed: 3.1ms preprocess, 110.7ms inference, 6.0ms postprocess per image at shape (1, 3, 480, 640)\n",
      "\n"
     ]
    },
    {
     "name": "stdout",
     "output_type": "stream",
     "text": [
      "346\n",
      "2470\n",
      "319\n",
      "977\n",
      "0\n",
      "979\n"
     ]
    },
    {
     "name": "stderr",
     "output_type": "stream",
     "text": [
      "0: 480x640 2 persons, 2 chairs, 1 laptop, 115.9ms\n",
      "Speed: 0.0ms preprocess, 115.9ms inference, 4.1ms postprocess per image at shape (1, 3, 480, 640)\n",
      "\n"
     ]
    },
    {
     "name": "stdout",
     "output_type": "stream",
     "text": [
      "348\n",
      "0\n",
      "1014\n",
      "974\n",
      "1011\n"
     ]
    },
    {
     "name": "stderr",
     "output_type": "stream",
     "text": [
      "0: 480x640 2 persons, 1 chair, 107.7ms\n",
      "Speed: 0.0ms preprocess, 107.7ms inference, 0.0ms postprocess per image at shape (1, 3, 480, 640)\n",
      "\n",
      "0: 480x640 2 persons, 1 cow, 2 chairs, 2 laptops, 102.5ms\n"
     ]
    },
    {
     "name": "stdout",
     "output_type": "stream",
     "text": [
      "0\n",
      "0\n",
      "976\n"
     ]
    },
    {
     "name": "stderr",
     "output_type": "stream",
     "text": [
      "Speed: 2.5ms preprocess, 102.5ms inference, 0.0ms postprocess per image at shape (1, 3, 480, 640)\n"
     ]
    },
    {
     "name": "stdout",
     "output_type": "stream",
     "text": [
      "0\n",
      "0\n",
      "8459\n",
      "976\n",
      "0\n",
      "1016\n",
      "0\n"
     ]
    },
    {
     "name": "stderr",
     "output_type": "stream",
     "text": [
      "\n",
      "0: 480x640 3 persons, 1 cow, 1 chair, 112.3ms\n",
      "Speed: 0.0ms preprocess, 112.3ms inference, 7.1ms postprocess per image at shape (1, 3, 480, 640)\n",
      "\n"
     ]
    },
    {
     "name": "stdout",
     "output_type": "stream",
     "text": [
      "0\n",
      "0\n",
      "4608\n",
      "8234\n",
      "976\n"
     ]
    },
    {
     "name": "stderr",
     "output_type": "stream",
     "text": [
      "0: 480x640 2 persons, 1 cow, 3 chairs, 120.5ms\n",
      "Speed: 0.0ms preprocess, 120.5ms inference, 0.0ms postprocess per image at shape (1, 3, 480, 640)\n",
      "\n"
     ]
    },
    {
     "name": "stdout",
     "output_type": "stream",
     "text": [
      "0\n",
      "0\n",
      "8125\n",
      "203\n",
      "974\n",
      "0\n"
     ]
    },
    {
     "name": "stderr",
     "output_type": "stream",
     "text": [
      "0: 480x640 2 persons, 1 cow, 3 chairs, 1 laptop, 126.5ms\n",
      "Speed: 0.0ms preprocess, 126.5ms inference, 0.0ms postprocess per image at shape (1, 3, 480, 640)\n",
      "\n"
     ]
    },
    {
     "name": "stdout",
     "output_type": "stream",
     "text": [
      "0\n",
      "0\n",
      "8459\n",
      "0\n",
      "976\n",
      "1016\n",
      "0\n"
     ]
    },
    {
     "name": "stderr",
     "output_type": "stream",
     "text": [
      "0: 480x640 2 persons, 2 chairs, 1 couch, 1 laptop, 127.0ms\n",
      "Speed: 2.9ms preprocess, 127.0ms inference, 0.0ms postprocess per image at shape (1, 3, 480, 640)\n"
     ]
    },
    {
     "name": "stdout",
     "output_type": "stream",
     "text": [
      "0\n",
      "0\n",
      "0\n",
      "980\n",
      "0\n",
      "331\n"
     ]
    },
    {
     "name": "stderr",
     "output_type": "stream",
     "text": [
      "\n",
      "0: 480x640 3 persons, 1 cow, 3 chairs, 123.9ms\n",
      "Speed: 6.1ms preprocess, 123.9ms inference, 0.0ms postprocess per image at shape (1, 3, 480, 640)\n"
     ]
    },
    {
     "name": "stdout",
     "output_type": "stream",
     "text": [
      "0\n",
      "0\n",
      "4608\n",
      "976\n",
      "0\n",
      "8459\n",
      "200\n"
     ]
    },
    {
     "name": "stderr",
     "output_type": "stream",
     "text": [
      "\n",
      "0: 480x640 2 persons, 2 chairs, 128.6ms\n",
      "Speed: 5.6ms preprocess, 128.6ms inference, 2.2ms postprocess per image at shape (1, 3, 480, 640)\n",
      "\n"
     ]
    },
    {
     "name": "stdout",
     "output_type": "stream",
     "text": [
      "0\n",
      "0\n",
      "974\n",
      "1007\n"
     ]
    },
    {
     "name": "stderr",
     "output_type": "stream",
     "text": [
      "0: 480x640 3 persons, 1 cow, 1 chair, 1 laptop, 115.0ms\n",
      "Speed: 5.0ms preprocess, 115.0ms inference, 0.0ms postprocess per image at shape (1, 3, 480, 640)\n"
     ]
    },
    {
     "name": "stdout",
     "output_type": "stream",
     "text": [
      "0\n",
      "0\n",
      "8125\n",
      "1016\n",
      "4475\n",
      "1009\n"
     ]
    }
   ],
   "source": [
    "pipeline.start(config)\n",
    "while True:\n",
    "    frames=pipeline.wait_for_frames()\n",
    "    color=frames.get_color_frame()\n",
    "    color_image=np.asanyarray(color.get_data())\n",
    "    try:\n",
    "        img_distance(color_image)\n",
    "    except:\n",
    "        cv2.namedWindow(\"RGB\",cv2.WINDOW_NORMAL)\n",
    "        cv2.imshow(\"RGB\",color_image)\n",
    "    if cv2.waitKey(1) & 0xFF == ord('q'):\n",
    "        break\n",
    "pipeline.stop()\n",
    "cv2.destroyAllWindows()"
   ]
  },
  {
   "cell_type": "code",
   "execution_count": null,
   "id": "37fbe364",
   "metadata": {},
   "outputs": [],
   "source": [
    "pipeline.stop()"
   ]
  },
  {
   "cell_type": "code",
   "execution_count": null,
   "id": "6a946e3c",
   "metadata": {},
   "outputs": [],
   "source": [
    "pipeline.start(config)\n",
    "while True:\n",
    "    frames=pipeline.wait_for_frames()\n",
    "    color=frames.get_color_frame()\n",
    "    color_image=np.asanyarray(color.get_data())\n",
    "    res=model(color_image)\n",
    "    result=res[0]\n",
    "    box=result.boxes[0]\n",
    "    res_plotted = res[0].plot(boxes=True,labels=False)\n",
    "    cv2.namedWindow('RGB FEED', cv2.WINDOW_AUTOSIZE)\n",
    "    cv2.imshow('RGB FEED', res_plotted)\n",
    "    if cv2.waitKey(1) & 0xFF == ord('q'):\n",
    "        break\n",
    "pipeline.stop()\n",
    "cv2.destroyAllWindows()"
   ]
  },
  {
   "cell_type": "code",
   "execution_count": null,
   "id": "23c6d526",
   "metadata": {},
   "outputs": [],
   "source": []
  },
  {
   "cell_type": "code",
   "execution_count": null,
   "id": "e7db684c",
   "metadata": {},
   "outputs": [],
   "source": [
    "img=cv2.imread(\"ggimg.jpg\")\n",
    "res=model(img)\n",
    "result=res[0]\n",
    "box=result.boxes[0]  #gets the first box\n",
    "for i in range(0,len(result.boxes),1):\n",
    "    box=result.boxes[i]\n",
    "    j=box.xyxy[0].tolist() #gets the coordinates of the box\n",
    "    print(j)\n",
    "    x1=int(j[0])\n",
    "    y1=int(j[1])\n",
    "    x2=int(j[2])\n",
    "    y2=int(j[3])\n",
    "    radius = 100\n",
    "    image=cv2.rectangle(img,(x1,y1),(x2,y2),(255, 0, 0))\n",
    "    xmid=int(x1+(x2-x1)/2)\n",
    "    ymid=int(y1+(y2-y1)/2)\n",
    "    image = cv2.circle(img,(xmid,ymid), radius, (255, 0, 0), 10)\n",
    "    cv2.namedWindow(\"RGB\",cv2.WINDOW_NORMAL)\n",
    "    cv2.imshow(\"RGB\",image)\n",
    "#     cv2.waitKey(1000)\n",
    "cv2.waitKey(0)\n",
    "cv2.destroyAllWindows()"
   ]
  }
 ],
 "metadata": {
  "kernelspec": {
   "display_name": "Python 3 (ipykernel)",
   "language": "python",
   "name": "python3"
  },
  "language_info": {
   "codemirror_mode": {
    "name": "ipython",
    "version": 3
   },
   "file_extension": ".py",
   "mimetype": "text/x-python",
   "name": "python",
   "nbconvert_exporter": "python",
   "pygments_lexer": "ipython3",
   "version": "3.11.3"
  }
 },
 "nbformat": 4,
 "nbformat_minor": 5
}
