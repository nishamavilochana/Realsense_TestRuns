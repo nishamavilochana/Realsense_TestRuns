{
 "cells": [
  {
   "cell_type": "code",
   "execution_count": 1,
   "id": "175180dc",
   "metadata": {},
   "outputs": [],
   "source": [
    "import pyrealsense2 as rs\n",
    "import numpy as np\n",
    "import cv2\n",
    "import ultralytics\n",
    "from ultralytics import YOLO"
   ]
  },
  {
   "cell_type": "code",
   "execution_count": 2,
   "id": "2ce79617",
   "metadata": {},
   "outputs": [],
   "source": [
    "model=YOLO(\"yolov8n.pt\")"
   ]
  },
  {
   "cell_type": "code",
   "execution_count": 3,
   "id": "0f8782fb",
   "metadata": {},
   "outputs": [],
   "source": [
    "def distance(x,y):\n",
    "    frames=pipeline.wait_for_frames()\n",
    "    depth_frame=frames.get_depth_frame()\n",
    "    depth_array = np.array(depth_frame.get_data())\n",
    "    row_index = y\n",
    "    column_index = x\n",
    "    depth_value = depth_array[row_index, column_index]\n",
    "    print(depth_value)\n",
    "    return depth_value"
   ]
  },
  {
   "cell_type": "code",
   "execution_count": 4,
   "id": "359e6408",
   "metadata": {},
   "outputs": [],
   "source": [
    "def img_distance(color_image):\n",
    "    res=model(color_image)\n",
    "    result=res[0]\n",
    "    box=result.boxes[0]  #gets the first box\n",
    "    for i in range(0,len(result.boxes),1):\n",
    "        box=result.boxes[i]\n",
    "        j=box.xyxy[0].tolist() #gets the coordinates of the box\n",
    "        x1=int(j[0])\n",
    "        y1=int(j[1])\n",
    "        x2=int(j[2])\n",
    "        y2=int(j[3])\n",
    "        radius = 10\n",
    "        xmid=int(x1+(x2-x1)/2)\n",
    "        ymid=int(y1+(y2-y1)/2)\n",
    "        z=distance(xmid,ymid)\n",
    "        cv2.putText(color_image, str(z), (xmid,ymid), cv2.FONT_HERSHEY_COMPLEX_SMALL,1, (0, 0, 255), 1)\n",
    "#         image = cv2.circle(color_image,(xmid,ymid), radius, (255, 0, 0), 2)\n",
    "        image=cv2.rectangle(color_image,(int(j[0]),int(j[1])),(int(j[2]),int(j[3])),(255, 0, 0),2)\n",
    "        cv2.namedWindow(\"RGB\",cv2.WINDOW_NORMAL)\n",
    "        cv2.imshow(\"RGB\",color_image)\n",
    "cv2.waitKey(0)\n",
    "cv2.destroyAllWindows()"
   ]
  },
  {
   "cell_type": "code",
   "execution_count": 5,
   "id": "b59976b1",
   "metadata": {},
   "outputs": [],
   "source": [
    "config=rs.config()\n",
    "pipeline=rs.pipeline()\n",
    "config.enable_stream(rs.stream.depth,640,480,rs.format.z16,30)\n",
    "config.enable_stream(rs.stream.color,640,480,rs.format.bgr8,30)"
   ]
  },
  {
   "cell_type": "code",
   "execution_count": 6,
   "id": "761d3d42",
   "metadata": {},
   "outputs": [
    {
     "name": "stderr",
     "output_type": "stream",
     "text": [
      "\n",
      "0: 480x640 1 person, 465.1ms\n",
      "Speed: 12.7ms preprocess, 465.1ms inference, 15.4ms postprocess per image at shape (1, 3, 480, 640)\n",
      "\n"
     ]
    },
    {
     "name": "stdout",
     "output_type": "stream",
     "text": [
      "662\n"
     ]
    },
    {
     "name": "stderr",
     "output_type": "stream",
     "text": [
      "0: 480x640 1 person, 1 chair, 1 dining table, 356.3ms\n",
      "Speed: 11.3ms preprocess, 356.3ms inference, 11.4ms postprocess per image at shape (1, 3, 480, 640)\n",
      "\n"
     ]
    },
    {
     "name": "stdout",
     "output_type": "stream",
     "text": [
      "659\n",
      "749\n",
      "784\n"
     ]
    },
    {
     "name": "stderr",
     "output_type": "stream",
     "text": [
      "0: 480x640 1 person, 1 chair, 1 dining table, 344.6ms\n",
      "Speed: 1.7ms preprocess, 344.6ms inference, 5.1ms postprocess per image at shape (1, 3, 480, 640)\n",
      "\n"
     ]
    },
    {
     "name": "stdout",
     "output_type": "stream",
     "text": [
      "656\n",
      "740\n",
      "791\n"
     ]
    },
    {
     "name": "stderr",
     "output_type": "stream",
     "text": [
      "0: 480x640 1 person, 1 chair, 333.5ms\n",
      "Speed: 5.1ms preprocess, 333.5ms inference, 0.0ms postprocess per image at shape (1, 3, 480, 640)\n",
      "\n"
     ]
    },
    {
     "name": "stdout",
     "output_type": "stream",
     "text": [
      "657\n",
      "746\n"
     ]
    },
    {
     "name": "stderr",
     "output_type": "stream",
     "text": [
      "0: 480x640 1 person, 1 chair, 1 dining table, 327.8ms\n",
      "Speed: 4.9ms preprocess, 327.8ms inference, 0.0ms postprocess per image at shape (1, 3, 480, 640)\n",
      "\n"
     ]
    },
    {
     "name": "stdout",
     "output_type": "stream",
     "text": [
      "658\n",
      "760\n",
      "801\n"
     ]
    },
    {
     "name": "stderr",
     "output_type": "stream",
     "text": [
      "0: 480x640 1 person, 1 chair, 1 dining table, 190.1ms\n",
      "Speed: 0.5ms preprocess, 190.1ms inference, 1.5ms postprocess per image at shape (1, 3, 480, 640)\n",
      "\n"
     ]
    },
    {
     "name": "stdout",
     "output_type": "stream",
     "text": [
      "753\n",
      "658\n",
      "767\n"
     ]
    },
    {
     "name": "stderr",
     "output_type": "stream",
     "text": [
      "0: 480x640 1 person, 1 chair, 1 dining table, 223.7ms\n",
      "Speed: 9.2ms preprocess, 223.7ms inference, 0.0ms postprocess per image at shape (1, 3, 480, 640)\n",
      "\n"
     ]
    },
    {
     "name": "stdout",
     "output_type": "stream",
     "text": [
      "749\n",
      "662\n",
      "799\n"
     ]
    },
    {
     "name": "stderr",
     "output_type": "stream",
     "text": [
      "0: 480x640 1 person, 1 chair, 1 dining table, 209.2ms\n",
      "Speed: 11.4ms preprocess, 209.2ms inference, 2.6ms postprocess per image at shape (1, 3, 480, 640)\n",
      "\n"
     ]
    },
    {
     "name": "stdout",
     "output_type": "stream",
     "text": [
      "662\n",
      "763\n",
      "762\n"
     ]
    },
    {
     "name": "stderr",
     "output_type": "stream",
     "text": [
      "0: 480x640 1 person, 1 chair, 1 dining table, 231.5ms\n",
      "Speed: 0.0ms preprocess, 231.5ms inference, 1.1ms postprocess per image at shape (1, 3, 480, 640)\n",
      "\n"
     ]
    },
    {
     "name": "stdout",
     "output_type": "stream",
     "text": [
      "760\n",
      "658\n",
      "773\n"
     ]
    },
    {
     "name": "stderr",
     "output_type": "stream",
     "text": [
      "0: 480x640 1 person, 1 chair, 1 dining table, 198.9ms\n",
      "Speed: 1.1ms preprocess, 198.9ms inference, 0.0ms postprocess per image at shape (1, 3, 480, 640)\n",
      "\n"
     ]
    },
    {
     "name": "stdout",
     "output_type": "stream",
     "text": [
      "658\n",
      "751\n",
      "792\n"
     ]
    },
    {
     "name": "stderr",
     "output_type": "stream",
     "text": [
      "0: 480x640 1 person, 1 chair, 172.9ms\n",
      "Speed: 7.7ms preprocess, 172.9ms inference, 10.2ms postprocess per image at shape (1, 3, 480, 640)\n",
      "\n"
     ]
    },
    {
     "name": "stdout",
     "output_type": "stream",
     "text": [
      "655\n",
      "755\n"
     ]
    },
    {
     "name": "stderr",
     "output_type": "stream",
     "text": [
      "0: 480x640 1 person, 1 chair, 1 dining table, 176.0ms\n",
      "Speed: 4.0ms preprocess, 176.0ms inference, 3.0ms postprocess per image at shape (1, 3, 480, 640)\n",
      "\n"
     ]
    },
    {
     "name": "stdout",
     "output_type": "stream",
     "text": [
      "646\n",
      "756\n",
      "787\n"
     ]
    },
    {
     "name": "stderr",
     "output_type": "stream",
     "text": [
      "0: 480x640 1 person, 1 chair, 1 dining table, 163.7ms\n",
      "Speed: 3.0ms preprocess, 163.7ms inference, 2.0ms postprocess per image at shape (1, 3, 480, 640)\n",
      "\n"
     ]
    },
    {
     "name": "stdout",
     "output_type": "stream",
     "text": [
      "643\n",
      "747\n",
      "784\n"
     ]
    },
    {
     "name": "stderr",
     "output_type": "stream",
     "text": [
      "0: 480x640 1 person, 1 chair, 1 dining table, 186.3ms\n",
      "Speed: 1.4ms preprocess, 186.3ms inference, 2.0ms postprocess per image at shape (1, 3, 480, 640)\n",
      "\n"
     ]
    },
    {
     "name": "stdout",
     "output_type": "stream",
     "text": [
      "651\n",
      "754\n",
      "785\n"
     ]
    },
    {
     "name": "stderr",
     "output_type": "stream",
     "text": [
      "0: 480x640 1 person, 1 chair, 229.1ms\n",
      "Speed: 0.0ms preprocess, 229.1ms inference, 5.8ms postprocess per image at shape (1, 3, 480, 640)\n",
      "\n"
     ]
    },
    {
     "name": "stdout",
     "output_type": "stream",
     "text": [
      "635\n",
      "753\n"
     ]
    },
    {
     "name": "stderr",
     "output_type": "stream",
     "text": [
      "0: 480x640 1 person, 1 chair, 1 dining table, 191.2ms\n",
      "Speed: 0.0ms preprocess, 191.2ms inference, 0.0ms postprocess per image at shape (1, 3, 480, 640)\n",
      "\n"
     ]
    },
    {
     "name": "stdout",
     "output_type": "stream",
     "text": [
      "0\n",
      "749\n",
      "780\n"
     ]
    },
    {
     "name": "stderr",
     "output_type": "stream",
     "text": [
      "0: 480x640 1 person, 1 chair, 1 dining table, 187.3ms\n",
      "Speed: 9.7ms preprocess, 187.3ms inference, 8.2ms postprocess per image at shape (1, 3, 480, 640)\n",
      "\n"
     ]
    },
    {
     "name": "stdout",
     "output_type": "stream",
     "text": [
      "740\n",
      "778\n",
      "2732\n"
     ]
    },
    {
     "name": "stderr",
     "output_type": "stream",
     "text": [
      "0: 480x640 2 persons, 1 chair, 1 dining table, 1 tv, 1 laptop, 186.9ms\n",
      "Speed: 16.1ms preprocess, 186.9ms inference, 0.0ms postprocess per image at shape (1, 3, 480, 640)\n",
      "\n"
     ]
    },
    {
     "name": "stdout",
     "output_type": "stream",
     "text": [
      "793\n",
      "745\n",
      "819\n",
      "2262\n",
      "780\n",
      "2450\n"
     ]
    },
    {
     "name": "stderr",
     "output_type": "stream",
     "text": [
      "0: 480x640 2 persons, 1 chair, 1 dining table, 1 laptop, 154.3ms\n",
      "Speed: 15.8ms preprocess, 154.3ms inference, 0.0ms postprocess per image at shape (1, 3, 480, 640)\n",
      "\n"
     ]
    },
    {
     "name": "stdout",
     "output_type": "stream",
     "text": [
      "2313\n",
      "2531\n",
      "746\n",
      "3167\n",
      "785\n"
     ]
    },
    {
     "name": "stderr",
     "output_type": "stream",
     "text": [
      "0: 480x640 1 person, 2 chairs, 1 dining table, 1 tv, 1 laptop, 169.5ms\n",
      "Speed: 0.0ms preprocess, 169.5ms inference, 4.1ms postprocess per image at shape (1, 3, 480, 640)\n",
      "\n"
     ]
    },
    {
     "name": "stdout",
     "output_type": "stream",
     "text": [
      "2330\n",
      "2573\n",
      "751\n",
      "780\n",
      "2490\n",
      "2393\n"
     ]
    },
    {
     "name": "stderr",
     "output_type": "stream",
     "text": [
      "0: 480x640 1 chair, 1 dining table, 141.9ms\n",
      "Speed: 0.0ms preprocess, 141.9ms inference, 16.5ms postprocess per image at shape (1, 3, 480, 640)\n",
      "\n"
     ]
    },
    {
     "name": "stdout",
     "output_type": "stream",
     "text": [
      "0\n",
      "794\n"
     ]
    },
    {
     "name": "stderr",
     "output_type": "stream",
     "text": [
      "0: 480x640 1 person, 1 chair, 1 dining table, 164.4ms\n",
      "Speed: 8.5ms preprocess, 164.4ms inference, 5.3ms postprocess per image at shape (1, 3, 480, 640)\n",
      "\n"
     ]
    },
    {
     "name": "stdout",
     "output_type": "stream",
     "text": [
      "2366\n",
      "0\n",
      "749\n"
     ]
    },
    {
     "name": "stderr",
     "output_type": "stream",
     "text": [
      "0: 480x640 4 persons, 1 laptop, 182.4ms\n",
      "Speed: 0.0ms preprocess, 182.4ms inference, 0.0ms postprocess per image at shape (1, 3, 480, 640)\n",
      "\n"
     ]
    },
    {
     "name": "stdout",
     "output_type": "stream",
     "text": [
      "2846\n",
      "2100\n",
      "2221\n",
      "2213\n",
      "2480\n"
     ]
    },
    {
     "name": "stderr",
     "output_type": "stream",
     "text": [
      "0: 480x640 1 bottle, 148.5ms\n",
      "Speed: 10.7ms preprocess, 148.5ms inference, 0.0ms postprocess per image at shape (1, 3, 480, 640)\n",
      "\n",
      "0: 480x640 1 bottle, 127.1ms\n",
      "Speed: 0.0ms preprocess, 127.1ms inference, 15.5ms postprocess per image at shape (1, 3, 480, 640)\n",
      "\n"
     ]
    },
    {
     "name": "stdout",
     "output_type": "stream",
     "text": [
      "1495\n",
      "1363\n"
     ]
    },
    {
     "name": "stderr",
     "output_type": "stream",
     "text": [
      "0: 480x640 (no detections), 163.6ms\n",
      "Speed: 0.0ms preprocess, 163.6ms inference, 0.0ms postprocess per image at shape (1, 3, 480, 640)\n",
      "\n",
      "0: 480x640 1 person, 1 bottle, 1 cup, 1 chair, 3 laptops, 177.3ms\n",
      "Speed: 0.0ms preprocess, 177.3ms inference, 11.4ms postprocess per image at shape (1, 3, 480, 640)\n"
     ]
    },
    {
     "name": "stdout",
     "output_type": "stream",
     "text": [
      "2198\n",
      "1260\n",
      "1127\n",
      "3183\n",
      "744\n",
      "1410\n",
      "298\n"
     ]
    },
    {
     "name": "stderr",
     "output_type": "stream",
     "text": [
      "\n",
      "0: 480x640 2 persons, 1 bottle, 1 cup, 1 chair, 2 laptops, 174.4ms\n",
      "Speed: 0.0ms preprocess, 174.4ms inference, 14.1ms postprocess per image at shape (1, 3, 480, 640)\n"
     ]
    },
    {
     "name": "stdout",
     "output_type": "stream",
     "text": [
      "1123\n",
      "1701\n",
      "1289\n",
      "711\n",
      "2221\n",
      "3285\n",
      "288\n"
     ]
    },
    {
     "name": "stderr",
     "output_type": "stream",
     "text": [
      "\n",
      "0: 480x640 2 persons, 1 bottle, 1 cup, 2 chairs, 2 laptops, 157.8ms\n",
      "Speed: 15.6ms preprocess, 157.8ms inference, 11.0ms postprocess per image at shape (1, 3, 480, 640)\n"
     ]
    },
    {
     "name": "stdout",
     "output_type": "stream",
     "text": [
      "875\n",
      "1348\n",
      "1764\n",
      "724\n",
      "2182\n",
      "0\n",
      "293\n"
     ]
    },
    {
     "name": "stderr",
     "output_type": "stream",
     "text": [
      "\n"
     ]
    },
    {
     "name": "stdout",
     "output_type": "stream",
     "text": [
      "3167\n"
     ]
    },
    {
     "name": "stderr",
     "output_type": "stream",
     "text": [
      "0: 480x640 2 persons, 1 bottle, 1 cup, 2 chairs, 2 laptops, 172.0ms\n",
      "Speed: 7.3ms preprocess, 172.0ms inference, 8.5ms postprocess per image at shape (1, 3, 480, 640)\n"
     ]
    },
    {
     "name": "stdout",
     "output_type": "stream",
     "text": [
      "1057\n",
      "1248\n",
      "861\n",
      "687\n",
      "3529\n",
      "2093\n",
      "295\n",
      "2606\n"
     ]
    },
    {
     "name": "stderr",
     "output_type": "stream",
     "text": [
      "\n",
      "0: 480x640 2 persons, 1 bottle, 1 cup, 3 chairs, 2 laptops, 204.8ms\n",
      "Speed: 0.0ms preprocess, 204.8ms inference, 3.9ms postprocess per image at shape (1, 3, 480, 640)\n"
     ]
    },
    {
     "name": "stdout",
     "output_type": "stream",
     "text": [
      "1328\n",
      "1070\n",
      "853\n",
      "685\n",
      "2093\n",
      "3549\n",
      "2794\n"
     ]
    },
    {
     "name": "stderr",
     "output_type": "stream",
     "text": [
      "\n"
     ]
    },
    {
     "name": "stdout",
     "output_type": "stream",
     "text": [
      "0\n",
      "3103\n"
     ]
    },
    {
     "name": "stderr",
     "output_type": "stream",
     "text": [
      "0: 480x640 2 persons, 1 bottle, 1 cup, 3 chairs, 2 laptops, 204.9ms\n",
      "Speed: 0.0ms preprocess, 204.9ms inference, 0.0ms postprocess per image at shape (1, 3, 480, 640)\n"
     ]
    },
    {
     "name": "stdout",
     "output_type": "stream",
     "text": [
      "1340\n",
      "1048\n",
      "858\n",
      "685\n",
      "2079\n",
      "2998\n",
      "2573\n"
     ]
    },
    {
     "name": "stderr",
     "output_type": "stream",
     "text": [
      "\n"
     ]
    },
    {
     "name": "stdout",
     "output_type": "stream",
     "text": [
      "3569\n",
      "3450\n"
     ]
    },
    {
     "name": "stderr",
     "output_type": "stream",
     "text": [
      "0: 480x640 2 persons, 1 cup, 3 chairs, 2 laptops, 1 vase, 174.4ms\n",
      "Speed: 15.6ms preprocess, 174.4ms inference, 15.5ms postprocess per image at shape (1, 3, 480, 640)\n"
     ]
    },
    {
     "name": "stdout",
     "output_type": "stream",
     "text": [
      "1063\n",
      "855\n",
      "1308\n",
      "680\n",
      "2100\n",
      "3200\n",
      "2769\n"
     ]
    },
    {
     "name": "stderr",
     "output_type": "stream",
     "text": [
      "\n"
     ]
    },
    {
     "name": "stdout",
     "output_type": "stream",
     "text": [
      "0\n",
      "3431\n"
     ]
    },
    {
     "name": "stderr",
     "output_type": "stream",
     "text": [
      "0: 480x640 2 persons, 2 cups, 3 chairs, 2 laptops, 198.3ms\n",
      "Speed: 10.7ms preprocess, 198.3ms inference, 0.0ms postprocess per image at shape (1, 3, 480, 640)\n"
     ]
    },
    {
     "name": "stdout",
     "output_type": "stream",
     "text": [
      "1281\n",
      "1074\n",
      "856\n",
      "3412\n",
      "682\n",
      "3167\n",
      "2072\n"
     ]
    },
    {
     "name": "stderr",
     "output_type": "stream",
     "text": [
      "\n"
     ]
    },
    {
     "name": "stdout",
     "output_type": "stream",
     "text": [
      "3012\n",
      "688\n"
     ]
    },
    {
     "name": "stderr",
     "output_type": "stream",
     "text": [
      "0: 480x640 2 persons, 1 cup, 3 chairs, 2 laptops, 205.4ms\n",
      "Speed: 0.0ms preprocess, 205.4ms inference, 0.0ms postprocess per image at shape (1, 3, 480, 640)\n"
     ]
    },
    {
     "name": "stdout",
     "output_type": "stream",
     "text": [
      "1292\n",
      "1040\n",
      "853\n",
      "679\n",
      "0\n",
      "2045\n",
      "3012\n"
     ]
    },
    {
     "name": "stderr",
     "output_type": "stream",
     "text": [
      "\n"
     ]
    },
    {
     "name": "stdout",
     "output_type": "stream",
     "text": [
      "3135\n"
     ]
    },
    {
     "name": "stderr",
     "output_type": "stream",
     "text": [
      "0: 480x640 2 persons, 2 cups, 3 chairs, 2 laptops, 205.3ms\n",
      "Speed: 0.0ms preprocess, 205.3ms inference, 0.0ms postprocess per image at shape (1, 3, 480, 640)\n"
     ]
    },
    {
     "name": "stdout",
     "output_type": "stream",
     "text": [
      "1311\n",
      "1038\n",
      "855\n",
      "679\n",
      "0\n",
      "2115\n",
      "2998\n"
     ]
    },
    {
     "name": "stderr",
     "output_type": "stream",
     "text": [
      "\n"
     ]
    },
    {
     "name": "stdout",
     "output_type": "stream",
     "text": [
      "3119\n",
      "685\n"
     ]
    },
    {
     "name": "stderr",
     "output_type": "stream",
     "text": [
      "0: 480x640 2 persons, 1 cup, 4 chairs, 2 laptops, 205.9ms\n",
      "Speed: 0.0ms preprocess, 205.9ms inference, 0.6ms postprocess per image at shape (1, 3, 480, 640)\n"
     ]
    },
    {
     "name": "stdout",
     "output_type": "stream",
     "text": [
      "1306\n",
      "855\n",
      "1048\n",
      "685\n",
      "2115\n",
      "0\n",
      "3103\n"
     ]
    },
    {
     "name": "stderr",
     "output_type": "stream",
     "text": [
      "\n"
     ]
    },
    {
     "name": "stdout",
     "output_type": "stream",
     "text": [
      "0\n",
      "3042\n"
     ]
    },
    {
     "name": "stderr",
     "output_type": "stream",
     "text": [
      "0: 480x640 1 person, 2 cups, 3 chairs, 1 laptop, 1 vase, 196.8ms\n",
      "Speed: 16.1ms preprocess, 196.8ms inference, 9.0ms postprocess per image at shape (1, 3, 480, 640)\n"
     ]
    },
    {
     "name": "stdout",
     "output_type": "stream",
     "text": [
      "1253\n",
      "980\n",
      "0\n",
      "643\n",
      "3859\n",
      "650\n",
      "8822\n"
     ]
    },
    {
     "name": "stderr",
     "output_type": "stream",
     "text": [
      "\n"
     ]
    },
    {
     "name": "stdout",
     "output_type": "stream",
     "text": [
      "830\n"
     ]
    },
    {
     "name": "stderr",
     "output_type": "stream",
     "text": [
      "0: 480x640 1 person, 2 cups, 4 chairs, 1 laptop, 1 book, 1 vase, 201.4ms\n",
      "Speed: 1.0ms preprocess, 201.4ms inference, 0.0ms postprocess per image at shape (1, 3, 480, 640)\n"
     ]
    },
    {
     "name": "stdout",
     "output_type": "stream",
     "text": [
      "960\n",
      "1391\n",
      "3012\n",
      "290\n",
      "0\n",
      "0\n",
      "0\n"
     ]
    },
    {
     "name": "stderr",
     "output_type": "stream",
     "text": [
      "\n"
     ]
    },
    {
     "name": "stdout",
     "output_type": "stream",
     "text": [
      "0\n",
      "2093\n",
      "833\n"
     ]
    },
    {
     "name": "stderr",
     "output_type": "stream",
     "text": [
      "0: 480x640 3 persons, 1 bottle, 1 cup, 2 laptops, 158.8ms\n",
      "Speed: 1.1ms preprocess, 158.8ms inference, 0.0ms postprocess per image at shape (1, 3, 480, 640)\n"
     ]
    },
    {
     "name": "stdout",
     "output_type": "stream",
     "text": [
      "1199\n",
      "1072\n",
      "1306\n",
      "0\n",
      "2403\n",
      "707\n",
      "0\n"
     ]
    },
    {
     "name": "stderr",
     "output_type": "stream",
     "text": [
      "\n",
      "0: 480x640 2 persons, 1 cup, 2 laptops, 189.4ms\n",
      "Speed: 0.0ms preprocess, 189.4ms inference, 1.2ms postprocess per image at shape (1, 3, 480, 640)\n",
      "\n"
     ]
    },
    {
     "name": "stdout",
     "output_type": "stream",
     "text": [
      "0\n",
      "0\n",
      "1311\n",
      "1199\n",
      "726\n"
     ]
    },
    {
     "name": "stderr",
     "output_type": "stream",
     "text": [
      "0: 480x640 3 persons, 1 laptop, 158.5ms\n",
      "Speed: 0.0ms preprocess, 158.5ms inference, 0.0ms postprocess per image at shape (1, 3, 480, 640)\n",
      "\n"
     ]
    },
    {
     "name": "stdout",
     "output_type": "stream",
     "text": [
      "0\n",
      "1034\n",
      "1144\n",
      "1121\n"
     ]
    },
    {
     "name": "stderr",
     "output_type": "stream",
     "text": [
      "0: 480x640 2 persons, 1 cup, 1 laptop, 140.0ms\n",
      "Speed: 3.4ms preprocess, 140.0ms inference, 13.6ms postprocess per image at shape (1, 3, 480, 640)\n",
      "\n"
     ]
    },
    {
     "name": "stdout",
     "output_type": "stream",
     "text": [
      "1467\n",
      "1034\n",
      "1123\n",
      "734\n"
     ]
    },
    {
     "name": "stderr",
     "output_type": "stream",
     "text": [
      "0: 480x640 2 persons, 1 cup, 1 laptop, 180.7ms\n",
      "Speed: 0.0ms preprocess, 180.7ms inference, 0.0ms postprocess per image at shape (1, 3, 480, 640)\n",
      "\n"
     ]
    },
    {
     "name": "stdout",
     "output_type": "stream",
     "text": [
      "0\n",
      "1031\n",
      "1105\n",
      "0\n"
     ]
    },
    {
     "name": "stderr",
     "output_type": "stream",
     "text": [
      "0: 480x640 1 person, 1 laptop, 174.0ms\n",
      "Speed: 16.0ms preprocess, 174.0ms inference, 0.0ms postprocess per image at shape (1, 3, 480, 640)\n",
      "\n"
     ]
    },
    {
     "name": "stdout",
     "output_type": "stream",
     "text": [
      "2606\n",
      "962\n"
     ]
    },
    {
     "name": "stderr",
     "output_type": "stream",
     "text": [
      "0: 480x640 1 person, 1 laptop, 148.5ms\n",
      "Speed: 3.8ms preprocess, 148.5ms inference, 16.2ms postprocess per image at shape (1, 3, 480, 640)\n",
      "\n"
     ]
    },
    {
     "name": "stdout",
     "output_type": "stream",
     "text": [
      "972\n",
      "937\n"
     ]
    },
    {
     "name": "stderr",
     "output_type": "stream",
     "text": [
      "0: 480x640 1 person, 3 laptops, 215.9ms\n",
      "Speed: 0.0ms preprocess, 215.9ms inference, 6.2ms postprocess per image at shape (1, 3, 480, 640)\n",
      "\n"
     ]
    },
    {
     "name": "stdout",
     "output_type": "stream",
     "text": [
      "963\n",
      "943\n",
      "0\n",
      "922\n"
     ]
    },
    {
     "name": "stderr",
     "output_type": "stream",
     "text": [
      "0: 480x640 1 person, 3 laptops, 144.6ms\n",
      "Speed: 4.5ms preprocess, 144.6ms inference, 10.5ms postprocess per image at shape (1, 3, 480, 640)\n",
      "\n"
     ]
    },
    {
     "name": "stdout",
     "output_type": "stream",
     "text": [
      "951\n",
      "915\n",
      "922\n",
      "259\n"
     ]
    },
    {
     "name": "stderr",
     "output_type": "stream",
     "text": [
      "0: 480x640 1 person, 3 laptops, 222.2ms\n",
      "Speed: 15.9ms preprocess, 222.2ms inference, 0.0ms postprocess per image at shape (1, 3, 480, 640)\n",
      "\n"
     ]
    },
    {
     "name": "stdout",
     "output_type": "stream",
     "text": [
      "953\n",
      "918\n",
      "947\n",
      "259\n"
     ]
    },
    {
     "name": "stderr",
     "output_type": "stream",
     "text": [
      "0: 480x640 1 person, 3 laptops, 189.5ms\n",
      "Speed: 0.0ms preprocess, 189.5ms inference, 4.5ms postprocess per image at shape (1, 3, 480, 640)\n",
      "\n"
     ]
    },
    {
     "name": "stdout",
     "output_type": "stream",
     "text": [
      "950\n",
      "919\n",
      "931\n",
      "261\n"
     ]
    },
    {
     "name": "stderr",
     "output_type": "stream",
     "text": [
      "0: 480x640 1 person, 3 laptops, 193.4ms\n",
      "Speed: 0.0ms preprocess, 193.4ms inference, 13.3ms postprocess per image at shape (1, 3, 480, 640)\n",
      "\n"
     ]
    },
    {
     "name": "stdout",
     "output_type": "stream",
     "text": [
      "960\n",
      "922\n",
      "929\n",
      "261\n"
     ]
    },
    {
     "name": "stderr",
     "output_type": "stream",
     "text": [
      "0: 480x640 1 person, 3 laptops, 159.6ms\n",
      "Speed: 15.8ms preprocess, 159.6ms inference, 2.2ms postprocess per image at shape (1, 3, 480, 640)\n",
      "\n"
     ]
    },
    {
     "name": "stdout",
     "output_type": "stream",
     "text": [
      "947\n",
      "929\n",
      "946\n",
      "258\n"
     ]
    },
    {
     "name": "stderr",
     "output_type": "stream",
     "text": [
      "0: 480x640 1 person, 2 laptops, 159.3ms\n",
      "Speed: 15.8ms preprocess, 159.3ms inference, 0.0ms postprocess per image at shape (1, 3, 480, 640)\n",
      "\n"
     ]
    },
    {
     "name": "stdout",
     "output_type": "stream",
     "text": [
      "1027\n",
      "1141\n",
      "0\n"
     ]
    },
    {
     "name": "stderr",
     "output_type": "stream",
     "text": [
      "0: 480x640 2 persons, 1 laptop, 169.6ms\n",
      "Speed: 0.0ms preprocess, 169.6ms inference, 0.0ms postprocess per image at shape (1, 3, 480, 640)\n",
      "\n"
     ]
    },
    {
     "name": "stdout",
     "output_type": "stream",
     "text": [
      "0\n",
      "1047\n",
      "1228\n"
     ]
    },
    {
     "name": "stderr",
     "output_type": "stream",
     "text": [
      "0: 480x640 3 persons, 1 cup, 3 laptops, 171.6ms\n",
      "Speed: 0.0ms preprocess, 171.6ms inference, 11.3ms postprocess per image at shape (1, 3, 480, 640)\n"
     ]
    },
    {
     "name": "stdout",
     "output_type": "stream",
     "text": [
      "1052\n",
      "0\n",
      "1165\n",
      "1194\n",
      "759\n",
      "0\n",
      "1170\n"
     ]
    },
    {
     "name": "stderr",
     "output_type": "stream",
     "text": [
      "\n",
      "0: 480x640 2 persons, 1 cup, 1 laptop, 175.4ms\n",
      "Speed: 2.9ms preprocess, 175.4ms inference, 0.0ms postprocess per image at shape (1, 3, 480, 640)\n",
      "\n"
     ]
    },
    {
     "name": "stdout",
     "output_type": "stream",
     "text": [
      "1450\n",
      "1061\n",
      "1176\n",
      "765\n"
     ]
    },
    {
     "name": "stderr",
     "output_type": "stream",
     "text": [
      "0: 480x640 2 persons, 1 cup, 1 laptop, 178.6ms\n",
      "Speed: 12.4ms preprocess, 178.6ms inference, 0.0ms postprocess per image at shape (1, 3, 480, 640)\n",
      "\n"
     ]
    },
    {
     "name": "stdout",
     "output_type": "stream",
     "text": [
      "1070\n",
      "1467\n",
      "1185\n",
      "765\n"
     ]
    },
    {
     "name": "stderr",
     "output_type": "stream",
     "text": [
      "0: 480x640 2 persons, 1 cup, 1 laptop, 206.8ms\n",
      "Speed: 0.0ms preprocess, 206.8ms inference, 0.0ms postprocess per image at shape (1, 3, 480, 640)\n",
      "\n"
     ]
    },
    {
     "name": "stdout",
     "output_type": "stream",
     "text": [
      "1174\n",
      "1477\n",
      "1056\n",
      "0\n"
     ]
    },
    {
     "name": "stderr",
     "output_type": "stream",
     "text": [
      "0: 480x640 3 persons, 1 cup, 1 laptop, 179.5ms\n",
      "Speed: 9.5ms preprocess, 179.5ms inference, 0.0ms postprocess per image at shape (1, 3, 480, 640)\n",
      "\n"
     ]
    },
    {
     "name": "stdout",
     "output_type": "stream",
     "text": [
      "972\n",
      "0\n",
      "1172\n",
      "0\n",
      "833\n"
     ]
    },
    {
     "name": "stderr",
     "output_type": "stream",
     "text": [
      "0: 480x640 1 person, 164.1ms\n",
      "Speed: 0.0ms preprocess, 164.1ms inference, 4.0ms postprocess per image at shape (1, 3, 480, 640)\n",
      "\n",
      "0: 480x640 2 persons, 1 cup, 1 chair, 2 laptops, 157.5ms\n",
      "Speed: 1.8ms preprocess, 157.5ms inference, 0.0ms postprocess per image at shape (1, 3, 480, 640)\n"
     ]
    },
    {
     "name": "stdout",
     "output_type": "stream",
     "text": [
      "2366\n",
      "1331\n"
     ]
    },
    {
     "name": "stderr",
     "output_type": "stream",
     "text": [
      "\n"
     ]
    },
    {
     "name": "stdout",
     "output_type": "stream",
     "text": [
      "1038\n",
      "1129\n",
      "587\n",
      "3469\n",
      "0\n"
     ]
    },
    {
     "name": "stderr",
     "output_type": "stream",
     "text": [
      "0: 480x640 4 persons, 1 bottle, 1 cup, 2 laptops, 138.8ms\n",
      "Speed: 3.5ms preprocess, 138.8ms inference, 15.7ms postprocess per image at shape (1, 3, 480, 640)\n"
     ]
    },
    {
     "name": "stdout",
     "output_type": "stream",
     "text": [
      "1506\n",
      "1273\n",
      "840\n",
      "2375\n",
      "748\n",
      "3216\n",
      "1050\n"
     ]
    },
    {
     "name": "stderr",
     "output_type": "stream",
     "text": [
      "\n"
     ]
    },
    {
     "name": "stdout",
     "output_type": "stream",
     "text": [
      "1843\n"
     ]
    },
    {
     "name": "stderr",
     "output_type": "stream",
     "text": [
      "0: 480x640 3 persons, 1 bottle, 1 cup, 2 laptops, 198.1ms\n",
      "Speed: 0.0ms preprocess, 198.1ms inference, 6.6ms postprocess per image at shape (1, 3, 480, 640)\n"
     ]
    },
    {
     "name": "stdout",
     "output_type": "stream",
     "text": [
      "1156\n",
      "826\n",
      "1433\n",
      "1388\n",
      "749\n",
      "3216\n",
      "1912\n"
     ]
    },
    {
     "name": "stderr",
     "output_type": "stream",
     "text": [
      "\n",
      "0: 480x640 3 persons, 1 bottle, 1 cup, 2 laptops, 158.1ms\n",
      "Speed: 12.2ms preprocess, 158.1ms inference, 0.0ms postprocess per image at shape (1, 3, 480, 640)\n"
     ]
    },
    {
     "name": "stdout",
     "output_type": "stream",
     "text": [
      "1286\n",
      "1555\n",
      "0\n",
      "1375\n",
      "749\n",
      "3233\n",
      "1924\n"
     ]
    },
    {
     "name": "stderr",
     "output_type": "stream",
     "text": [
      "\n",
      "0: 480x640 3 persons, 1 cup, 2 laptops, 158.3ms\n",
      "Speed: 8.5ms preprocess, 158.3ms inference, 0.0ms postprocess per image at shape (1, 3, 480, 640)\n"
     ]
    },
    {
     "name": "stdout",
     "output_type": "stream",
     "text": [
      "1276\n",
      "1460\n",
      "841\n",
      "1375\n",
      "764\n",
      "1900\n"
     ]
    },
    {
     "name": "stderr",
     "output_type": "stream",
     "text": [
      "\n",
      "0: 480x640 3 persons, 1 cup, 2 laptops, 170.7ms\n",
      "Speed: 3.9ms preprocess, 170.7ms inference, 0.0ms postprocess per image at shape (1, 3, 480, 640)\n",
      "\n"
     ]
    },
    {
     "name": "stdout",
     "output_type": "stream",
     "text": [
      "1495\n",
      "1159\n",
      "849\n",
      "1378\n",
      "755\n",
      "1894\n"
     ]
    },
    {
     "name": "stderr",
     "output_type": "stream",
     "text": [
      "0: 480x640 3 persons, 1 cup, 2 laptops, 161.7ms\n",
      "Speed: 0.0ms preprocess, 161.7ms inference, 5.1ms postprocess per image at shape (1, 3, 480, 640)\n",
      "\n"
     ]
    },
    {
     "name": "stdout",
     "output_type": "stream",
     "text": [
      "1470\n",
      "1188\n",
      "839\n",
      "762\n",
      "1375\n",
      "1883\n"
     ]
    },
    {
     "name": "stderr",
     "output_type": "stream",
     "text": [
      "0: 480x640 3 persons, 1 bottle, 1 cup, 2 laptops, 165.5ms\n",
      "Speed: 6.0ms preprocess, 165.5ms inference, 3.0ms postprocess per image at shape (1, 3, 480, 640)\n"
     ]
    },
    {
     "name": "stdout",
     "output_type": "stream",
     "text": [
      "1284\n",
      "1499\n",
      "0\n",
      "741\n",
      "1378\n",
      "1894\n",
      "3233\n"
     ]
    },
    {
     "name": "stderr",
     "output_type": "stream",
     "text": [
      "\n",
      "0: 480x640 3 persons, 1 cup, 2 laptops, 199.5ms\n",
      "Speed: 0.0ms preprocess, 199.5ms inference, 0.0ms postprocess per image at shape (1, 3, 480, 640)\n",
      "\n"
     ]
    },
    {
     "name": "stdout",
     "output_type": "stream",
     "text": [
      "1502\n",
      "1284\n",
      "0\n",
      "753\n",
      "1381\n",
      "1906\n"
     ]
    },
    {
     "name": "stderr",
     "output_type": "stream",
     "text": [
      "0: 480x640 3 persons, 1 cup, 2 laptops, 158.9ms\n",
      "Speed: 13.4ms preprocess, 158.9ms inference, 0.0ms postprocess per image at shape (1, 3, 480, 640)\n",
      "\n"
     ]
    },
    {
     "name": "stdout",
     "output_type": "stream",
     "text": [
      "1276\n",
      "849\n",
      "743\n",
      "1499\n",
      "1375\n",
      "1906\n"
     ]
    },
    {
     "name": "stderr",
     "output_type": "stream",
     "text": [
      "0: 480x640 3 persons, 1 bottle, 1 cup, 3 laptops, 142.5ms\n",
      "Speed: 0.0ms preprocess, 142.5ms inference, 0.0ms postprocess per image at shape (1, 3, 480, 640)\n"
     ]
    },
    {
     "name": "stdout",
     "output_type": "stream",
     "text": [
      "1242\n",
      "0\n",
      "1119\n",
      "728\n",
      "1397\n",
      "1510\n",
      "3216\n"
     ]
    },
    {
     "name": "stderr",
     "output_type": "stream",
     "text": [
      "\n"
     ]
    },
    {
     "name": "stdout",
     "output_type": "stream",
     "text": [
      "1906\n"
     ]
    },
    {
     "name": "stderr",
     "output_type": "stream",
     "text": [
      "0: 480x640 4 persons, 1 bottle, 1 cup, 2 laptops, 175.7ms\n",
      "Speed: 0.0ms preprocess, 175.7ms inference, 0.0ms postprocess per image at shape (1, 3, 480, 640)\n"
     ]
    },
    {
     "name": "stdout",
     "output_type": "stream",
     "text": [
      "1502\n",
      "1233\n",
      "840\n",
      "738\n",
      "1420\n",
      "1888\n",
      "1918\n"
     ]
    },
    {
     "name": "stderr",
     "output_type": "stream",
     "text": [
      "\n"
     ]
    },
    {
     "name": "stdout",
     "output_type": "stream",
     "text": [
      "3250\n"
     ]
    },
    {
     "name": "stderr",
     "output_type": "stream",
     "text": [
      "0: 480x640 4 persons, 1 cup, 2 laptops, 169.6ms\n",
      "Speed: 8.0ms preprocess, 169.6ms inference, 13.3ms postprocess per image at shape (1, 3, 480, 640)\n"
     ]
    },
    {
     "name": "stdout",
     "output_type": "stream",
     "text": [
      "1443\n",
      "1322\n",
      "841\n",
      "1544\n",
      "1906\n",
      "733\n",
      "1877\n"
     ]
    },
    {
     "name": "stderr",
     "output_type": "stream",
     "text": [
      "\n",
      "0: 480x640 3 persons, 1 cup, 2 laptops, 161.7ms\n",
      "Speed: 3.4ms preprocess, 161.7ms inference, 1.9ms postprocess per image at shape (1, 3, 480, 640)\n",
      "\n"
     ]
    },
    {
     "name": "stdout",
     "output_type": "stream",
     "text": [
      "1467\n",
      "1027\n",
      "739\n",
      "841\n",
      "2058\n",
      "1883\n"
     ]
    },
    {
     "name": "stderr",
     "output_type": "stream",
     "text": [
      "0: 480x640 3 persons, 1 bottle, 1 cup, 2 laptops, 167.6ms\n",
      "Speed: 11.1ms preprocess, 167.6ms inference, 0.0ms postprocess per image at shape (1, 3, 480, 640)\n"
     ]
    },
    {
     "name": "stdout",
     "output_type": "stream",
     "text": [
      "1036\n",
      "844\n",
      "760\n",
      "1477\n",
      "0\n",
      "3167\n",
      "1638\n"
     ]
    },
    {
     "name": "stderr",
     "output_type": "stream",
     "text": [
      "\n",
      "0: 480x640 3 persons, 1 cup, 2 laptops, 155.2ms\n",
      "Speed: 18.6ms preprocess, 155.2ms inference, 0.0ms postprocess per image at shape (1, 3, 480, 640)\n",
      "\n"
     ]
    },
    {
     "name": "stdout",
     "output_type": "stream",
     "text": [
      "1612\n",
      "756\n",
      "1429\n",
      "851\n",
      "1883\n",
      "1832\n"
     ]
    },
    {
     "name": "stderr",
     "output_type": "stream",
     "text": [
      "0: 480x640 3 persons, 1 cup, 2 laptops, 126.1ms\n",
      "Speed: 16.6ms preprocess, 126.1ms inference, 0.0ms postprocess per image at shape (1, 3, 480, 640)\n",
      "\n"
     ]
    },
    {
     "name": "stdout",
     "output_type": "stream",
     "text": [
      "1592\n",
      "695\n",
      "1436\n",
      "841\n",
      "1749\n",
      "1871\n"
     ]
    },
    {
     "name": "stderr",
     "output_type": "stream",
     "text": [
      "0: 480x640 3 persons, 1 bottle, 1 cup, 2 laptops, 159.1ms\n",
      "Speed: 15.9ms preprocess, 159.1ms inference, 15.8ms postprocess per image at shape (1, 3, 480, 640)\n"
     ]
    },
    {
     "name": "stdout",
     "output_type": "stream",
     "text": [
      "699\n",
      "1391\n",
      "1596\n",
      "842\n",
      "1780\n",
      "0\n",
      "3200\n"
     ]
    },
    {
     "name": "stderr",
     "output_type": "stream",
     "text": [
      "\n",
      "0: 480x640 2 persons, 1 cup, 2 laptops, 186.4ms\n",
      "Speed: 0.0ms preprocess, 186.4ms inference, 2.2ms postprocess per image at shape (1, 3, 480, 640)\n",
      "\n"
     ]
    },
    {
     "name": "stdout",
     "output_type": "stream",
     "text": [
      "1446\n",
      "704\n",
      "1029\n",
      "842\n",
      "1816\n"
     ]
    },
    {
     "name": "stderr",
     "output_type": "stream",
     "text": [
      "0: 480x640 2 persons, 1 bottle, 1 cup, 2 laptops, 156.3ms\n",
      "Speed: 0.0ms preprocess, 156.3ms inference, 0.0ms postprocess per image at shape (1, 3, 480, 640)\n",
      "\n"
     ]
    },
    {
     "name": "stdout",
     "output_type": "stream",
     "text": [
      "1617\n",
      "726\n",
      "1439\n",
      "1806\n",
      "845\n",
      "3233\n"
     ]
    },
    {
     "name": "stderr",
     "output_type": "stream",
     "text": [
      "0: 480x640 2 persons, 1 cup, 2 laptops, 159.7ms\n",
      "Speed: 3.7ms preprocess, 159.7ms inference, 0.0ms postprocess per image at shape (1, 3, 480, 640)\n",
      "\n"
     ]
    },
    {
     "name": "stdout",
     "output_type": "stream",
     "text": [
      "1596\n",
      "1426\n",
      "0\n",
      "847\n",
      "1806\n"
     ]
    },
    {
     "name": "stderr",
     "output_type": "stream",
     "text": [
      "0: 480x640 3 persons, 1 cup, 2 laptops, 151.4ms\n",
      "Speed: 9.2ms preprocess, 151.4ms inference, 0.0ms postprocess per image at shape (1, 3, 480, 640)\n"
     ]
    },
    {
     "name": "stdout",
     "output_type": "stream",
     "text": [
      "1070\n",
      "738\n",
      "1460\n",
      "0\n",
      "1385\n",
      "1877\n"
     ]
    },
    {
     "name": "stderr",
     "output_type": "stream",
     "text": [
      "\n",
      "0: 480x640 3 persons, 1 bottle, 1 cup, 2 laptops, 129.9ms\n",
      "Speed: 1.7ms preprocess, 129.9ms inference, 0.0ms postprocess per image at shape (1, 3, 480, 640)\n"
     ]
    },
    {
     "name": "stdout",
     "output_type": "stream",
     "text": [
      "772\n",
      "1047\n",
      "1481\n",
      "833\n",
      "1394\n",
      "3216\n",
      "1900\n"
     ]
    },
    {
     "name": "stderr",
     "output_type": "stream",
     "text": [
      "\n",
      "0: 480x640 3 persons, 1 cup, 2 laptops, 162.2ms\n",
      "Speed: 0.0ms preprocess, 162.2ms inference, 0.0ms postprocess per image at shape (1, 3, 480, 640)\n",
      "\n"
     ]
    },
    {
     "name": "stdout",
     "output_type": "stream",
     "text": [
      "1536\n",
      "785\n",
      "834\n",
      "1514\n",
      "1460\n",
      "1883\n"
     ]
    },
    {
     "name": "stderr",
     "output_type": "stream",
     "text": [
      "0: 480x640 2 persons, 1 cup, 2 laptops, 153.9ms\n",
      "Speed: 3.4ms preprocess, 153.9ms inference, 0.0ms postprocess per image at shape (1, 3, 480, 640)\n",
      "\n"
     ]
    },
    {
     "name": "stdout",
     "output_type": "stream",
     "text": [
      "1769\n",
      "716\n",
      "1372\n",
      "795\n",
      "1883\n"
     ]
    },
    {
     "name": "stderr",
     "output_type": "stream",
     "text": [
      "0: 480x640 3 persons, 1 cup, 2 laptops, 159.8ms\n",
      "Speed: 5.0ms preprocess, 159.8ms inference, 2.5ms postprocess per image at shape (1, 3, 480, 640)\n",
      "\n"
     ]
    },
    {
     "name": "stdout",
     "output_type": "stream",
     "text": [
      "1525\n",
      "1065\n",
      "0\n",
      "1906\n",
      "1354\n",
      "856\n"
     ]
    },
    {
     "name": "stderr",
     "output_type": "stream",
     "text": [
      "0: 480x640 3 persons, 1 cup, 2 laptops, 156.5ms\n",
      "Speed: 2.2ms preprocess, 156.5ms inference, 0.0ms postprocess per image at shape (1, 3, 480, 640)\n",
      "\n"
     ]
    },
    {
     "name": "stdout",
     "output_type": "stream",
     "text": [
      "1460\n",
      "1067\n",
      "833\n",
      "1888\n",
      "860\n",
      "1429\n"
     ]
    },
    {
     "name": "stderr",
     "output_type": "stream",
     "text": [
      "0: 480x640 3 persons, 1 cup, 2 laptops, 156.9ms\n",
      "Speed: 5.7ms preprocess, 156.9ms inference, 5.4ms postprocess per image at shape (1, 3, 480, 640)\n",
      "\n"
     ]
    },
    {
     "name": "stdout",
     "output_type": "stream",
     "text": [
      "1502\n",
      "1067\n",
      "951\n",
      "1906\n",
      "1470\n",
      "866\n"
     ]
    },
    {
     "name": "stderr",
     "output_type": "stream",
     "text": [
      "0: 480x640 3 persons, 1 cup, 2 laptops, 154.4ms\n",
      "Speed: 4.6ms preprocess, 154.4ms inference, 0.0ms postprocess per image at shape (1, 3, 480, 640)\n"
     ]
    },
    {
     "name": "stdout",
     "output_type": "stream",
     "text": [
      "1067\n",
      "1463\n",
      "0\n",
      "1391\n",
      "1912\n",
      "862\n"
     ]
    },
    {
     "name": "stderr",
     "output_type": "stream",
     "text": [
      "\n",
      "0: 480x640 2 persons, 1 cup, 2 laptops, 157.0ms\n",
      "Speed: 1.8ms preprocess, 157.0ms inference, 0.0ms postprocess per image at shape (1, 3, 480, 640)\n",
      "\n"
     ]
    },
    {
     "name": "stdout",
     "output_type": "stream",
     "text": [
      "1085\n",
      "1463\n",
      "944\n",
      "1871\n",
      "861\n"
     ]
    },
    {
     "name": "stderr",
     "output_type": "stream",
     "text": [
      "0: 480x640 1 person, 1 cup, 2 laptops, 155.6ms\n",
      "Speed: 3.1ms preprocess, 155.6ms inference, 3.6ms postprocess per image at shape (1, 3, 480, 640)\n",
      "\n"
     ]
    },
    {
     "name": "stdout",
     "output_type": "stream",
     "text": [
      "1067\n",
      "947\n",
      "1413\n",
      "856\n"
     ]
    },
    {
     "name": "stderr",
     "output_type": "stream",
     "text": [
      "0: 480x640 2 persons, 1 cup, 2 laptops, 154.2ms\n",
      "Speed: 15.8ms preprocess, 154.2ms inference, 4.7ms postprocess per image at shape (1, 3, 480, 640)\n",
      "\n"
     ]
    },
    {
     "name": "stdout",
     "output_type": "stream",
     "text": [
      "1081\n",
      "1495\n",
      "954\n",
      "1918\n",
      "858\n"
     ]
    },
    {
     "name": "stderr",
     "output_type": "stream",
     "text": [
      "0: 480x640 2 persons, 1 cup, 2 laptops, 143.5ms\n",
      "Speed: 15.7ms preprocess, 143.5ms inference, 11.1ms postprocess per image at shape (1, 3, 480, 640)\n",
      "\n"
     ]
    },
    {
     "name": "stdout",
     "output_type": "stream",
     "text": [
      "1080\n",
      "1488\n",
      "0\n",
      "866\n",
      "1918\n"
     ]
    },
    {
     "name": "stderr",
     "output_type": "stream",
     "text": [
      "0: 480x640 2 persons, 1 cup, 2 laptops, 157.6ms\n",
      "Speed: 8.5ms preprocess, 157.6ms inference, 1.0ms postprocess per image at shape (1, 3, 480, 640)\n",
      "\n"
     ]
    },
    {
     "name": "stdout",
     "output_type": "stream",
     "text": [
      "1078\n",
      "1488\n",
      "944\n",
      "858\n",
      "1918\n"
     ]
    },
    {
     "name": "stderr",
     "output_type": "stream",
     "text": [
      "0: 480x640 2 persons, 1 cup, 2 laptops, 153.1ms\n",
      "Speed: 0.0ms preprocess, 153.1ms inference, 8.1ms postprocess per image at shape (1, 3, 480, 640)\n",
      "\n"
     ]
    },
    {
     "name": "stdout",
     "output_type": "stream",
     "text": [
      "1091\n",
      "0\n",
      "1463\n",
      "1918\n",
      "852\n"
     ]
    },
    {
     "name": "stderr",
     "output_type": "stream",
     "text": [
      "0: 480x640 2 persons, 1 cup, 2 laptops, 158.3ms\n",
      "Speed: 0.0ms preprocess, 158.3ms inference, 0.0ms postprocess per image at shape (1, 3, 480, 640)\n",
      "\n"
     ]
    },
    {
     "name": "stdout",
     "output_type": "stream",
     "text": [
      "1076\n",
      "1453\n",
      "920\n",
      "1918\n",
      "861\n"
     ]
    },
    {
     "name": "stderr",
     "output_type": "stream",
     "text": [
      "0: 480x640 2 persons, 1 cup, 2 laptops, 145.4ms\n",
      "Speed: 0.0ms preprocess, 145.4ms inference, 14.0ms postprocess per image at shape (1, 3, 480, 640)\n",
      "\n"
     ]
    },
    {
     "name": "stdout",
     "output_type": "stream",
     "text": [
      "1095\n",
      "1463\n",
      "930\n",
      "1912\n",
      "858\n"
     ]
    },
    {
     "name": "stderr",
     "output_type": "stream",
     "text": [
      "0: 480x640 2 persons, 1 cup, 2 laptops, 158.0ms\n",
      "Speed: 0.6ms preprocess, 158.0ms inference, 0.0ms postprocess per image at shape (1, 3, 480, 640)\n",
      "\n"
     ]
    },
    {
     "name": "stdout",
     "output_type": "stream",
     "text": [
      "1091\n",
      "933\n",
      "1495\n",
      "1912\n",
      "854\n"
     ]
    },
    {
     "name": "stderr",
     "output_type": "stream",
     "text": [
      "0: 480x640 2 persons, 1 cup, 2 laptops, 158.8ms\n",
      "Speed: 0.0ms preprocess, 158.8ms inference, 5.4ms postprocess per image at shape (1, 3, 480, 640)\n",
      "\n"
     ]
    },
    {
     "name": "stdout",
     "output_type": "stream",
     "text": [
      "1068\n",
      "1484\n",
      "0\n",
      "1918\n",
      "856\n"
     ]
    },
    {
     "name": "stderr",
     "output_type": "stream",
     "text": [
      "0: 480x640 2 persons, 1 cup, 2 laptops, 163.2ms\n",
      "Speed: 0.0ms preprocess, 163.2ms inference, 0.0ms postprocess per image at shape (1, 3, 480, 640)\n",
      "\n"
     ]
    },
    {
     "name": "stdout",
     "output_type": "stream",
     "text": [
      "1074\n",
      "1439\n",
      "927\n",
      "1918\n",
      "860\n"
     ]
    },
    {
     "name": "stderr",
     "output_type": "stream",
     "text": [
      "0: 480x640 2 persons, 1 cup, 2 laptops, 155.0ms\n",
      "Speed: 4.6ms preprocess, 155.0ms inference, 0.0ms postprocess per image at shape (1, 3, 480, 640)\n",
      "\n"
     ]
    },
    {
     "name": "stdout",
     "output_type": "stream",
     "text": [
      "1081\n",
      "1484\n",
      "922\n",
      "1906\n",
      "861\n"
     ]
    },
    {
     "name": "stderr",
     "output_type": "stream",
     "text": [
      "0: 480x640 2 persons, 1 cup, 2 laptops, 139.2ms\n",
      "Speed: 3.3ms preprocess, 139.2ms inference, 0.0ms postprocess per image at shape (1, 3, 480, 640)\n",
      "\n"
     ]
    },
    {
     "name": "stdout",
     "output_type": "stream",
     "text": [
      "1076\n",
      "1481\n",
      "920\n",
      "1918\n",
      "855\n"
     ]
    },
    {
     "name": "stderr",
     "output_type": "stream",
     "text": [
      "0: 480x640 2 persons, 1 cup, 2 laptops, 157.3ms\n",
      "Speed: 9.0ms preprocess, 157.3ms inference, 0.0ms postprocess per image at shape (1, 3, 480, 640)\n",
      "\n"
     ]
    },
    {
     "name": "stdout",
     "output_type": "stream",
     "text": [
      "1083\n",
      "1502\n",
      "929\n",
      "845\n",
      "1906\n"
     ]
    },
    {
     "name": "stderr",
     "output_type": "stream",
     "text": [
      "0: 480x640 2 persons, 1 cup, 2 laptops, 157.0ms\n",
      "Speed: 18.2ms preprocess, 157.0ms inference, 13.1ms postprocess per image at shape (1, 3, 480, 640)\n",
      "\n"
     ]
    },
    {
     "name": "stdout",
     "output_type": "stream",
     "text": [
      "1091\n",
      "1510\n",
      "930\n",
      "1924\n",
      "855\n"
     ]
    },
    {
     "name": "stderr",
     "output_type": "stream",
     "text": [
      "0: 480x640 2 persons, 1 cup, 2 laptops, 142.9ms\n",
      "Speed: 16.2ms preprocess, 142.9ms inference, 0.0ms postprocess per image at shape (1, 3, 480, 640)\n",
      "\n"
     ]
    },
    {
     "name": "stdout",
     "output_type": "stream",
     "text": [
      "1070\n",
      "920\n",
      "1467\n",
      "1912\n",
      "858\n"
     ]
    },
    {
     "name": "stderr",
     "output_type": "stream",
     "text": [
      "0: 480x640 2 persons, 1 cup, 2 laptops, 143.2ms\n",
      "Speed: 16.0ms preprocess, 143.2ms inference, 15.9ms postprocess per image at shape (1, 3, 480, 640)\n",
      "\n"
     ]
    },
    {
     "name": "stdout",
     "output_type": "stream",
     "text": [
      "1083\n",
      "1492\n",
      "908\n",
      "1918\n",
      "862\n"
     ]
    },
    {
     "name": "stderr",
     "output_type": "stream",
     "text": [
      "0: 480x640 2 persons, 1 cup, 2 laptops, 158.2ms\n",
      "Speed: 8.4ms preprocess, 158.2ms inference, 0.0ms postprocess per image at shape (1, 3, 480, 640)\n",
      "\n"
     ]
    },
    {
     "name": "stdout",
     "output_type": "stream",
     "text": [
      "1091\n",
      "912\n",
      "1453\n",
      "855\n",
      "1906\n"
     ]
    },
    {
     "name": "stderr",
     "output_type": "stream",
     "text": [
      "0: 480x640 2 persons, 1 cup, 2 laptops, 142.8ms\n",
      "Speed: 15.8ms preprocess, 142.8ms inference, 11.9ms postprocess per image at shape (1, 3, 480, 640)\n",
      "\n"
     ]
    },
    {
     "name": "stdout",
     "output_type": "stream",
     "text": [
      "1083\n",
      "1470\n",
      "919\n",
      "1912\n",
      "867\n"
     ]
    },
    {
     "name": "stderr",
     "output_type": "stream",
     "text": [
      "0: 480x640 2 persons, 1 cup, 2 laptops, 156.5ms\n",
      "Speed: 0.0ms preprocess, 156.5ms inference, 9.0ms postprocess per image at shape (1, 3, 480, 640)\n",
      "\n"
     ]
    },
    {
     "name": "stdout",
     "output_type": "stream",
     "text": [
      "1065\n",
      "1450\n",
      "919\n",
      "1912\n",
      "856\n"
     ]
    },
    {
     "name": "stderr",
     "output_type": "stream",
     "text": [
      "0: 480x640 2 persons, 1 cup, 2 laptops, 173.9ms\n",
      "Speed: 0.0ms preprocess, 173.9ms inference, 0.0ms postprocess per image at shape (1, 3, 480, 640)\n",
      "\n"
     ]
    },
    {
     "name": "stdout",
     "output_type": "stream",
     "text": [
      "1080\n",
      "1495\n",
      "912\n",
      "1912\n",
      "851\n"
     ]
    },
    {
     "name": "stderr",
     "output_type": "stream",
     "text": [
      "0: 480x640 2 persons, 1 cup, 2 laptops, 175.1ms\n",
      "Speed: 15.3ms preprocess, 175.1ms inference, 0.0ms postprocess per image at shape (1, 3, 480, 640)\n",
      "\n"
     ]
    },
    {
     "name": "stdout",
     "output_type": "stream",
     "text": [
      "1083\n",
      "1499\n",
      "904\n",
      "1900\n",
      "849\n"
     ]
    },
    {
     "name": "stderr",
     "output_type": "stream",
     "text": [
      "0: 480x640 2 persons, 1 cup, 2 laptops, 166.7ms\n",
      "Speed: 10.0ms preprocess, 166.7ms inference, 0.0ms postprocess per image at shape (1, 3, 480, 640)\n",
      "\n"
     ]
    },
    {
     "name": "stdout",
     "output_type": "stream",
     "text": [
      "1065\n",
      "904\n",
      "1443\n",
      "854\n",
      "1924\n"
     ]
    },
    {
     "name": "stderr",
     "output_type": "stream",
     "text": [
      "0: 480x640 2 persons, 1 cup, 2 laptops, 164.4ms\n",
      "Speed: 0.0ms preprocess, 164.4ms inference, 0.0ms postprocess per image at shape (1, 3, 480, 640)\n",
      "\n"
     ]
    },
    {
     "name": "stdout",
     "output_type": "stream",
     "text": [
      "1081\n",
      "1488\n",
      "922\n",
      "1894\n",
      "856\n"
     ]
    },
    {
     "name": "stderr",
     "output_type": "stream",
     "text": [
      "0: 480x640 2 persons, 1 cup, 2 laptops, 168.8ms\n",
      "Speed: 0.0ms preprocess, 168.8ms inference, 0.0ms postprocess per image at shape (1, 3, 480, 640)\n",
      "\n"
     ]
    },
    {
     "name": "stdout",
     "output_type": "stream",
     "text": [
      "1081\n",
      "1506\n",
      "915\n",
      "1918\n",
      "853\n"
     ]
    },
    {
     "name": "stderr",
     "output_type": "stream",
     "text": [
      "0: 480x640 2 persons, 1 cup, 2 laptops, 166.2ms\n",
      "Speed: 9.4ms preprocess, 166.2ms inference, 0.0ms postprocess per image at shape (1, 3, 480, 640)\n",
      "\n"
     ]
    },
    {
     "name": "stdout",
     "output_type": "stream",
     "text": [
      "1093\n",
      "1514\n",
      "915\n",
      "1816\n",
      "859\n"
     ]
    },
    {
     "name": "stderr",
     "output_type": "stream",
     "text": [
      "0: 480x640 2 persons, 1 cup, 2 laptops, 136.5ms\n",
      "Speed: 5.5ms preprocess, 136.5ms inference, 0.0ms postprocess per image at shape (1, 3, 480, 640)\n",
      "\n"
     ]
    },
    {
     "name": "stdout",
     "output_type": "stream",
     "text": [
      "1081\n",
      "1453\n",
      "911\n",
      "867\n",
      "1827\n"
     ]
    },
    {
     "name": "stderr",
     "output_type": "stream",
     "text": [
      "0: 480x640 2 persons, 1 cup, 2 laptops, 165.4ms\n",
      "Speed: 0.0ms preprocess, 165.4ms inference, 0.0ms postprocess per image at shape (1, 3, 480, 640)\n",
      "\n"
     ]
    },
    {
     "name": "stdout",
     "output_type": "stream",
     "text": [
      "1080\n",
      "1443\n",
      "1822\n",
      "907\n",
      "875\n"
     ]
    },
    {
     "name": "stderr",
     "output_type": "stream",
     "text": [
      "0: 480x640 2 persons, 2 laptops, 159.1ms\n",
      "Speed: 0.0ms preprocess, 159.1ms inference, 0.0ms postprocess per image at shape (1, 3, 480, 640)\n",
      "\n"
     ]
    },
    {
     "name": "stdout",
     "output_type": "stream",
     "text": [
      "1087\n",
      "1774\n",
      "920\n",
      "1608\n"
     ]
    },
    {
     "name": "stderr",
     "output_type": "stream",
     "text": [
      "0: 480x640 2 persons, 2 laptops, 157.9ms\n",
      "Speed: 0.0ms preprocess, 157.9ms inference, 10.5ms postprocess per image at shape (1, 3, 480, 640)\n",
      "\n"
     ]
    },
    {
     "name": "stdout",
     "output_type": "stream",
     "text": [
      "1083\n",
      "1780\n",
      "1651\n",
      "909\n"
     ]
    },
    {
     "name": "stderr",
     "output_type": "stream",
     "text": [
      "0: 480x640 2 persons, 2 laptops, 155.3ms\n",
      "Speed: 4.3ms preprocess, 155.3ms inference, 14.5ms postprocess per image at shape (1, 3, 480, 640)\n",
      "\n"
     ]
    },
    {
     "name": "stdout",
     "output_type": "stream",
     "text": [
      "1076\n",
      "898\n",
      "1744\n",
      "1612\n"
     ]
    },
    {
     "name": "stderr",
     "output_type": "stream",
     "text": [
      "0: 480x640 2 persons, 2 laptops, 156.0ms\n",
      "Speed: 2.7ms preprocess, 156.0ms inference, 0.0ms postprocess per image at shape (1, 3, 480, 640)\n",
      "\n"
     ]
    },
    {
     "name": "stdout",
     "output_type": "stream",
     "text": [
      "1070\n",
      "911\n",
      "1800\n",
      "1587\n"
     ]
    },
    {
     "name": "stderr",
     "output_type": "stream",
     "text": [
      "0: 480x640 2 persons, 2 laptops, 153.4ms\n",
      "Speed: 3.6ms preprocess, 153.4ms inference, 0.0ms postprocess per image at shape (1, 3, 480, 640)\n",
      "\n"
     ]
    },
    {
     "name": "stdout",
     "output_type": "stream",
     "text": [
      "1072\n",
      "911\n",
      "1769\n",
      "727\n"
     ]
    },
    {
     "name": "stderr",
     "output_type": "stream",
     "text": [
      "0: 480x640 2 persons, 1 cup, 1 bowl, 2 laptops, 156.5ms\n",
      "Speed: 1.8ms preprocess, 156.5ms inference, 0.0ms postprocess per image at shape (1, 3, 480, 640)\n",
      "\n"
     ]
    },
    {
     "name": "stdout",
     "output_type": "stream",
     "text": [
      "1081\n",
      "919\n",
      "1629\n",
      "1800\n",
      "0\n",
      "653\n"
     ]
    },
    {
     "name": "stderr",
     "output_type": "stream",
     "text": [
      "0: 480x640 4 persons, 2 laptops, 166.2ms\n",
      "Speed: 3.3ms preprocess, 166.2ms inference, 0.0ms postprocess per image at shape (1, 3, 480, 640)\n",
      "\n"
     ]
    },
    {
     "name": "stdout",
     "output_type": "stream",
     "text": [
      "1081\n",
      "844\n",
      "0\n",
      "1827\n",
      "822\n",
      "0\n"
     ]
    },
    {
     "name": "stderr",
     "output_type": "stream",
     "text": [
      "0: 480x640 4 persons, 1 laptop, 154.0ms\n",
      "Speed: 0.0ms preprocess, 154.0ms inference, 0.0ms postprocess per image at shape (1, 3, 480, 640)\n",
      "\n"
     ]
    },
    {
     "name": "stdout",
     "output_type": "stream",
     "text": [
      "1083\n",
      "858\n",
      "0\n",
      "1800\n",
      "0\n"
     ]
    },
    {
     "name": "stderr",
     "output_type": "stream",
     "text": [
      "0: 480x640 5 persons, 1 laptop, 158.0ms\n",
      "Speed: 2.4ms preprocess, 158.0ms inference, 0.0ms postprocess per image at shape (1, 3, 480, 640)\n"
     ]
    },
    {
     "name": "stdout",
     "output_type": "stream",
     "text": [
      "1070\n",
      "887\n",
      "1822\n",
      "0\n",
      "0\n",
      "0\n"
     ]
    },
    {
     "name": "stderr",
     "output_type": "stream",
     "text": [
      "\n",
      "0: 480x640 4 persons, 1 laptop, 137.2ms\n",
      "Speed: 0.0ms preprocess, 137.2ms inference, 0.0ms postprocess per image at shape (1, 3, 480, 640)\n",
      "\n"
     ]
    },
    {
     "name": "stdout",
     "output_type": "stream",
     "text": [
      "1067\n",
      "916\n",
      "1816\n",
      "833\n",
      "0\n"
     ]
    },
    {
     "name": "stderr",
     "output_type": "stream",
     "text": [
      "0: 480x640 3 persons, 1 laptop, 155.4ms\n",
      "Speed: 2.8ms preprocess, 155.4ms inference, 13.0ms postprocess per image at shape (1, 3, 480, 640)\n",
      "\n"
     ]
    },
    {
     "name": "stdout",
     "output_type": "stream",
     "text": [
      "899\n",
      "1076\n",
      "1827\n",
      "6054\n"
     ]
    },
    {
     "name": "stderr",
     "output_type": "stream",
     "text": [
      "0: 480x640 4 persons, 1 laptop, 152.7ms\n",
      "Speed: 5.5ms preprocess, 152.7ms inference, 0.0ms postprocess per image at shape (1, 3, 480, 640)\n",
      "\n"
     ]
    },
    {
     "name": "stdout",
     "output_type": "stream",
     "text": [
      "0\n",
      "1074\n",
      "817\n",
      "1866\n",
      "3135\n"
     ]
    },
    {
     "name": "stderr",
     "output_type": "stream",
     "text": [
      "0: 480x640 4 persons, 1 laptop, 159.5ms\n",
      "Speed: 2.6ms preprocess, 159.5ms inference, 6.0ms postprocess per image at shape (1, 3, 480, 640)\n",
      "\n"
     ]
    },
    {
     "name": "stdout",
     "output_type": "stream",
     "text": [
      "1081\n",
      "0\n",
      "4824\n",
      "0\n",
      "1877\n"
     ]
    },
    {
     "name": "stderr",
     "output_type": "stream",
     "text": [
      "0: 480x640 5 persons, 1 laptop, 151.6ms\n",
      "Speed: 6.7ms preprocess, 151.6ms inference, 0.0ms postprocess per image at shape (1, 3, 480, 640)\n"
     ]
    },
    {
     "name": "stdout",
     "output_type": "stream",
     "text": [
      "1091\n",
      "0\n",
      "817\n",
      "0\n",
      "1883\n",
      "3057\n"
     ]
    },
    {
     "name": "stderr",
     "output_type": "stream",
     "text": [
      "\n",
      "0: 480x640 3 persons, 1 laptop, 167.7ms\n",
      "Speed: 0.0ms preprocess, 167.7ms inference, 0.0ms postprocess per image at shape (1, 3, 480, 640)\n",
      "\n"
     ]
    },
    {
     "name": "stdout",
     "output_type": "stream",
     "text": [
      "1068\n",
      "0\n",
      "824\n",
      "0\n"
     ]
    },
    {
     "name": "stderr",
     "output_type": "stream",
     "text": [
      "0: 480x640 5 persons, 1 laptop, 162.3ms\n",
      "Speed: 5.1ms preprocess, 162.3ms inference, 0.0ms postprocess per image at shape (1, 3, 480, 640)\n",
      "\n"
     ]
    },
    {
     "name": "stdout",
     "output_type": "stream",
     "text": [
      "1074\n",
      "0\n",
      "1900\n",
      "0\n",
      "823\n",
      "3103\n"
     ]
    },
    {
     "name": "stderr",
     "output_type": "stream",
     "text": [
      "0: 480x640 4 persons, 1 laptop, 143.0ms\n",
      "Speed: 5.1ms preprocess, 143.0ms inference, 0.0ms postprocess per image at shape (1, 3, 480, 640)\n",
      "\n"
     ]
    },
    {
     "name": "stdout",
     "output_type": "stream",
     "text": [
      "1087\n",
      "0\n",
      "828\n",
      "0\n",
      "1871\n"
     ]
    },
    {
     "name": "stderr",
     "output_type": "stream",
     "text": [
      "0: 480x640 5 persons, 1 laptop, 145.8ms\n",
      "Speed: 4.8ms preprocess, 145.8ms inference, 0.0ms postprocess per image at shape (1, 3, 480, 640)\n",
      "\n"
     ]
    },
    {
     "name": "stdout",
     "output_type": "stream",
     "text": [
      "1063\n",
      "895\n",
      "5062\n",
      "0\n",
      "1420\n",
      "1843\n"
     ]
    },
    {
     "name": "stderr",
     "output_type": "stream",
     "text": [
      "0: 480x640 4 persons, 1 laptop, 156.0ms\n",
      "Speed: 3.8ms preprocess, 156.0ms inference, 4.0ms postprocess per image at shape (1, 3, 480, 640)\n",
      "\n"
     ]
    },
    {
     "name": "stdout",
     "output_type": "stream",
     "text": [
      "1078\n",
      "873\n",
      "824\n",
      "0\n",
      "1849\n"
     ]
    },
    {
     "name": "stderr",
     "output_type": "stream",
     "text": [
      "0: 480x640 3 persons, 1 laptop, 152.0ms\n",
      "Speed: 6.2ms preprocess, 152.0ms inference, 0.0ms postprocess per image at shape (1, 3, 480, 640)\n",
      "\n"
     ]
    },
    {
     "name": "stdout",
     "output_type": "stream",
     "text": [
      "1076\n",
      "873\n",
      "822\n",
      "0\n"
     ]
    },
    {
     "name": "stderr",
     "output_type": "stream",
     "text": [
      "0: 480x640 4 persons, 1 laptop, 155.5ms\n",
      "Speed: 3.4ms preprocess, 155.5ms inference, 3.5ms postprocess per image at shape (1, 3, 480, 640)\n",
      "\n"
     ]
    },
    {
     "name": "stdout",
     "output_type": "stream",
     "text": [
      "1081\n",
      "824\n",
      "0\n",
      "0\n",
      "1843\n"
     ]
    },
    {
     "name": "stderr",
     "output_type": "stream",
     "text": [
      "0: 480x640 4 persons, 1 laptop, 189.6ms\n",
      "Speed: 0.0ms preprocess, 189.6ms inference, 0.7ms postprocess per image at shape (1, 3, 480, 640)\n",
      "\n"
     ]
    },
    {
     "name": "stdout",
     "output_type": "stream",
     "text": [
      "1072\n",
      "0\n",
      "5417\n",
      "0\n",
      "0\n"
     ]
    },
    {
     "name": "stderr",
     "output_type": "stream",
     "text": [
      "0: 480x640 4 persons, 1 cup, 1 laptop, 158.8ms\n",
      "Speed: 3.7ms preprocess, 158.8ms inference, 0.0ms postprocess per image at shape (1, 3, 480, 640)\n",
      "\n"
     ]
    },
    {
     "name": "stdout",
     "output_type": "stream",
     "text": [
      "1080\n",
      "0\n",
      "829\n",
      "0\n",
      "1467\n",
      "692\n"
     ]
    },
    {
     "name": "stderr",
     "output_type": "stream",
     "text": [
      "0: 480x640 4 persons, 1 laptop, 153.0ms\n",
      "Speed: 6.6ms preprocess, 153.0ms inference, 0.0ms postprocess per image at shape (1, 3, 480, 640)\n",
      "\n"
     ]
    },
    {
     "name": "stdout",
     "output_type": "stream",
     "text": [
      "1065\n",
      "824\n",
      "0\n",
      "0\n",
      "1871\n"
     ]
    },
    {
     "name": "stderr",
     "output_type": "stream",
     "text": [
      "0: 480x640 4 persons, 1 laptop, 173.1ms\n",
      "Speed: 0.0ms preprocess, 173.1ms inference, 0.0ms postprocess per image at shape (1, 3, 480, 640)\n",
      "\n"
     ]
    },
    {
     "name": "stdout",
     "output_type": "stream",
     "text": [
      "1085\n",
      "827\n",
      "866\n",
      "0\n",
      "1883\n"
     ]
    },
    {
     "name": "stderr",
     "output_type": "stream",
     "text": [
      "0: 480x640 4 persons, 1 laptop, 154.6ms\n",
      "Speed: 1.5ms preprocess, 154.6ms inference, 15.6ms postprocess per image at shape (1, 3, 480, 640)\n",
      "\n"
     ]
    },
    {
     "name": "stdout",
     "output_type": "stream",
     "text": [
      "1080\n",
      "0\n",
      "904\n",
      "0\n",
      "1877\n"
     ]
    },
    {
     "name": "stderr",
     "output_type": "stream",
     "text": [
      "0: 480x640 4 persons, 1 laptop, 166.6ms\n",
      "Speed: 0.0ms preprocess, 166.6ms inference, 0.0ms postprocess per image at shape (1, 3, 480, 640)\n",
      "\n"
     ]
    },
    {
     "name": "stdout",
     "output_type": "stream",
     "text": [
      "1078\n",
      "0\n",
      "963\n",
      "0\n",
      "1866\n"
     ]
    },
    {
     "name": "stderr",
     "output_type": "stream",
     "text": [
      "0: 480x640 4 persons, 1 laptop, 152.4ms\n",
      "Speed: 5.9ms preprocess, 152.4ms inference, 5.2ms postprocess per image at shape (1, 3, 480, 640)\n",
      "\n"
     ]
    },
    {
     "name": "stdout",
     "output_type": "stream",
     "text": [
      "1076\n",
      "831\n",
      "0\n",
      "0\n",
      "1827\n"
     ]
    },
    {
     "name": "stderr",
     "output_type": "stream",
     "text": [
      "0: 480x640 4 persons, 1 cup, 1 laptop, 174.4ms\n",
      "Speed: 0.0ms preprocess, 174.4ms inference, 0.0ms postprocess per image at shape (1, 3, 480, 640)\n",
      "\n"
     ]
    },
    {
     "name": "stdout",
     "output_type": "stream",
     "text": [
      "1074\n",
      "824\n",
      "0\n",
      "0\n",
      "1849\n",
      "691\n"
     ]
    },
    {
     "name": "stderr",
     "output_type": "stream",
     "text": [
      "0: 480x640 3 persons, 1 laptop, 155.1ms\n",
      "Speed: 12.9ms preprocess, 155.1ms inference, 3.0ms postprocess per image at shape (1, 3, 480, 640)\n",
      "\n"
     ]
    },
    {
     "name": "stdout",
     "output_type": "stream",
     "text": [
      "1083\n",
      "924\n",
      "0\n",
      "0\n"
     ]
    },
    {
     "name": "stderr",
     "output_type": "stream",
     "text": [
      "0: 480x640 3 persons, 1 laptop, 183.4ms\n",
      "Speed: 6.5ms preprocess, 183.4ms inference, 0.0ms postprocess per image at shape (1, 3, 480, 640)\n",
      "\n"
     ]
    },
    {
     "name": "stdout",
     "output_type": "stream",
     "text": [
      "1081\n",
      "0\n",
      "0\n",
      "0\n"
     ]
    },
    {
     "name": "stderr",
     "output_type": "stream",
     "text": [
      "0: 480x640 4 persons, 1 laptop, 199.6ms\n",
      "Speed: 5.3ms preprocess, 199.6ms inference, 6.4ms postprocess per image at shape (1, 3, 480, 640)\n",
      "\n"
     ]
    },
    {
     "name": "stdout",
     "output_type": "stream",
     "text": [
      "1067\n",
      "912\n",
      "0\n",
      "1827\n",
      "0\n"
     ]
    },
    {
     "name": "stderr",
     "output_type": "stream",
     "text": [
      "0: 480x640 4 persons, 2 laptops, 180.1ms\n",
      "Speed: 5.7ms preprocess, 180.1ms inference, 0.0ms postprocess per image at shape (1, 3, 480, 640)\n"
     ]
    },
    {
     "name": "stdout",
     "output_type": "stream",
     "text": [
      "1093\n",
      "894\n",
      "5417\n",
      "1832\n",
      "0\n",
      "688\n"
     ]
    },
    {
     "name": "stderr",
     "output_type": "stream",
     "text": [
      "\n",
      "0: 480x640 5 persons, 2 laptops, 126.4ms\n",
      "Speed: 3.0ms preprocess, 126.4ms inference, 0.0ms postprocess per image at shape (1, 3, 480, 640)\n"
     ]
    },
    {
     "name": "stdout",
     "output_type": "stream",
     "text": [
      "1078\n",
      "930\n",
      "1838\n",
      "0\n",
      "0\n",
      "0\n",
      "688\n"
     ]
    },
    {
     "name": "stderr",
     "output_type": "stream",
     "text": [
      "\n",
      "0: 480x640 5 persons, 1 laptop, 161.3ms\n",
      "Speed: 12.2ms preprocess, 161.3ms inference, 0.0ms postprocess per image at shape (1, 3, 480, 640)\n",
      "\n"
     ]
    },
    {
     "name": "stdout",
     "output_type": "stream",
     "text": [
      "1097\n",
      "930\n",
      "1854\n",
      "0\n",
      "797\n",
      "5665\n"
     ]
    },
    {
     "name": "stderr",
     "output_type": "stream",
     "text": [
      "0: 480x640 4 persons, 1 laptop, 164.1ms\n",
      "Speed: 0.0ms preprocess, 164.1ms inference, 8.5ms postprocess per image at shape (1, 3, 480, 640)\n",
      "\n"
     ]
    },
    {
     "name": "stdout",
     "output_type": "stream",
     "text": [
      "1076\n",
      "923\n",
      "1860\n",
      "802\n",
      "0\n"
     ]
    },
    {
     "name": "stderr",
     "output_type": "stream",
     "text": [
      "0: 480x640 4 persons, 3 laptops, 166.2ms\n",
      "Speed: 13.0ms preprocess, 166.2ms inference, 0.0ms postprocess per image at shape (1, 3, 480, 640)\n"
     ]
    },
    {
     "name": "stdout",
     "output_type": "stream",
     "text": [
      "1078\n",
      "923\n",
      "4714\n",
      "731\n",
      "798\n",
      "1420\n",
      "699\n"
     ]
    },
    {
     "name": "stderr",
     "output_type": "stream",
     "text": [
      "\n",
      "0: 480x640 3 persons, 2 laptops, 158.6ms\n",
      "Speed: 0.0ms preprocess, 158.6ms inference, 0.0ms postprocess per image at shape (1, 3, 480, 640)\n",
      "\n"
     ]
    },
    {
     "name": "stdout",
     "output_type": "stream",
     "text": [
      "1076\n",
      "927\n",
      "724\n",
      "567\n",
      "677\n"
     ]
    },
    {
     "name": "stderr",
     "output_type": "stream",
     "text": [
      "0: 480x640 3 persons, 1 cup, 1 bowl, 2 laptops, 170.3ms\n",
      "Speed: 6.4ms preprocess, 170.3ms inference, 0.0ms postprocess per image at shape (1, 3, 480, 640)\n"
     ]
    },
    {
     "name": "stdout",
     "output_type": "stream",
     "text": [
      "1087\n",
      "550\n",
      "0\n",
      "1720\n",
      "1575\n",
      "883\n",
      "880\n"
     ]
    },
    {
     "name": "stderr",
     "output_type": "stream",
     "text": [
      "\n",
      "0: 480x640 3 persons, 1 cup, 2 laptops, 159.2ms\n",
      "Speed: 15.8ms preprocess, 159.2ms inference, 0.0ms postprocess per image at shape (1, 3, 480, 640)\n",
      "\n"
     ]
    },
    {
     "name": "stdout",
     "output_type": "stream",
     "text": [
      "1083\n",
      "918\n",
      "793\n",
      "1860\n",
      "1600\n",
      "880\n"
     ]
    },
    {
     "name": "stderr",
     "output_type": "stream",
     "text": [
      "0: 480x640 2 persons, 1 cup, 1 bowl, 2 laptops, 161.4ms\n",
      "Speed: 13.6ms preprocess, 161.4ms inference, 0.0ms postprocess per image at shape (1, 3, 480, 640)\n",
      "\n"
     ]
    },
    {
     "name": "stdout",
     "output_type": "stream",
     "text": [
      "1076\n",
      "896\n",
      "0\n",
      "1625\n",
      "885\n",
      "886\n"
     ]
    },
    {
     "name": "stderr",
     "output_type": "stream",
     "text": [
      "0: 480x640 2 persons, 1 cup, 1 bowl, 2 laptops, 157.7ms\n",
      "Speed: 0.0ms preprocess, 157.7ms inference, 0.0ms postprocess per image at shape (1, 3, 480, 640)\n",
      "\n"
     ]
    },
    {
     "name": "stdout",
     "output_type": "stream",
     "text": [
      "1068\n",
      "0\n",
      "1871\n",
      "1596\n",
      "882\n",
      "885\n"
     ]
    },
    {
     "name": "stderr",
     "output_type": "stream",
     "text": [
      "0: 480x640 2 persons, 1 cup, 1 bowl, 2 laptops, 151.8ms\n",
      "Speed: 15.0ms preprocess, 151.8ms inference, 6.5ms postprocess per image at shape (1, 3, 480, 640)\n",
      "\n"
     ]
    },
    {
     "name": "stdout",
     "output_type": "stream",
     "text": [
      "1068\n",
      "919\n",
      "0\n",
      "1866\n",
      "890\n",
      "889\n"
     ]
    },
    {
     "name": "stderr",
     "output_type": "stream",
     "text": [
      "0: 480x640 2 persons, 1 cup, 1 bowl, 2 laptops, 140.1ms\n",
      "Speed: 17.5ms preprocess, 140.1ms inference, 0.0ms postprocess per image at shape (1, 3, 480, 640)\n",
      "\n"
     ]
    },
    {
     "name": "stdout",
     "output_type": "stream",
     "text": [
      "1076\n",
      "0\n",
      "1854\n",
      "1642\n",
      "881\n",
      "877\n"
     ]
    },
    {
     "name": "stderr",
     "output_type": "stream",
     "text": [
      "0: 480x640 2 persons, 1 cup, 1 bowl, 2 laptops, 157.3ms\n",
      "Speed: 1.0ms preprocess, 157.3ms inference, 0.0ms postprocess per image at shape (1, 3, 480, 640)\n"
     ]
    },
    {
     "name": "stdout",
     "output_type": "stream",
     "text": [
      "1081\n",
      "931\n",
      "1860\n",
      "1608\n",
      "892\n",
      "887\n"
     ]
    },
    {
     "name": "stderr",
     "output_type": "stream",
     "text": [
      "\n",
      "0: 480x640 2 persons, 1 cup, 1 bowl, 2 laptops, 165.7ms\n",
      "Speed: 3.1ms preprocess, 165.7ms inference, 15.6ms postprocess per image at shape (1, 3, 480, 640)\n",
      "\n"
     ]
    },
    {
     "name": "stdout",
     "output_type": "stream",
     "text": [
      "1078\n",
      "924\n",
      "1860\n",
      "1608\n",
      "889\n",
      "890\n"
     ]
    },
    {
     "name": "stderr",
     "output_type": "stream",
     "text": [
      "0: 480x640 2 persons, 1 cup, 1 bowl, 1 tv, 2 laptops, 133.8ms\n",
      "Speed: 8.5ms preprocess, 133.8ms inference, 0.0ms postprocess per image at shape (1, 3, 480, 640)\n"
     ]
    },
    {
     "name": "stdout",
     "output_type": "stream",
     "text": [
      "1074\n",
      "915\n",
      "1843\n",
      "1612\n",
      "878\n",
      "889\n",
      "1608\n"
     ]
    },
    {
     "name": "stderr",
     "output_type": "stream",
     "text": [
      "\n",
      "0: 480x640 2 persons, 1 cup, 1 bowl, 2 laptops, 159.1ms\n",
      "Speed: 5.6ms preprocess, 159.1ms inference, 0.0ms postprocess per image at shape (1, 3, 480, 640)\n",
      "\n"
     ]
    },
    {
     "name": "stdout",
     "output_type": "stream",
     "text": [
      "1081\n",
      "895\n",
      "1849\n",
      "1625\n",
      "886\n",
      "881\n"
     ]
    },
    {
     "name": "stderr",
     "output_type": "stream",
     "text": [
      "0: 480x640 2 persons, 1 cup, 1 bowl, 1 tv, 2 laptops, 156.8ms\n",
      "Speed: 3.4ms preprocess, 156.8ms inference, 0.0ms postprocess per image at shape (1, 3, 480, 640)\n"
     ]
    },
    {
     "name": "stdout",
     "output_type": "stream",
     "text": [
      "1078\n",
      "920\n",
      "1843\n",
      "1575\n",
      "889\n",
      "889\n"
     ]
    },
    {
     "name": "stderr",
     "output_type": "stream",
     "text": [
      "\n"
     ]
    },
    {
     "name": "stdout",
     "output_type": "stream",
     "text": [
      "1579\n"
     ]
    },
    {
     "name": "stderr",
     "output_type": "stream",
     "text": [
      "0: 480x640 2 persons, 1 cup, 1 bowl, 1 tv, 2 laptops, 184.9ms\n",
      "Speed: 0.0ms preprocess, 184.9ms inference, 0.0ms postprocess per image at shape (1, 3, 480, 640)\n",
      "\n"
     ]
    },
    {
     "name": "stdout",
     "output_type": "stream",
     "text": [
      "1080\n",
      "1849\n",
      "924\n",
      "1612\n",
      "0\n",
      "881\n",
      "875\n"
     ]
    },
    {
     "name": "stderr",
     "output_type": "stream",
     "text": [
      "0: 480x640 2 persons, 1 bowl, 2 laptops, 166.1ms\n",
      "Speed: 0.0ms preprocess, 166.1ms inference, 2.5ms postprocess per image at shape (1, 3, 480, 640)\n",
      "\n"
     ]
    },
    {
     "name": "stdout",
     "output_type": "stream",
     "text": [
      "1081\n",
      "923\n",
      "1860\n",
      "1596\n",
      "877\n"
     ]
    },
    {
     "name": "stderr",
     "output_type": "stream",
     "text": [
      "0: 480x640 2 persons, 1 bowl, 2 laptops, 166.0ms\n",
      "Speed: 0.0ms preprocess, 166.0ms inference, 0.0ms postprocess per image at shape (1, 3, 480, 640)\n",
      "\n"
     ]
    },
    {
     "name": "stdout",
     "output_type": "stream",
     "text": [
      "1078\n",
      "1849\n",
      "938\n",
      "1592\n",
      "886\n"
     ]
    },
    {
     "name": "stderr",
     "output_type": "stream",
     "text": [
      "0: 480x640 2 persons, 1 bowl, 2 laptops, 150.9ms\n",
      "Speed: 2.4ms preprocess, 150.9ms inference, 0.0ms postprocess per image at shape (1, 3, 480, 640)\n",
      "\n"
     ]
    },
    {
     "name": "stdout",
     "output_type": "stream",
     "text": [
      "1076\n",
      "940\n",
      "1854\n",
      "1621\n",
      "877\n"
     ]
    },
    {
     "name": "stderr",
     "output_type": "stream",
     "text": [
      "0: 480x640 2 persons, 1 bowl, 2 laptops, 158.8ms\n",
      "Speed: 7.6ms preprocess, 158.8ms inference, 0.0ms postprocess per image at shape (1, 3, 480, 640)\n",
      "\n"
     ]
    },
    {
     "name": "stdout",
     "output_type": "stream",
     "text": [
      "1074\n",
      "1854\n",
      "937\n",
      "2005\n",
      "0\n"
     ]
    },
    {
     "name": "stderr",
     "output_type": "stream",
     "text": [
      "0: 480x640 4 persons, 1 bowl, 2 laptops, 150.6ms\n",
      "Speed: 2.0ms preprocess, 150.6ms inference, 0.0ms postprocess per image at shape (1, 3, 480, 640)\n"
     ]
    },
    {
     "name": "stdout",
     "output_type": "stream",
     "text": [
      "1063\n",
      "3569\n",
      "1866\n",
      "946\n",
      "1692\n",
      "882\n",
      "3569\n"
     ]
    },
    {
     "name": "stderr",
     "output_type": "stream",
     "text": [
      "\n",
      "0: 480x640 4 persons, 1 cup, 1 bowl, 2 laptops, 142.6ms\n",
      "Speed: 0.0ms preprocess, 142.6ms inference, 13.4ms postprocess per image at shape (1, 3, 480, 640)\n"
     ]
    },
    {
     "name": "stdout",
     "output_type": "stream",
     "text": [
      "1072\n",
      "0\n",
      "946\n",
      "1843\n",
      "4144\n",
      "877\n",
      "889\n"
     ]
    },
    {
     "name": "stderr",
     "output_type": "stream",
     "text": [
      "\n"
     ]
    },
    {
     "name": "stdout",
     "output_type": "stream",
     "text": [
      "3933\n"
     ]
    },
    {
     "name": "stderr",
     "output_type": "stream",
     "text": [
      "0: 480x640 3 persons, 1 cup, 1 bowl, 2 laptops, 181.6ms\n",
      "Speed: 0.0ms preprocess, 181.6ms inference, 0.0ms postprocess per image at shape (1, 3, 480, 640)\n"
     ]
    },
    {
     "name": "stdout",
     "output_type": "stream",
     "text": [
      "1085\n",
      "940\n",
      "1832\n",
      "4678\n",
      "0\n",
      "882\n",
      "882\n"
     ]
    },
    {
     "name": "stderr",
     "output_type": "stream",
     "text": [
      "\n",
      "0: 480x640 3 persons, 1 cup, 1 bowl, 2 laptops, 158.2ms\n",
      "Speed: 0.0ms preprocess, 158.2ms inference, 0.0ms postprocess per image at shape (1, 3, 480, 640)\n"
     ]
    },
    {
     "name": "stdout",
     "output_type": "stream",
     "text": [
      "1089\n",
      "5020\n",
      "949\n",
      "1600\n",
      "1730\n",
      "880\n"
     ]
    },
    {
     "name": "stderr",
     "output_type": "stream",
     "text": [
      "\n",
      "0: 480x640 4 persons, 1 cup, 1 bowl, 2 laptops, 158.1ms\n"
     ]
    },
    {
     "name": "stdout",
     "output_type": "stream",
     "text": [
      "889\n"
     ]
    },
    {
     "name": "stderr",
     "output_type": "stream",
     "text": [
      "Speed: 15.7ms preprocess, 158.1ms inference, 0.0ms postprocess per image at shape (1, 3, 480, 640)\n"
     ]
    },
    {
     "name": "stdout",
     "output_type": "stream",
     "text": [
      "1072\n",
      "943\n",
      "2480\n",
      "1608\n",
      "883\n",
      "1838\n",
      "0\n"
     ]
    },
    {
     "name": "stderr",
     "output_type": "stream",
     "text": [
      "\n"
     ]
    },
    {
     "name": "stdout",
     "output_type": "stream",
     "text": [
      "0\n"
     ]
    },
    {
     "name": "stderr",
     "output_type": "stream",
     "text": [
      "0: 480x640 4 persons, 1 cup, 1 bowl, 2 laptops, 212.7ms\n",
      "Speed: 0.0ms preprocess, 212.7ms inference, 0.0ms postprocess per image at shape (1, 3, 480, 640)\n"
     ]
    },
    {
     "name": "stdout",
     "output_type": "stream",
     "text": [
      "1087\n",
      "1660\n",
      "944\n",
      "1827\n",
      "2510\n",
      "890\n",
      "2833\n"
     ]
    },
    {
     "name": "stderr",
     "output_type": "stream",
     "text": [
      "\n",
      "0: 480x640 4 persons, 1 cup, 1 bowl, 2 laptops, 157.7ms\n"
     ]
    },
    {
     "name": "stdout",
     "output_type": "stream",
     "text": [
      "881\n"
     ]
    },
    {
     "name": "stderr",
     "output_type": "stream",
     "text": [
      "Speed: 15.5ms preprocess, 157.7ms inference, 0.0ms postprocess per image at shape (1, 3, 480, 640)\n"
     ]
    },
    {
     "name": "stdout",
     "output_type": "stream",
     "text": [
      "1093\n",
      "1608\n",
      "947\n",
      "1849\n",
      "883\n",
      "2757\n",
      "2480\n"
     ]
    },
    {
     "name": "stderr",
     "output_type": "stream",
     "text": [
      "\n"
     ]
    },
    {
     "name": "stdout",
     "output_type": "stream",
     "text": [
      "892\n"
     ]
    },
    {
     "name": "stderr",
     "output_type": "stream",
     "text": [
      "0: 480x640 4 persons, 1 cup, 1 bowl, 2 laptops, 173.8ms\n",
      "Speed: 0.0ms preprocess, 173.8ms inference, 16.6ms postprocess per image at shape (1, 3, 480, 640)\n"
     ]
    },
    {
     "name": "stdout",
     "output_type": "stream",
     "text": [
      "1085\n",
      "1617\n",
      "2480\n",
      "883\n",
      "0\n",
      "1860\n",
      "1481\n"
     ]
    },
    {
     "name": "stderr",
     "output_type": "stream",
     "text": [
      "\n"
     ]
    },
    {
     "name": "stdout",
     "output_type": "stream",
     "text": [
      "883\n"
     ]
    },
    {
     "name": "stderr",
     "output_type": "stream",
     "text": [
      "0: 480x640 5 persons, 1 cup, 1 bowl, 2 laptops, 181.0ms\n",
      "Speed: 0.0ms preprocess, 181.0ms inference, 0.0ms postprocess per image at shape (1, 3, 480, 640)\n"
     ]
    },
    {
     "name": "stdout",
     "output_type": "stream",
     "text": [
      "1076\n",
      "1600\n",
      "950\n",
      "1860\n",
      "2520\n",
      "881\n",
      "2606\n"
     ]
    },
    {
     "name": "stderr",
     "output_type": "stream",
     "text": [
      "\n"
     ]
    },
    {
     "name": "stdout",
     "output_type": "stream",
     "text": [
      "881\n",
      "1450\n"
     ]
    },
    {
     "name": "stderr",
     "output_type": "stream",
     "text": [
      "0: 480x640 4 persons, 1 cup, 1 bowl, 2 laptops, 199.6ms\n",
      "Speed: 0.6ms preprocess, 199.6ms inference, 0.0ms postprocess per image at shape (1, 3, 480, 640)\n"
     ]
    },
    {
     "name": "stdout",
     "output_type": "stream",
     "text": [
      "1085\n",
      "1860\n",
      "1617\n",
      "950\n",
      "2673\n",
      "2562\n",
      "883\n"
     ]
    },
    {
     "name": "stderr",
     "output_type": "stream",
     "text": [
      "\n"
     ]
    },
    {
     "name": "stdout",
     "output_type": "stream",
     "text": [
      "885\n"
     ]
    },
    {
     "name": "stderr",
     "output_type": "stream",
     "text": [
      "0: 480x640 3 persons, 1 cup, 1 bowl, 2 laptops, 189.2ms\n",
      "Speed: 0.0ms preprocess, 189.2ms inference, 0.0ms postprocess per image at shape (1, 3, 480, 640)\n",
      "\n"
     ]
    },
    {
     "name": "stdout",
     "output_type": "stream",
     "text": [
      "1080\n",
      "1843\n",
      "2769\n",
      "1608\n",
      "943\n",
      "873\n",
      "886\n"
     ]
    },
    {
     "name": "stderr",
     "output_type": "stream",
     "text": [
      "0: 480x640 4 persons, 1 cup, 1 bowl, 2 laptops, 176.1ms\n",
      "Speed: 11.1ms preprocess, 176.1ms inference, 3.1ms postprocess per image at shape (1, 3, 480, 640)\n"
     ]
    },
    {
     "name": "stdout",
     "output_type": "stream",
     "text": [
      "1078\n",
      "1849\n",
      "951\n",
      "2899\n",
      "1638\n",
      "0\n",
      "1906\n"
     ]
    },
    {
     "name": "stderr",
     "output_type": "stream",
     "text": [
      "\n"
     ]
    },
    {
     "name": "stdout",
     "output_type": "stream",
     "text": [
      "883\n"
     ]
    },
    {
     "name": "stderr",
     "output_type": "stream",
     "text": [
      "0: 480x640 4 persons, 1 cup, 1 bowl, 1 tv, 2 laptops, 185.3ms\n",
      "Speed: 0.0ms preprocess, 185.3ms inference, 0.0ms postprocess per image at shape (1, 3, 480, 640)\n"
     ]
    },
    {
     "name": "stdout",
     "output_type": "stream",
     "text": [
      "1080\n",
      "1854\n",
      "941\n",
      "1660\n",
      "2673\n",
      "886\n",
      "1849\n"
     ]
    },
    {
     "name": "stderr",
     "output_type": "stream",
     "text": [
      "\n"
     ]
    },
    {
     "name": "stdout",
     "output_type": "stream",
     "text": [
      "891\n",
      "0\n"
     ]
    },
    {
     "name": "stderr",
     "output_type": "stream",
     "text": [
      "0: 480x640 3 persons, 1 bowl, 1 tv, 2 laptops, 190.6ms\n",
      "Speed: 15.6ms preprocess, 190.6ms inference, 0.0ms postprocess per image at shape (1, 3, 480, 640)\n"
     ]
    },
    {
     "name": "stdout",
     "output_type": "stream",
     "text": [
      "1072\n",
      "1849\n",
      "1612\n",
      "2606\n",
      "947\n",
      "883\n",
      "0\n"
     ]
    },
    {
     "name": "stderr",
     "output_type": "stream",
     "text": [
      "\n",
      "0: 480x640 3 persons, 1 bowl, 1 tv, 2 laptops, 172.6ms\n",
      "Speed: 0.0ms preprocess, 172.6ms inference, 0.0ms postprocess per image at shape (1, 3, 480, 640)\n"
     ]
    },
    {
     "name": "stdout",
     "output_type": "stream",
     "text": [
      "1093\n",
      "0\n",
      "927\n",
      "1832\n",
      "1621\n",
      "873\n",
      "1608\n"
     ]
    },
    {
     "name": "stderr",
     "output_type": "stream",
     "text": [
      "\n",
      "0: 480x640 3 persons, 1 bowl, 1 tv, 2 laptops, 150.1ms\n",
      "Speed: 6.3ms preprocess, 150.1ms inference, 0.0ms postprocess per image at shape (1, 3, 480, 640)\n"
     ]
    },
    {
     "name": "stdout",
     "output_type": "stream",
     "text": [
      "1074\n",
      "2562\n",
      "938\n",
      "1849\n",
      "1600\n",
      "885\n",
      "1612\n"
     ]
    },
    {
     "name": "stderr",
     "output_type": "stream",
     "text": [
      "\n",
      "0: 480x640 3 persons, 1 bowl, 2 laptops, 165.3ms\n",
      "Speed: 8.5ms preprocess, 165.3ms inference, 0.0ms postprocess per image at shape (1, 3, 480, 640)\n",
      "\n"
     ]
    },
    {
     "name": "stdout",
     "output_type": "stream",
     "text": [
      "1093\n",
      "957\n",
      "2541\n",
      "1843\n",
      "1592\n",
      "887\n"
     ]
    },
    {
     "name": "stderr",
     "output_type": "stream",
     "text": [
      "0: 480x640 3 persons, 1 bowl, 2 laptops, 164.4ms\n",
      "Speed: 12.3ms preprocess, 164.4ms inference, 0.0ms postprocess per image at shape (1, 3, 480, 640)\n",
      "\n"
     ]
    },
    {
     "name": "stdout",
     "output_type": "stream",
     "text": [
      "1078\n",
      "2531\n",
      "936\n",
      "1849\n",
      "1600\n",
      "889\n"
     ]
    },
    {
     "name": "stderr",
     "output_type": "stream",
     "text": [
      "0: 480x640 3 persons, 1 bowl, 2 laptops, 165.4ms\n",
      "Speed: 1.0ms preprocess, 165.4ms inference, 0.0ms postprocess per image at shape (1, 3, 480, 640)\n",
      "\n"
     ]
    },
    {
     "name": "stdout",
     "output_type": "stream",
     "text": [
      "1080\n",
      "2431\n",
      "947\n",
      "1838\n",
      "1587\n",
      "882\n"
     ]
    },
    {
     "name": "stderr",
     "output_type": "stream",
     "text": [
      "0: 480x640 3 persons, 1 bowl, 2 laptops, 154.6ms\n",
      "Speed: 16.3ms preprocess, 154.6ms inference, 1.2ms postprocess per image at shape (1, 3, 480, 640)\n",
      "\n"
     ]
    },
    {
     "name": "stdout",
     "output_type": "stream",
     "text": [
      "1087\n",
      "4010\n",
      "949\n",
      "1843\n",
      "1612\n",
      "890\n"
     ]
    },
    {
     "name": "stderr",
     "output_type": "stream",
     "text": [
      "0: 480x640 3 persons, 1 bowl, 2 laptops, 141.8ms\n",
      "Speed: 1.9ms preprocess, 141.8ms inference, 0.0ms postprocess per image at shape (1, 3, 480, 640)\n",
      "\n"
     ]
    },
    {
     "name": "stdout",
     "output_type": "stream",
     "text": [
      "1076\n",
      "0\n",
      "2038\n",
      "946\n",
      "1832\n",
      "890\n"
     ]
    },
    {
     "name": "stderr",
     "output_type": "stream",
     "text": [
      "0: 480x640 3 persons, 1 bowl, 2 laptops, 158.4ms\n",
      "Speed: 16.6ms preprocess, 158.4ms inference, 0.0ms postprocess per image at shape (1, 3, 480, 640)\n",
      "\n"
     ]
    },
    {
     "name": "stdout",
     "output_type": "stream",
     "text": [
      "1083\n",
      "3812\n",
      "943\n",
      "1816\n",
      "1764\n",
      "881\n"
     ]
    },
    {
     "name": "stderr",
     "output_type": "stream",
     "text": [
      "0: 480x640 3 persons, 1 cup, 1 bowl, 2 laptops, 142.7ms\n",
      "Speed: 16.2ms preprocess, 142.7ms inference, 0.0ms postprocess per image at shape (1, 3, 480, 640)\n"
     ]
    },
    {
     "name": "stdout",
     "output_type": "stream",
     "text": [
      "1076\n",
      "915\n",
      "1567\n",
      "1838\n",
      "1596\n",
      "881\n",
      "890\n"
     ]
    },
    {
     "name": "stderr",
     "output_type": "stream",
     "text": [
      "\n",
      "0: 480x640 2 persons, 1 cup, 2 laptops, 141.8ms\n",
      "Speed: 0.0ms preprocess, 141.8ms inference, 0.0ms postprocess per image at shape (1, 3, 480, 640)\n",
      "\n"
     ]
    },
    {
     "name": "stdout",
     "output_type": "stream",
     "text": [
      "1078\n",
      "936\n",
      "1822\n",
      "1579\n",
      "876\n"
     ]
    },
    {
     "name": "stderr",
     "output_type": "stream",
     "text": [
      "0: 480x640 2 persons, 1 bowl, 2 laptops, 138.5ms\n",
      "Speed: 2.8ms preprocess, 138.5ms inference, 0.0ms postprocess per image at shape (1, 3, 480, 640)\n",
      "\n"
     ]
    },
    {
     "name": "stdout",
     "output_type": "stream",
     "text": [
      "1076\n",
      "926\n",
      "1838\n",
      "1608\n",
      "882\n"
     ]
    },
    {
     "name": "stderr",
     "output_type": "stream",
     "text": [
      "0: 480x640 2 persons, 1 bowl, 2 laptops, 189.6ms\n",
      "Speed: 3.1ms preprocess, 189.6ms inference, 0.0ms postprocess per image at shape (1, 3, 480, 640)\n",
      "\n"
     ]
    },
    {
     "name": "stdout",
     "output_type": "stream",
     "text": [
      "1080\n",
      "912\n",
      "1822\n",
      "1587\n",
      "890\n"
     ]
    },
    {
     "name": "stderr",
     "output_type": "stream",
     "text": [
      "0: 480x640 2 persons, 1 bowl, 2 laptops, 167.2ms\n",
      "Speed: 2.7ms preprocess, 167.2ms inference, 0.0ms postprocess per image at shape (1, 3, 480, 640)\n",
      "\n"
     ]
    },
    {
     "name": "stdout",
     "output_type": "stream",
     "text": [
      "1076\n",
      "919\n",
      "1832\n",
      "1089\n",
      "894\n"
     ]
    },
    {
     "name": "stderr",
     "output_type": "stream",
     "text": [
      "0: 480x640 2 persons, 1 bowl, 2 laptops, 134.5ms\n",
      "Speed: 7.5ms preprocess, 134.5ms inference, 15.6ms postprocess per image at shape (1, 3, 480, 640)\n",
      "\n"
     ]
    },
    {
     "name": "stdout",
     "output_type": "stream",
     "text": [
      "1089\n",
      "924\n",
      "1822\n",
      "1571\n",
      "882\n"
     ]
    },
    {
     "name": "stderr",
     "output_type": "stream",
     "text": [
      "0: 480x640 2 persons, 1 bowl, 2 laptops, 155.5ms\n",
      "Speed: 7.3ms preprocess, 155.5ms inference, 12.0ms postprocess per image at shape (1, 3, 480, 640)\n",
      "\n"
     ]
    },
    {
     "name": "stdout",
     "output_type": "stream",
     "text": [
      "1074\n",
      "941\n",
      "1827\n",
      "0\n",
      "881\n"
     ]
    },
    {
     "name": "stderr",
     "output_type": "stream",
     "text": [
      "0: 480x640 2 persons, 1 bowl, 2 laptops, 151.3ms\n",
      "Speed: 6.5ms preprocess, 151.3ms inference, 0.0ms postprocess per image at shape (1, 3, 480, 640)\n",
      "\n"
     ]
    },
    {
     "name": "stdout",
     "output_type": "stream",
     "text": [
      "1076\n",
      "923\n",
      "1827\n",
      "1583\n",
      "882\n"
     ]
    },
    {
     "name": "stderr",
     "output_type": "stream",
     "text": [
      "0: 480x640 2 persons, 1 bowl, 2 laptops, 156.1ms\n",
      "Speed: 4.7ms preprocess, 156.1ms inference, 0.0ms postprocess per image at shape (1, 3, 480, 640)\n",
      "\n"
     ]
    },
    {
     "name": "stdout",
     "output_type": "stream",
     "text": [
      "1074\n",
      "912\n",
      "1827\n",
      "1085\n",
      "883\n"
     ]
    },
    {
     "name": "stderr",
     "output_type": "stream",
     "text": [
      "0: 480x640 2 persons, 1 cup, 1 bowl, 2 laptops, 150.3ms\n",
      "Speed: 6.8ms preprocess, 150.3ms inference, 0.0ms postprocess per image at shape (1, 3, 480, 640)\n"
     ]
    },
    {
     "name": "stdout",
     "output_type": "stream",
     "text": [
      "1093\n",
      "0\n",
      "1827\n",
      "0\n",
      "883\n",
      "890\n"
     ]
    },
    {
     "name": "stderr",
     "output_type": "stream",
     "text": [
      "\n",
      "0: 480x640 2 persons, 1 bowl, 2 laptops, 134.2ms\n",
      "Speed: 0.0ms preprocess, 134.2ms inference, 0.0ms postprocess per image at shape (1, 3, 480, 640)\n",
      "\n"
     ]
    },
    {
     "name": "stdout",
     "output_type": "stream",
     "text": [
      "1074\n",
      "927\n",
      "1843\n",
      "0\n",
      "876\n"
     ]
    },
    {
     "name": "stderr",
     "output_type": "stream",
     "text": [
      "0: 480x640 2 persons, 1 cup, 1 bowl, 2 laptops, 154.7ms\n",
      "Speed: 1.7ms preprocess, 154.7ms inference, 1.2ms postprocess per image at shape (1, 3, 480, 640)\n",
      "\n"
     ]
    },
    {
     "name": "stdout",
     "output_type": "stream",
     "text": [
      "1081\n",
      "918\n",
      "1838\n",
      "0\n",
      "890\n",
      "875\n"
     ]
    },
    {
     "name": "stderr",
     "output_type": "stream",
     "text": [
      "0: 480x640 2 persons, 2 laptops, 143.4ms\n",
      "Speed: 4.1ms preprocess, 143.4ms inference, 15.6ms postprocess per image at shape (1, 3, 480, 640)\n",
      "\n"
     ]
    },
    {
     "name": "stdout",
     "output_type": "stream",
     "text": [
      "1076\n",
      "905\n",
      "1571\n",
      "1822\n"
     ]
    },
    {
     "name": "stderr",
     "output_type": "stream",
     "text": [
      "0: 480x640 2 persons, 1 bowl, 2 laptops, 146.5ms\n",
      "Speed: 0.0ms preprocess, 146.5ms inference, 0.0ms postprocess per image at shape (1, 3, 480, 640)\n",
      "\n"
     ]
    },
    {
     "name": "stdout",
     "output_type": "stream",
     "text": [
      "1081\n",
      "919\n",
      "1860\n",
      "0\n",
      "880\n"
     ]
    },
    {
     "name": "stderr",
     "output_type": "stream",
     "text": [
      "0: 480x640 2 persons, 2 laptops, 130.6ms\n",
      "Speed: 11.0ms preprocess, 130.6ms inference, 0.0ms postprocess per image at shape (1, 3, 480, 640)\n",
      "\n"
     ]
    },
    {
     "name": "stdout",
     "output_type": "stream",
     "text": [
      "1080\n",
      "918\n",
      "1860\n",
      "1575\n"
     ]
    },
    {
     "name": "stderr",
     "output_type": "stream",
     "text": [
      "0: 480x640 2 persons, 1 bowl, 2 laptops, 173.6ms\n",
      "Speed: 0.0ms preprocess, 173.6ms inference, 0.0ms postprocess per image at shape (1, 3, 480, 640)\n",
      "\n"
     ]
    },
    {
     "name": "stdout",
     "output_type": "stream",
     "text": [
      "1080\n",
      "900\n",
      "1866\n",
      "0\n",
      "880\n"
     ]
    },
    {
     "name": "stderr",
     "output_type": "stream",
     "text": [
      "0: 480x640 2 persons, 1 bowl, 2 laptops, 132.7ms\n",
      "Speed: 4.0ms preprocess, 132.7ms inference, 0.0ms postprocess per image at shape (1, 3, 480, 640)\n",
      "\n"
     ]
    },
    {
     "name": "stdout",
     "output_type": "stream",
     "text": [
      "1080\n",
      "913\n",
      "1843\n",
      "0\n",
      "886\n"
     ]
    },
    {
     "name": "stderr",
     "output_type": "stream",
     "text": [
      "0: 480x640 2 persons, 1 cup, 2 laptops, 181.5ms\n",
      "Speed: 8.5ms preprocess, 181.5ms inference, 0.0ms postprocess per image at shape (1, 3, 480, 640)\n",
      "\n"
     ]
    },
    {
     "name": "stdout",
     "output_type": "stream",
     "text": [
      "1074\n",
      "911\n",
      "1849\n",
      "1061\n",
      "880\n"
     ]
    },
    {
     "name": "stderr",
     "output_type": "stream",
     "text": [
      "0: 480x640 2 persons, 1 bowl, 2 laptops, 165.1ms\n",
      "Speed: 8.1ms preprocess, 165.1ms inference, 2.5ms postprocess per image at shape (1, 3, 480, 640)\n",
      "\n"
     ]
    },
    {
     "name": "stdout",
     "output_type": "stream",
     "text": [
      "1072\n",
      "915\n",
      "1843\n",
      "1571\n",
      "887\n"
     ]
    },
    {
     "name": "stderr",
     "output_type": "stream",
     "text": [
      "0: 480x640 2 persons, 1 bowl, 2 laptops, 148.3ms\n",
      "Speed: 10.7ms preprocess, 148.3ms inference, 0.0ms postprocess per image at shape (1, 3, 480, 640)\n",
      "\n"
     ]
    },
    {
     "name": "stdout",
     "output_type": "stream",
     "text": [
      "930\n",
      "1083\n",
      "1838\n",
      "1600\n",
      "892\n"
     ]
    },
    {
     "name": "stderr",
     "output_type": "stream",
     "text": [
      "0: 480x640 2 persons, 1 bowl, 2 laptops, 174.7ms\n",
      "Speed: 0.0ms preprocess, 174.7ms inference, 0.0ms postprocess per image at shape (1, 3, 480, 640)\n",
      "\n"
     ]
    },
    {
     "name": "stdout",
     "output_type": "stream",
     "text": [
      "1068\n",
      "901\n",
      "1827\n",
      "1575\n",
      "889\n"
     ]
    },
    {
     "name": "stderr",
     "output_type": "stream",
     "text": [
      "0: 480x640 2 persons, 1 cup, 1 bowl, 2 laptops, 149.1ms\n",
      "Speed: 4.9ms preprocess, 149.1ms inference, 0.0ms postprocess per image at shape (1, 3, 480, 640)\n",
      "\n"
     ]
    },
    {
     "name": "stdout",
     "output_type": "stream",
     "text": [
      "1078\n",
      "912\n",
      "1832\n",
      "1608\n",
      "886\n",
      "887\n"
     ]
    },
    {
     "name": "stderr",
     "output_type": "stream",
     "text": [
      "0: 480x640 2 persons, 1 bowl, 2 laptops, 158.7ms\n",
      "Speed: 15.6ms preprocess, 158.7ms inference, 0.0ms postprocess per image at shape (1, 3, 480, 640)\n",
      "\n"
     ]
    },
    {
     "name": "stdout",
     "output_type": "stream",
     "text": [
      "1076\n",
      "929\n",
      "1832\n",
      "1604\n",
      "886\n"
     ]
    },
    {
     "name": "stderr",
     "output_type": "stream",
     "text": [
      "0: 480x640 2 persons, 2 laptops, 142.2ms\n",
      "Speed: 9.0ms preprocess, 142.2ms inference, 0.0ms postprocess per image at shape (1, 3, 480, 640)\n",
      "\n"
     ]
    },
    {
     "name": "stdout",
     "output_type": "stream",
     "text": [
      "1080\n",
      "923\n",
      "1838\n",
      "1559\n"
     ]
    },
    {
     "name": "stderr",
     "output_type": "stream",
     "text": [
      "0: 480x640 2 persons, 1 bowl, 2 laptops, 169.4ms\n",
      "Speed: 0.0ms preprocess, 169.4ms inference, 0.0ms postprocess per image at shape (1, 3, 480, 640)\n",
      "\n"
     ]
    },
    {
     "name": "stdout",
     "output_type": "stream",
     "text": [
      "1080\n",
      "916\n",
      "1832\n",
      "1592\n",
      "886\n"
     ]
    },
    {
     "name": "stderr",
     "output_type": "stream",
     "text": [
      "0: 480x640 2 persons, 1 cup, 1 bowl, 2 laptops, 145.8ms\n",
      "Speed: 7.5ms preprocess, 145.8ms inference, 0.0ms postprocess per image at shape (1, 3, 480, 640)\n",
      "\n"
     ]
    },
    {
     "name": "stdout",
     "output_type": "stream",
     "text": [
      "1072\n",
      "927\n",
      "1832\n",
      "1596\n",
      "886\n",
      "895\n"
     ]
    },
    {
     "name": "stderr",
     "output_type": "stream",
     "text": [
      "0: 480x640 2 persons, 1 bowl, 2 laptops, 163.0ms\n",
      "Speed: 8.6ms preprocess, 163.0ms inference, 2.5ms postprocess per image at shape (1, 3, 480, 640)\n",
      "\n"
     ]
    },
    {
     "name": "stdout",
     "output_type": "stream",
     "text": [
      "1072\n",
      "936\n",
      "1843\n",
      "1587\n",
      "890\n"
     ]
    },
    {
     "name": "stderr",
     "output_type": "stream",
     "text": [
      "0: 480x640 2 persons, 1 cup, 1 bowl, 2 laptops, 143.2ms\n",
      "Speed: 9.0ms preprocess, 143.2ms inference, 0.0ms postprocess per image at shape (1, 3, 480, 640)\n",
      "\n"
     ]
    },
    {
     "name": "stdout",
     "output_type": "stream",
     "text": [
      "1080\n",
      "934\n",
      "1838\n",
      "1571\n",
      "887\n",
      "889\n"
     ]
    },
    {
     "name": "stderr",
     "output_type": "stream",
     "text": [
      "0: 480x640 2 persons, 1 bowl, 2 laptops, 158.1ms\n",
      "Speed: 8.0ms preprocess, 158.1ms inference, 5.4ms postprocess per image at shape (1, 3, 480, 640)\n",
      "\n"
     ]
    },
    {
     "name": "stdout",
     "output_type": "stream",
     "text": [
      "1081\n",
      "922\n",
      "1838\n",
      "1587\n",
      "878\n"
     ]
    },
    {
     "name": "stderr",
     "output_type": "stream",
     "text": [
      "0: 480x640 2 persons, 1 bowl, 2 laptops, 158.2ms\n",
      "Speed: 15.8ms preprocess, 158.2ms inference, 0.0ms postprocess per image at shape (1, 3, 480, 640)\n",
      "\n"
     ]
    },
    {
     "name": "stdout",
     "output_type": "stream",
     "text": [
      "1074\n",
      "1832\n",
      "926\n",
      "1596\n",
      "895\n"
     ]
    },
    {
     "name": "stderr",
     "output_type": "stream",
     "text": [
      "0: 480x640 2 persons, 1 bowl, 2 laptops, 158.1ms\n",
      "Speed: 14.5ms preprocess, 158.1ms inference, 0.0ms postprocess per image at shape (1, 3, 480, 640)\n",
      "\n"
     ]
    },
    {
     "name": "stdout",
     "output_type": "stream",
     "text": [
      "1085\n",
      "1827\n",
      "0\n",
      "1583\n",
      "883\n"
     ]
    },
    {
     "name": "stderr",
     "output_type": "stream",
     "text": [
      "0: 480x640 2 persons, 1 bowl, 2 laptops, 157.8ms\n",
      "Speed: 10.7ms preprocess, 157.8ms inference, 0.0ms postprocess per image at shape (1, 3, 480, 640)\n",
      "\n"
     ]
    },
    {
     "name": "stdout",
     "output_type": "stream",
     "text": [
      "1089\n",
      "900\n",
      "1838\n",
      "1612\n",
      "881\n"
     ]
    },
    {
     "name": "stderr",
     "output_type": "stream",
     "text": [
      "0: 480x640 2 persons, 1 bowl, 2 laptops, 156.1ms\n",
      "Speed: 10.6ms preprocess, 156.1ms inference, 0.0ms postprocess per image at shape (1, 3, 480, 640)\n",
      "\n"
     ]
    },
    {
     "name": "stdout",
     "output_type": "stream",
     "text": [
      "1085\n",
      "924\n",
      "1827\n",
      "1579\n",
      "892\n"
     ]
    },
    {
     "name": "stderr",
     "output_type": "stream",
     "text": [
      "0: 480x640 2 persons, 1 cup, 2 laptops, 158.2ms\n",
      "Speed: 11.0ms preprocess, 158.2ms inference, 0.0ms postprocess per image at shape (1, 3, 480, 640)\n",
      "\n"
     ]
    },
    {
     "name": "stdout",
     "output_type": "stream",
     "text": [
      "1099\n",
      "916\n",
      "1832\n",
      "1596\n",
      "887\n"
     ]
    },
    {
     "name": "stderr",
     "output_type": "stream",
     "text": [
      "0: 480x640 2 persons, 1 cup, 1 bowl, 2 laptops, 149.0ms\n",
      "Speed: 15.7ms preprocess, 149.0ms inference, 10.0ms postprocess per image at shape (1, 3, 480, 640)\n",
      "\n"
     ]
    },
    {
     "name": "stdout",
     "output_type": "stream",
     "text": [
      "1072\n",
      "909\n",
      "1827\n",
      "1612\n",
      "891\n",
      "887\n"
     ]
    },
    {
     "name": "stderr",
     "output_type": "stream",
     "text": [
      "0: 480x640 2 persons, 1 bowl, 2 laptops, 172.7ms\n",
      "Speed: 2.2ms preprocess, 172.7ms inference, 0.0ms postprocess per image at shape (1, 3, 480, 640)\n",
      "\n"
     ]
    },
    {
     "name": "stdout",
     "output_type": "stream",
     "text": [
      "1083\n",
      "936\n",
      "1827\n",
      "1600\n",
      "891\n"
     ]
    },
    {
     "name": "stderr",
     "output_type": "stream",
     "text": [
      "0: 480x640 2 persons, 1 bowl, 2 laptops, 139.3ms\n",
      "Speed: 3.0ms preprocess, 139.3ms inference, 16.1ms postprocess per image at shape (1, 3, 480, 640)\n",
      "\n"
     ]
    },
    {
     "name": "stdout",
     "output_type": "stream",
     "text": [
      "1081\n",
      "918\n",
      "1827\n",
      "1575\n",
      "871\n"
     ]
    },
    {
     "name": "stderr",
     "output_type": "stream",
     "text": [
      "0: 480x640 2 persons, 1 cup, 1 bowl, 2 laptops, 198.8ms\n",
      "Speed: 4.1ms preprocess, 198.8ms inference, 2.0ms postprocess per image at shape (1, 3, 480, 640)\n",
      "\n"
     ]
    },
    {
     "name": "stdout",
     "output_type": "stream",
     "text": [
      "1078\n",
      "0\n",
      "1843\n",
      "1608\n",
      "882\n",
      "892\n"
     ]
    },
    {
     "name": "stderr",
     "output_type": "stream",
     "text": [
      "0: 480x640 2 persons, 1 bowl, 2 laptops, 164.0ms\n",
      "Speed: 11.0ms preprocess, 164.0ms inference, 0.0ms postprocess per image at shape (1, 3, 480, 640)\n",
      "\n"
     ]
    },
    {
     "name": "stdout",
     "output_type": "stream",
     "text": [
      "1081\n",
      "915\n",
      "1843\n",
      "1592\n",
      "894\n"
     ]
    },
    {
     "name": "stderr",
     "output_type": "stream",
     "text": [
      "0: 480x640 2 persons, 1 bowl, 2 laptops, 150.0ms\n",
      "Speed: 11.8ms preprocess, 150.0ms inference, 16.0ms postprocess per image at shape (1, 3, 480, 640)\n",
      "\n"
     ]
    },
    {
     "name": "stdout",
     "output_type": "stream",
     "text": [
      "1083\n",
      "0\n",
      "1838\n",
      "1587\n",
      "890\n"
     ]
    },
    {
     "name": "stderr",
     "output_type": "stream",
     "text": [
      "0: 480x640 2 persons, 1 bowl, 2 laptops, 154.9ms\n",
      "Speed: 3.1ms preprocess, 154.9ms inference, 0.0ms postprocess per image at shape (1, 3, 480, 640)\n",
      "\n"
     ]
    },
    {
     "name": "stdout",
     "output_type": "stream",
     "text": [
      "1067\n",
      "930\n",
      "1838\n",
      "0\n",
      "881\n"
     ]
    },
    {
     "name": "stderr",
     "output_type": "stream",
     "text": [
      "0: 480x640 2 persons, 1 bowl, 2 laptops, 158.4ms\n",
      "Speed: 0.0ms preprocess, 158.4ms inference, 15.0ms postprocess per image at shape (1, 3, 480, 640)\n",
      "\n"
     ]
    },
    {
     "name": "stdout",
     "output_type": "stream",
     "text": [
      "1087\n",
      "924\n",
      "1838\n",
      "1612\n",
      "894\n"
     ]
    },
    {
     "name": "stderr",
     "output_type": "stream",
     "text": [
      "0: 480x640 2 persons, 1 bowl, 2 laptops, 189.2ms\n",
      "Speed: 0.0ms preprocess, 189.2ms inference, 0.0ms postprocess per image at shape (1, 3, 480, 640)\n",
      "\n"
     ]
    },
    {
     "name": "stdout",
     "output_type": "stream",
     "text": [
      "1085\n",
      "0\n",
      "1832\n",
      "1583\n",
      "887\n"
     ]
    },
    {
     "name": "stderr",
     "output_type": "stream",
     "text": [
      "0: 480x640 2 persons, 1 bowl, 2 laptops, 181.8ms\n",
      "Speed: 0.0ms preprocess, 181.8ms inference, 0.0ms postprocess per image at shape (1, 3, 480, 640)\n",
      "\n"
     ]
    },
    {
     "name": "stdout",
     "output_type": "stream",
     "text": [
      "1078\n",
      "938\n",
      "1838\n",
      "1587\n",
      "890\n"
     ]
    },
    {
     "name": "stderr",
     "output_type": "stream",
     "text": [
      "0: 480x640 2 persons, 1 cup, 1 bowl, 2 laptops, 169.5ms\n",
      "Speed: 0.0ms preprocess, 169.5ms inference, 0.0ms postprocess per image at shape (1, 3, 480, 640)\n",
      "\n"
     ]
    },
    {
     "name": "stdout",
     "output_type": "stream",
     "text": [
      "1085\n",
      "0\n",
      "1838\n",
      "1592\n",
      "887\n",
      "891\n"
     ]
    },
    {
     "name": "stderr",
     "output_type": "stream",
     "text": [
      "0: 480x640 2 persons, 2 laptops, 136.2ms\n",
      "Speed: 5.8ms preprocess, 136.2ms inference, 0.0ms postprocess per image at shape (1, 3, 480, 640)\n",
      "\n"
     ]
    },
    {
     "name": "stdout",
     "output_type": "stream",
     "text": [
      "1081\n",
      "795\n",
      "1832\n",
      "0\n"
     ]
    },
    {
     "name": "stderr",
     "output_type": "stream",
     "text": [
      "0: 480x640 2 persons, 1 bowl, 2 laptops, 139.1ms\n",
      "Speed: 4.3ms preprocess, 139.1ms inference, 16.0ms postprocess per image at shape (1, 3, 480, 640)\n",
      "\n"
     ]
    },
    {
     "name": "stdout",
     "output_type": "stream",
     "text": [
      "773\n",
      "1083\n",
      "1838\n",
      "1563\n",
      "890\n"
     ]
    },
    {
     "name": "stderr",
     "output_type": "stream",
     "text": [
      "0: 480x640 2 persons, 2 laptops, 135.3ms\n",
      "Speed: 2.4ms preprocess, 135.3ms inference, 14.0ms postprocess per image at shape (1, 3, 480, 640)\n",
      "\n"
     ]
    },
    {
     "name": "stdout",
     "output_type": "stream",
     "text": [
      "1843\n",
      "789\n",
      "1571\n",
      "1070\n"
     ]
    },
    {
     "name": "stderr",
     "output_type": "stream",
     "text": [
      "0: 480x640 2 persons, 1 bowl, 2 laptops, 168.2ms\n",
      "Speed: 5.8ms preprocess, 168.2ms inference, 0.0ms postprocess per image at shape (1, 3, 480, 640)\n",
      "\n"
     ]
    },
    {
     "name": "stdout",
     "output_type": "stream",
     "text": [
      "1854\n",
      "1081\n",
      "817\n",
      "1592\n",
      "892\n"
     ]
    },
    {
     "name": "stderr",
     "output_type": "stream",
     "text": [
      "0: 480x640 2 persons, 1 bowl, 2 laptops, 197.1ms\n",
      "Speed: 7.0ms preprocess, 197.1ms inference, 0.0ms postprocess per image at shape (1, 3, 480, 640)\n",
      "\n"
     ]
    },
    {
     "name": "stdout",
     "output_type": "stream",
     "text": [
      "1854\n",
      "1068\n",
      "1571\n",
      "0\n",
      "882\n"
     ]
    },
    {
     "name": "stderr",
     "output_type": "stream",
     "text": [
      "0: 480x640 2 persons, 1 cat, 1 cup, 1 bowl, 2 laptops, 179.2ms\n",
      "Speed: 9.8ms preprocess, 179.2ms inference, 0.0ms postprocess per image at shape (1, 3, 480, 640)\n"
     ]
    },
    {
     "name": "stdout",
     "output_type": "stream",
     "text": [
      "1078\n",
      "1849\n",
      "1579\n",
      "733\n",
      "887\n",
      "883\n",
      "665\n"
     ]
    },
    {
     "name": "stderr",
     "output_type": "stream",
     "text": [
      "\n",
      "0: 480x640 2 persons, 1 cat, 1 dog, 1 bowl, 2 laptops, 141.8ms\n",
      "Speed: 12.7ms preprocess, 141.8ms inference, 0.0ms postprocess per image at shape (1, 3, 480, 640)\n"
     ]
    },
    {
     "name": "stdout",
     "output_type": "stream",
     "text": [
      "1076\n",
      "1843\n",
      "1563\n",
      "677\n",
      "950\n",
      "887\n",
      "676\n"
     ]
    },
    {
     "name": "stderr",
     "output_type": "stream",
     "text": [
      "\n",
      "0: 480x640 4 persons, 1 cat, 1 cup, 1 bowl, 2 laptops, 171.4ms\n",
      "Speed: 2.6ms preprocess, 171.4ms inference, 0.0ms postprocess per image at shape (1, 3, 480, 640)\n"
     ]
    },
    {
     "name": "stdout",
     "output_type": "stream",
     "text": [
      "1085\n",
      "1843\n",
      "1571\n",
      "675\n",
      "0\n",
      "0\n",
      "885\n"
     ]
    },
    {
     "name": "stderr",
     "output_type": "stream",
     "text": [
      "\n"
     ]
    },
    {
     "name": "stdout",
     "output_type": "stream",
     "text": [
      "1749\n",
      "887\n"
     ]
    },
    {
     "name": "stderr",
     "output_type": "stream",
     "text": [
      "0: 480x640 3 persons, 1 cat, 2 laptops, 180.6ms\n",
      "Speed: 0.0ms preprocess, 180.6ms inference, 0.0ms postprocess per image at shape (1, 3, 480, 640)\n",
      "\n"
     ]
    },
    {
     "name": "stdout",
     "output_type": "stream",
     "text": [
      "1093\n",
      "1827\n",
      "1555\n",
      "1017\n",
      "819\n",
      "664\n"
     ]
    },
    {
     "name": "stderr",
     "output_type": "stream",
     "text": [
      "0: 480x640 2 persons, 2 laptops, 175.6ms\n",
      "Speed: 0.0ms preprocess, 175.6ms inference, 0.0ms postprocess per image at shape (1, 3, 480, 640)\n",
      "\n"
     ]
    },
    {
     "name": "stdout",
     "output_type": "stream",
     "text": [
      "1068\n",
      "1827\n",
      "0\n",
      "813\n"
     ]
    },
    {
     "name": "stderr",
     "output_type": "stream",
     "text": [
      "0: 480x640 3 persons, 1 cat, 3 laptops, 165.8ms\n",
      "Speed: 4.1ms preprocess, 165.8ms inference, 0.0ms postprocess per image at shape (1, 3, 480, 640)\n"
     ]
    },
    {
     "name": "stdout",
     "output_type": "stream",
     "text": [
      "1081\n",
      "1397\n",
      "1838\n",
      "790\n",
      "672\n",
      "0\n",
      "1612\n"
     ]
    },
    {
     "name": "stderr",
     "output_type": "stream",
     "text": [
      "\n",
      "0: 480x640 3 persons, 2 laptops, 142.2ms\n",
      "Speed: 2.5ms preprocess, 142.2ms inference, 0.0ms postprocess per image at shape (1, 3, 480, 640)\n",
      "\n"
     ]
    },
    {
     "name": "stdout",
     "output_type": "stream",
     "text": [
      "1070\n",
      "889\n",
      "1838\n",
      "1575\n",
      "3549\n"
     ]
    },
    {
     "name": "stderr",
     "output_type": "stream",
     "text": [
      "0: 480x640 3 persons, 2 laptops, 158.4ms\n",
      "Speed: 2.5ms preprocess, 158.4ms inference, 0.0ms postprocess per image at shape (1, 3, 480, 640)\n",
      "\n"
     ]
    },
    {
     "name": "stdout",
     "output_type": "stream",
     "text": [
      "1070\n",
      "920\n",
      "1838\n",
      "1567\n",
      "3412\n"
     ]
    },
    {
     "name": "stderr",
     "output_type": "stream",
     "text": [
      "0: 480x640 3 persons, 2 laptops, 157.5ms\n",
      "Speed: 2.6ms preprocess, 157.5ms inference, 0.0ms postprocess per image at shape (1, 3, 480, 640)\n",
      "\n"
     ]
    },
    {
     "name": "stdout",
     "output_type": "stream",
     "text": [
      "1074\n",
      "909\n",
      "1843\n",
      "1540\n",
      "1600\n"
     ]
    },
    {
     "name": "stderr",
     "output_type": "stream",
     "text": [
      "0: 480x640 3 persons, 2 laptops, 143.1ms\n",
      "Speed: 3.1ms preprocess, 143.1ms inference, 0.0ms postprocess per image at shape (1, 3, 480, 640)\n",
      "\n"
     ]
    },
    {
     "name": "stdout",
     "output_type": "stream",
     "text": [
      "895\n",
      "1634\n",
      "1089\n",
      "1838\n",
      "1571\n"
     ]
    },
    {
     "name": "stderr",
     "output_type": "stream",
     "text": [
      "0: 480x640 3 persons, 2 laptops, 132.7ms\n",
      "Speed: 0.0ms preprocess, 132.7ms inference, 0.0ms postprocess per image at shape (1, 3, 480, 640)\n",
      "\n"
     ]
    },
    {
     "name": "stdout",
     "output_type": "stream",
     "text": [
      "1078\n",
      "1638\n",
      "1596\n",
      "918\n",
      "1843\n"
     ]
    },
    {
     "name": "stderr",
     "output_type": "stream",
     "text": [
      "0: 480x640 3 persons, 2 laptops, 147.2ms\n",
      "Speed: 0.0ms preprocess, 147.2ms inference, 15.6ms postprocess per image at shape (1, 3, 480, 640)\n",
      "\n"
     ]
    },
    {
     "name": "stdout",
     "output_type": "stream",
     "text": [
      "1074\n",
      "929\n",
      "1612\n",
      "1838\n",
      "1532\n"
     ]
    },
    {
     "name": "stderr",
     "output_type": "stream",
     "text": [
      "0: 480x640 3 persons, 1 cup, 2 laptops, 158.5ms\n",
      "Speed: 16.2ms preprocess, 158.5ms inference, 4.6ms postprocess per image at shape (1, 3, 480, 640)\n",
      "\n"
     ]
    },
    {
     "name": "stdout",
     "output_type": "stream",
     "text": [
      "1072\n",
      "1625\n",
      "1827\n",
      "896\n",
      "1536\n",
      "1357\n"
     ]
    },
    {
     "name": "stderr",
     "output_type": "stream",
     "text": [
      "0: 480x640 3 persons, 2 laptops, 174.4ms\n",
      "Speed: 0.0ms preprocess, 174.4ms inference, 0.0ms postprocess per image at shape (1, 3, 480, 640)\n",
      "\n"
     ]
    },
    {
     "name": "stdout",
     "output_type": "stream",
     "text": [
      "806\n",
      "1078\n",
      "1854\n",
      "1634\n",
      "1567\n"
     ]
    },
    {
     "name": "stderr",
     "output_type": "stream",
     "text": [
      "0: 480x640 4 persons, 2 laptops, 155.6ms\n",
      "Speed: 8.1ms preprocess, 155.6ms inference, 0.0ms postprocess per image at shape (1, 3, 480, 640)\n"
     ]
    },
    {
     "name": "stdout",
     "output_type": "stream",
     "text": [
      "804\n",
      "1085\n",
      "1838\n",
      "1625\n",
      "1544\n",
      "1587\n"
     ]
    },
    {
     "name": "stderr",
     "output_type": "stream",
     "text": [
      "\n",
      "0: 480x640 3 persons, 2 laptops, 150.3ms\n",
      "Speed: 6.4ms preprocess, 150.3ms inference, 0.0ms postprocess per image at shape (1, 3, 480, 640)\n",
      "\n"
     ]
    },
    {
     "name": "stdout",
     "output_type": "stream",
     "text": [
      "797\n",
      "1078\n",
      "1621\n",
      "1888\n",
      "1514\n"
     ]
    },
    {
     "name": "stderr",
     "output_type": "stream",
     "text": [
      "0: 480x640 4 persons, 2 laptops, 152.5ms\n",
      "Speed: 4.4ms preprocess, 152.5ms inference, 0.0ms postprocess per image at shape (1, 3, 480, 640)\n",
      "\n"
     ]
    },
    {
     "name": "stdout",
     "output_type": "stream",
     "text": [
      "798\n",
      "1559\n",
      "1072\n",
      "1510\n",
      "1621\n",
      "1587\n"
     ]
    },
    {
     "name": "stderr",
     "output_type": "stream",
     "text": [
      "0: 480x640 4 persons, 1 cup, 2 laptops, 158.2ms\n",
      "Speed: 0.0ms preprocess, 158.2ms inference, 0.0ms postprocess per image at shape (1, 3, 480, 640)\n"
     ]
    },
    {
     "name": "stdout",
     "output_type": "stream",
     "text": [
      "810\n",
      "1085\n",
      "1900\n",
      "1638\n",
      "1555\n",
      "1563\n"
     ]
    },
    {
     "name": "stderr",
     "output_type": "stream",
     "text": [
      "\n"
     ]
    },
    {
     "name": "stdout",
     "output_type": "stream",
     "text": [
      "903\n"
     ]
    },
    {
     "name": "stderr",
     "output_type": "stream",
     "text": [
      "0: 480x640 3 persons, 1 bowl, 2 laptops, 196.4ms\n",
      "Speed: 0.0ms preprocess, 196.4ms inference, 0.0ms postprocess per image at shape (1, 3, 480, 640)\n",
      "\n"
     ]
    },
    {
     "name": "stdout",
     "output_type": "stream",
     "text": [
      "820\n",
      "1081\n",
      "1544\n",
      "1638\n",
      "1827\n",
      "0\n"
     ]
    },
    {
     "name": "stderr",
     "output_type": "stream",
     "text": [
      "0: 480x640 3 persons, 1 cup, 1 bowl, 2 laptops, 168.7ms\n",
      "Speed: 10.8ms preprocess, 168.7ms inference, 0.0ms postprocess per image at shape (1, 3, 480, 640)\n"
     ]
    },
    {
     "name": "stdout",
     "output_type": "stream",
     "text": [
      "1074\n",
      "841\n",
      "1552\n",
      "1715\n",
      "1638\n",
      "892\n",
      "889\n"
     ]
    },
    {
     "name": "stderr",
     "output_type": "stream",
     "text": [
      "\n",
      "0: 480x640 4 persons, 1 cup, 1 bowl, 2 laptops, 162.3ms\n",
      "Speed: 9.5ms preprocess, 162.3ms inference, 0.0ms postprocess per image at shape (1, 3, 480, 640)\n"
     ]
    },
    {
     "name": "stdout",
     "output_type": "stream",
     "text": [
      "0\n",
      "1567\n",
      "1080\n",
      "1540\n",
      "1647\n",
      "1592\n",
      "885\n"
     ]
    },
    {
     "name": "stderr",
     "output_type": "stream",
     "text": [
      "\n"
     ]
    },
    {
     "name": "stdout",
     "output_type": "stream",
     "text": [
      "878\n"
     ]
    },
    {
     "name": "stderr",
     "output_type": "stream",
     "text": [
      "0: 480x640 4 persons, 1 bowl, 2 laptops, 173.9ms\n",
      "Speed: 15.5ms preprocess, 173.9ms inference, 0.0ms postprocess per image at shape (1, 3, 480, 640)\n",
      "\n"
     ]
    },
    {
     "name": "stdout",
     "output_type": "stream",
     "text": [
      "1078\n",
      "0\n",
      "1687\n",
      "1555\n",
      "1642\n",
      "1596\n",
      "881\n"
     ]
    },
    {
     "name": "stderr",
     "output_type": "stream",
     "text": [
      "0: 480x640 3 persons, 2 laptops, 171.4ms\n",
      "Speed: 0.0ms preprocess, 171.4ms inference, 2.0ms postprocess per image at shape (1, 3, 480, 640)\n",
      "\n"
     ]
    },
    {
     "name": "stdout",
     "output_type": "stream",
     "text": [
      "1065\n",
      "826\n",
      "1735\n",
      "1642\n",
      "0\n"
     ]
    },
    {
     "name": "stderr",
     "output_type": "stream",
     "text": [
      "0: 480x640 4 persons, 1 bowl, 2 laptops, 173.3ms\n",
      "Speed: 0.0ms preprocess, 173.3ms inference, 15.6ms postprocess per image at shape (1, 3, 480, 640)\n"
     ]
    },
    {
     "name": "stdout",
     "output_type": "stream",
     "text": [
      "814\n",
      "1072\n",
      "1536\n",
      "1795\n",
      "1647\n",
      "1592\n",
      "885\n"
     ]
    },
    {
     "name": "stderr",
     "output_type": "stream",
     "text": [
      "\n",
      "0: 480x640 3 persons, 1 bowl, 2 laptops, 174.2ms\n",
      "Speed: 0.0ms preprocess, 174.2ms inference, 0.0ms postprocess per image at shape (1, 3, 480, 640)\n",
      "\n"
     ]
    },
    {
     "name": "stdout",
     "output_type": "stream",
     "text": [
      "826\n",
      "1592\n",
      "1067\n",
      "1749\n",
      "766\n",
      "881\n"
     ]
    },
    {
     "name": "stderr",
     "output_type": "stream",
     "text": [
      "0: 480x640 3 persons, 1 cup, 1 bowl, 2 laptops, 158.4ms\n",
      "Speed: 0.0ms preprocess, 158.4ms inference, 0.0ms postprocess per image at shape (1, 3, 480, 640)\n"
     ]
    },
    {
     "name": "stdout",
     "output_type": "stream",
     "text": [
      "816\n",
      "1070\n",
      "741\n",
      "1838\n",
      "0\n",
      "892\n",
      "0\n"
     ]
    },
    {
     "name": "stderr",
     "output_type": "stream",
     "text": [
      "\n",
      "0: 480x640 3 persons, 1 bowl, 2 laptops, 159.4ms\n",
      "Speed: 12.5ms preprocess, 159.4ms inference, 0.6ms postprocess per image at shape (1, 3, 480, 640)\n"
     ]
    },
    {
     "name": "stdout",
     "output_type": "stream",
     "text": [
      "820\n",
      "1083\n",
      "692\n",
      "1838\n",
      "1749\n",
      "0\n"
     ]
    }
   ],
   "source": [
    "pipeline.start(config)\n",
    "while True:\n",
    "    frames=pipeline.wait_for_frames()\n",
    "    color=frames.get_color_frame()\n",
    "    color_image=np.asanyarray(color.get_data())\n",
    "    try:\n",
    "        img_distance(color_image)\n",
    "    except:\n",
    "        cv2.namedWindow(\"RGB\",cv2.WINDOW_NORMAL)\n",
    "        cv2.imshow(\"RGB\",color_image)\n",
    "    if cv2.waitKey(1) & 0xFF == ord('q'):\n",
    "        break\n",
    "pipeline.stop()\n",
    "cv2.destroyAllWindows()"
   ]
  },
  {
   "cell_type": "code",
   "execution_count": null,
   "id": "37fbe364",
   "metadata": {},
   "outputs": [],
   "source": [
    "pipeline.stop()"
   ]
  },
  {
   "cell_type": "code",
   "execution_count": null,
   "id": "6a946e3c",
   "metadata": {},
   "outputs": [],
   "source": [
    "pipeline.start(config)\n",
    "while True:\n",
    "    frames=pipeline.wait_for_frames()\n",
    "    color=frames.get_color_frame()\n",
    "    color_image=np.asanyarray(color.get_data())\n",
    "    res=model(color_image)\n",
    "    result=res[0]\n",
    "    box=result.boxes[0]\n",
    "    res_plotted = res[0].plot(boxes=True,labels=False)\n",
    "    cv2.namedWindow('RGB FEED', cv2.WINDOW_AUTOSIZE)\n",
    "    cv2.imshow('RGB FEED', res_plotted)\n",
    "    if cv2.waitKey(1) & 0xFF == ord('q'):\n",
    "        break\n",
    "pipeline.stop()\n",
    "cv2.destroyAllWindows()"
   ]
  },
  {
   "cell_type": "code",
   "execution_count": null,
   "id": "23c6d526",
   "metadata": {},
   "outputs": [],
   "source": []
  },
  {
   "cell_type": "code",
   "execution_count": 7,
   "id": "e7db684c",
   "metadata": {},
   "outputs": [
    {
     "name": "stderr",
     "output_type": "stream",
     "text": [
      "\n",
      "0: 416x640 9 persons, 377.3ms\n",
      "Speed: 15.6ms preprocess, 377.3ms inference, 0.0ms postprocess per image at shape (1, 3, 416, 640)\n"
     ]
    },
    {
     "name": "stdout",
     "output_type": "stream",
     "text": [
      "[22.678001403808594, 169.96536254882812, 268.2806701660156, 1157.4844970703125]\n",
      "[867.3711547851562, 176.31216430664062, 1119.866943359375, 1158.45703125]\n",
      "[1103.97705078125, 191.1287841796875, 1385.6474609375, 1161.505126953125]\n",
      "[1668.9869384765625, 158.28460693359375, 1873.0960693359375, 1157.6947021484375]\n",
      "[1279.85595703125, 194.3822021484375, 1512.2332763671875, 1154.62353515625]\n",
      "[1488.254150390625, 186.43670654296875, 1722.8814697265625, 1166.4302978515625]\n",
      "[255.14987182617188, 208.452392578125, 486.5105285644531, 1160.5826416015625]\n",
      "[579.988037109375, 199.8138427734375, 877.7301635742188, 1157.9718017578125]\n",
      "[439.00030517578125, 169.06924438476562, 671.7578125, 1158.117919921875]\n"
     ]
    }
   ],
   "source": [
    "img=cv2.imread(\"ggimg.jpg\")\n",
    "res=model(img)\n",
    "result=res[0]\n",
    "box=result.boxes[0]  #gets the first box\n",
    "for i in range(0,len(result.boxes),1):\n",
    "    box=result.boxes[i]\n",
    "    j=box.xyxy[0].tolist() #gets the coordinates of the box\n",
    "    print(j)\n",
    "    x1=int(j[0])\n",
    "    y1=int(j[1])\n",
    "    x2=int(j[2])\n",
    "    y2=int(j[3])\n",
    "    radius = 100\n",
    "    image=cv2.rectangle(img,(x1,y1),(x2,y2),(255, 0, 0))\n",
    "    xmid=int(x1+(x2-x1)/2)\n",
    "    ymid=int(y1+(y2-y1)/2)\n",
    "    image = cv2.circle(img,(xmid,ymid), radius, (255, 0, 0), 10)\n",
    "    cv2.namedWindow(\"RGB\",cv2.WINDOW_NORMAL)\n",
    "    cv2.imshow(\"RGB\",image)\n",
    "#     cv2.waitKey(1000)\n",
    "cv2.waitKey(0)\n",
    "cv2.destroyAllWindows()"
   ]
  },
  {
   "cell_type": "code",
   "execution_count": null,
   "id": "9d8e9c62",
   "metadata": {},
   "outputs": [],
   "source": []
  }
 ],
 "metadata": {
  "kernelspec": {
   "display_name": "Python 3 (ipykernel)",
   "language": "python",
   "name": "python3"
  },
  "language_info": {
   "codemirror_mode": {
    "name": "ipython",
    "version": 3
   },
   "file_extension": ".py",
   "mimetype": "text/x-python",
   "name": "python",
   "nbconvert_exporter": "python",
   "pygments_lexer": "ipython3",
   "version": "3.11.3"
  }
 },
 "nbformat": 4,
 "nbformat_minor": 5
}
