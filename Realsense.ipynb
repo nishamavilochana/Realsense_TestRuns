{
 "cells": [
  {
   "cell_type": "code",
   "execution_count": null,
   "id": "7249778a",
   "metadata": {},
   "outputs": [],
   "source": [
    "pip install pyrealsense2"
   ]
  },
  {
   "cell_type": "code",
   "execution_count": null,
   "id": "c2577d91",
   "metadata": {},
   "outputs": [],
   "source": [
    "pip install numpy"
   ]
  },
  {
   "cell_type": "code",
   "execution_count": null,
   "id": "46dce7e6",
   "metadata": {},
   "outputs": [],
   "source": [
    "pip install opencv-python"
   ]
  },
  {
   "cell_type": "code",
   "execution_count": 1,
   "id": "bc8785bf",
   "metadata": {},
   "outputs": [],
   "source": [
    "import pyrealsense2 as rs\n",
    "import numpy as np\n",
    "import cv2"
   ]
  },
  {
   "cell_type": "code",
   "execution_count": 2,
   "id": "d08ec1dd",
   "metadata": {},
   "outputs": [],
   "source": [
    "config=rs.config()\n",
    "pipeline=rs.pipeline()"
   ]
  },
  {
   "cell_type": "code",
   "execution_count": 17,
   "id": "476b3e16",
   "metadata": {},
   "outputs": [],
   "source": [
    "config.enable_stream(rs.stream.depth,640,480,rs.format.z16,30)\n",
    "config.enable_stream(rs.stream.color,640,480,rs.format.bgr8,30)\n",
    "#config.enable_stream(rs.stream.infrared,640,480,rs.format.y8,30)"
   ]
  },
  {
   "cell_type": "code",
   "execution_count": 9,
   "id": "916b99c7",
   "metadata": {},
   "outputs": [
    {
     "data": {
      "text/plain": [
       "<pyrealsense2.pyrealsense2.pipeline_profile at 0x20b5ebb8630>"
      ]
     },
     "execution_count": 9,
     "metadata": {},
     "output_type": "execute_result"
    }
   ],
   "source": [
    "pipeline.start(config)"
   ]
  },
  {
   "cell_type": "code",
   "execution_count": 23,
   "id": "447f4470",
   "metadata": {},
   "outputs": [],
   "source": [
    "pipeline.start(config)\n",
    "while True:\n",
    "    frames=pipeline.wait_for_frames()\n",
    "    #depth=frames.get_depth_frame()\n",
    "    colored=frames.get_color_frame()\n",
    "    #infared=frames.get_infrared_frame()\n",
    "    #depth_image=np.asanyarray(depth.get_data())\n",
    "    color_image=np.asanyarray(colored.get_data())\n",
    "    #infared_image=np.asanyarray(infared.get_data())\n",
    "    #cv2.imshow('Infared Feed',infared_image)\n",
    "    #cv2.imshow('Depth Feed',depth_image)\n",
    "    cv2.imshow('Color Feed',color_image)\n",
    "    if cv2.waitKey(1) & 0xFF == ord('q'):\n",
    "        break\n",
    "pipeline.stop()\n",
    "cv2.destroyAllWindows()"
   ]
  },
  {
   "cell_type": "code",
   "execution_count": 22,
   "id": "f9b114c8",
   "metadata": {},
   "outputs": [],
   "source": [
    "pipeline.stop()"
   ]
  },
  {
   "cell_type": "code",
   "execution_count": null,
   "id": "5ba602b5",
   "metadata": {},
   "outputs": [],
   "source": [
    "try:\n",
    "    for i in range(0,100):\n",
    "        frames=pipe.wait_for_frames()\n",
    "        depth=frames.get_depth_frame()\n",
    "        for f in frames:\n",
    "            print(f.profile)\n",
    "finally:\n",
    "    pipe.stop()"
   ]
  },
  {
   "cell_type": "code",
   "execution_count": null,
   "id": "da5497c1",
   "metadata": {},
   "outputs": [],
   "source": []
  }
 ],
 "metadata": {
  "kernelspec": {
   "display_name": "Python 3 (ipykernel)",
   "language": "python",
   "name": "python3"
  },
  "language_info": {
   "codemirror_mode": {
    "name": "ipython",
    "version": 3
   },
   "file_extension": ".py",
   "mimetype": "text/x-python",
   "name": "python",
   "nbconvert_exporter": "python",
   "pygments_lexer": "ipython3",
   "version": "3.11.3"
  }
 },
 "nbformat": 4,
 "nbformat_minor": 5
}
