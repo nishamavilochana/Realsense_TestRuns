{
 "cells": [
  {
   "cell_type": "code",
   "execution_count": null,
   "id": "7249778a",
   "metadata": {},
   "outputs": [],
   "source": [
    "#pip install pyrealsense2"
   ]
  },
  {
   "cell_type": "code",
   "execution_count": null,
   "id": "c2577d91",
   "metadata": {},
   "outputs": [],
   "source": [
    "#pip install numpy"
   ]
  },
  {
   "cell_type": "code",
   "execution_count": null,
   "id": "46dce7e6",
   "metadata": {},
   "outputs": [],
   "source": [
    "#pip install opencv-python"
   ]
  },
  {
   "cell_type": "code",
   "execution_count": 27,
   "id": "bc8785bf",
   "metadata": {},
   "outputs": [],
   "source": [
    "import pyrealsense2 as rs\n",
    "import numpy as np\n",
    "import cv2"
   ]
  },
  {
   "cell_type": "code",
   "execution_count": 28,
   "id": "d08ec1dd",
   "metadata": {},
   "outputs": [],
   "source": [
    "config=rs.config()\n",
    "pipeline=rs.pipeline()"
   ]
  },
  {
   "cell_type": "code",
   "execution_count": null,
   "id": "fcc64644",
   "metadata": {},
   "outputs": [],
   "source": [
    "pipeline_wrapper = rs.pipeline_wrapper(pipeline)\n",
    "pipeline_profile = config.resolve(pipeline_wrapper)\n",
    "device = pipeline_profile.get_device()\n",
    "device_product_line = str(device.get_info(rs.camera_info.product_line))"
   ]
  },
  {
   "cell_type": "markdown",
   "id": "8276a35a",
   "metadata": {},
   "source": [
    "# Raw OpenCV View from Sensors"
   ]
  },
  {
   "cell_type": "code",
   "execution_count": 37,
   "id": "476b3e16",
   "metadata": {},
   "outputs": [],
   "source": [
    "#config.enable_stream(rs.stream.depth,640,480,rs.format.z16,30)\n",
    "#config.enable_stream(rs.stream.depth,640,480,rs.format.z16,30)\n",
    "config.enable_stream(rs.stream.color,640,480,rs.format.bgr8,30)\n",
    "#config.enable_stream(rs.stream.infrared,640,480,rs.format.y8,30)"
   ]
  },
  {
   "cell_type": "code",
   "execution_count": 4,
   "id": "916b99c7",
   "metadata": {},
   "outputs": [
    {
     "data": {
      "text/plain": [
       "<pyrealsense2.pyrealsense2.pipeline_profile at 0x266eea7ec30>"
      ]
     },
     "execution_count": 4,
     "metadata": {},
     "output_type": "execute_result"
    }
   ],
   "source": [
    "pipeline.start(config)"
   ]
  },
  {
   "cell_type": "code",
   "execution_count": 41,
   "id": "447f4470",
   "metadata": {},
   "outputs": [],
   "source": [
    "pipeline.start(config)\n",
    "while True:\n",
    "    frames=pipeline.wait_for_frames()\n",
    "    depth=frames.get_depth_frame()\n",
    "    colored=frames.get_color_frame()\n",
    "    infared=frames.get_infrared_frame()\n",
    "    #rs.log_to_file(\"log\")\n",
    "    depth_image=np.asanyarray(depth.get_data())\n",
    "    color_image=np.asanyarray(colored.get_data())\n",
    "    infared_image=np.asanyarray(infared.get_data())\n",
    "    depth_colormap=cv2.applyColorMap(cv2.convertScaleAbs(depth_image,alpha=0.03),cv2.COLORMAP_HSV)\n",
    "    #depth_colormap_dim = depth_colormap.shape\n",
    "    #color_colormap_dim = color_image.shape\n",
    "    #images = np.hstack((color_image, depth_colormap))\n",
    "    cv2.namedWindow('Depth View', cv2.WINDOW_AUTOSIZE)\n",
    "    cv2.imshow('Depth View', depth_colormap)\n",
    "#     cv2.imshow('Infared Feed',infared_image)\n",
    "#     cv2.imshow('Depth Feed',depth_image)\n",
    "#     cv2.imshow('Color Feed',color_image)\n",
    "    if cv2.waitKey(1) & 0xFF == ord('q'):\n",
    "        break\n",
    "pipeline.stop()\n",
    "cv2.destroyAllWindows()"
   ]
  },
  {
   "cell_type": "markdown",
   "id": "5b051a58",
   "metadata": {},
   "source": [
    "# Depth Image"
   ]
  },
  {
   "cell_type": "code",
   "execution_count": 55,
   "id": "e427b59e",
   "metadata": {},
   "outputs": [],
   "source": [
    "config.enable_stream(rs.stream.depth, 640, 480, rs.format.z16, 30)\n",
    "config.enable_stream(rs.stream.color, 640, 480, rs.format.bgr8, 30)\n",
    "profile = pipeline.start(config)"
   ]
  },
  {
   "cell_type": "code",
   "execution_count": 56,
   "id": "74e32239",
   "metadata": {},
   "outputs": [
    {
     "name": "stdout",
     "output_type": "stream",
     "text": [
      "Depth Scale is:  0.0010000000474974513\n"
     ]
    }
   ],
   "source": [
    "depth_sensor=profile.get_device().first_depth_sensor()\n",
    "depth_scale=depth_sensor.get_depth_scale()\n",
    "print(\"Depth Scale is: \",depth_scale)\n",
    "clipping_distance = 1 / depth_scale #remove objects after 1m"
   ]
  },
  {
   "cell_type": "code",
   "execution_count": 57,
   "id": "a30659da",
   "metadata": {},
   "outputs": [],
   "source": [
    "align_to = rs.stream.color\n",
    "align = rs.align(align_to)"
   ]
  },
  {
   "cell_type": "code",
   "execution_count": 58,
   "id": "d4282bfd",
   "metadata": {},
   "outputs": [],
   "source": [
    "while True:\n",
    "    frames=pipeline.wait_for_frames()\n",
    "    aligned_frames = align.process(frames)\n",
    "    aligned_depth_frame = aligned_frames.get_depth_frame()\n",
    "    color_frame = aligned_frames.get_color_frame()\n",
    "    depth_image = np.asanyarray(aligned_depth_frame.get_data())\n",
    "    color_image = np.asanyarray(color_frame.get_data())\n",
    "    grey_color = 153\n",
    "    depth_image_3d = np.dstack((depth_image,depth_image,depth_image))\n",
    "    bg_removed = np.where((depth_image_3d > clipping_distance) | (depth_image_3d <= 0), grey_color, color_image)\n",
    "    depth_colormap=cv2.applyColorMap(cv2.convertScaleAbs(depth_image,alpha=0.03),cv2.COLORMAP_HSV)\n",
    "    images = np.hstack((bg_removed, depth_colormap))\n",
    "    cv2.namedWindow('Depth View', cv2.WINDOW_AUTOSIZE)\n",
    "    cv2.imshow('Depth View', images)\n",
    "    if cv2.waitKey(1) & 0xFF == ord('q'):\n",
    "        break\n",
    "pipeline.stop()\n",
    "cv2.destroyAllWindows()"
   ]
  },
  {
   "cell_type": "code",
   "execution_count": 53,
   "id": "f9b114c8",
   "metadata": {},
   "outputs": [
    {
     "ename": "RuntimeError",
     "evalue": "stop() cannot be called before start()",
     "output_type": "error",
     "traceback": [
      "\u001b[1;31m---------------------------------------------------------------------------\u001b[0m",
      "\u001b[1;31mRuntimeError\u001b[0m                              Traceback (most recent call last)",
      "Cell \u001b[1;32mIn[53], line 1\u001b[0m\n\u001b[1;32m----> 1\u001b[0m pipeline\u001b[38;5;241m.\u001b[39mstop()\n",
      "\u001b[1;31mRuntimeError\u001b[0m: stop() cannot be called before start()"
     ]
    }
   ],
   "source": [
    "pipeline.stop()"
   ]
  },
  {
   "cell_type": "code",
   "execution_count": 54,
   "id": "5ba602b5",
   "metadata": {},
   "outputs": [
    {
     "name": "stdout",
     "output_type": "stream",
     "text": [
      "<pyrealsense2.[video_]stream_profile: Depth(0) 848x480 @ 30fps Z16>\n",
      "<pyrealsense2.[video_]stream_profile: Color(0) 640x480 @ 30fps RGB8>\n",
      "<pyrealsense2.[video_]stream_profile: Depth(0) 848x480 @ 30fps Z16>\n",
      "<pyrealsense2.[video_]stream_profile: Color(0) 640x480 @ 30fps RGB8>\n",
      "<pyrealsense2.[video_]stream_profile: Depth(0) 848x480 @ 30fps Z16>\n",
      "<pyrealsense2.[video_]stream_profile: Color(0) 640x480 @ 30fps RGB8>\n",
      "<pyrealsense2.[video_]stream_profile: Depth(0) 848x480 @ 30fps Z16>\n",
      "<pyrealsense2.[video_]stream_profile: Color(0) 640x480 @ 30fps RGB8>\n",
      "<pyrealsense2.[video_]stream_profile: Depth(0) 848x480 @ 30fps Z16>\n",
      "<pyrealsense2.[video_]stream_profile: Color(0) 640x480 @ 30fps RGB8>\n",
      "<pyrealsense2.[video_]stream_profile: Depth(0) 848x480 @ 30fps Z16>\n",
      "<pyrealsense2.[video_]stream_profile: Color(0) 640x480 @ 30fps RGB8>\n",
      "<pyrealsense2.[video_]stream_profile: Depth(0) 848x480 @ 30fps Z16>\n",
      "<pyrealsense2.[video_]stream_profile: Color(0) 640x480 @ 30fps RGB8>\n",
      "<pyrealsense2.[video_]stream_profile: Depth(0) 848x480 @ 30fps Z16>\n",
      "<pyrealsense2.[video_]stream_profile: Color(0) 640x480 @ 30fps RGB8>\n",
      "<pyrealsense2.[video_]stream_profile: Depth(0) 848x480 @ 30fps Z16>\n",
      "<pyrealsense2.[video_]stream_profile: Color(0) 640x480 @ 30fps RGB8>\n",
      "<pyrealsense2.[video_]stream_profile: Depth(0) 848x480 @ 30fps Z16>\n",
      "<pyrealsense2.[video_]stream_profile: Color(0) 640x480 @ 30fps RGB8>\n",
      "<pyrealsense2.[video_]stream_profile: Depth(0) 848x480 @ 30fps Z16>\n",
      "<pyrealsense2.[video_]stream_profile: Color(0) 640x480 @ 30fps RGB8>\n",
      "<pyrealsense2.[video_]stream_profile: Depth(0) 848x480 @ 30fps Z16>\n",
      "<pyrealsense2.[video_]stream_profile: Color(0) 640x480 @ 30fps RGB8>\n",
      "<pyrealsense2.[video_]stream_profile: Depth(0) 848x480 @ 30fps Z16>\n",
      "<pyrealsense2.[video_]stream_profile: Color(0) 640x480 @ 30fps RGB8>\n",
      "<pyrealsense2.[video_]stream_profile: Depth(0) 848x480 @ 30fps Z16>\n",
      "<pyrealsense2.[video_]stream_profile: Color(0) 640x480 @ 30fps RGB8>\n",
      "<pyrealsense2.[video_]stream_profile: Depth(0) 848x480 @ 30fps Z16>\n",
      "<pyrealsense2.[video_]stream_profile: Color(0) 640x480 @ 30fps RGB8>\n",
      "<pyrealsense2.[video_]stream_profile: Depth(0) 848x480 @ 30fps Z16>\n",
      "<pyrealsense2.[video_]stream_profile: Color(0) 640x480 @ 30fps RGB8>\n",
      "<pyrealsense2.[video_]stream_profile: Depth(0) 848x480 @ 30fps Z16>\n",
      "<pyrealsense2.[video_]stream_profile: Color(0) 640x480 @ 30fps RGB8>\n",
      "<pyrealsense2.[video_]stream_profile: Depth(0) 848x480 @ 30fps Z16>\n",
      "<pyrealsense2.[video_]stream_profile: Color(0) 640x480 @ 30fps RGB8>\n",
      "<pyrealsense2.[video_]stream_profile: Depth(0) 848x480 @ 30fps Z16>\n",
      "<pyrealsense2.[video_]stream_profile: Color(0) 640x480 @ 30fps RGB8>\n",
      "<pyrealsense2.[video_]stream_profile: Depth(0) 848x480 @ 30fps Z16>\n",
      "<pyrealsense2.[video_]stream_profile: Color(0) 640x480 @ 30fps RGB8>\n",
      "<pyrealsense2.[video_]stream_profile: Depth(0) 848x480 @ 30fps Z16>\n",
      "<pyrealsense2.[video_]stream_profile: Color(0) 640x480 @ 30fps RGB8>\n",
      "<pyrealsense2.[video_]stream_profile: Depth(0) 848x480 @ 30fps Z16>\n",
      "<pyrealsense2.[video_]stream_profile: Color(0) 640x480 @ 30fps RGB8>\n",
      "<pyrealsense2.[video_]stream_profile: Depth(0) 848x480 @ 30fps Z16>\n",
      "<pyrealsense2.[video_]stream_profile: Color(0) 640x480 @ 30fps RGB8>\n",
      "<pyrealsense2.[video_]stream_profile: Depth(0) 848x480 @ 30fps Z16>\n",
      "<pyrealsense2.[video_]stream_profile: Color(0) 640x480 @ 30fps RGB8>\n",
      "<pyrealsense2.[video_]stream_profile: Depth(0) 848x480 @ 30fps Z16>\n",
      "<pyrealsense2.[video_]stream_profile: Color(0) 640x480 @ 30fps RGB8>\n",
      "<pyrealsense2.[video_]stream_profile: Depth(0) 848x480 @ 30fps Z16>\n",
      "<pyrealsense2.[video_]stream_profile: Color(0) 640x480 @ 30fps RGB8>\n",
      "<pyrealsense2.[video_]stream_profile: Depth(0) 848x480 @ 30fps Z16>\n",
      "<pyrealsense2.[video_]stream_profile: Color(0) 640x480 @ 30fps RGB8>\n",
      "<pyrealsense2.[video_]stream_profile: Depth(0) 848x480 @ 30fps Z16>\n",
      "<pyrealsense2.[video_]stream_profile: Color(0) 640x480 @ 30fps RGB8>\n",
      "<pyrealsense2.[video_]stream_profile: Depth(0) 848x480 @ 30fps Z16>\n",
      "<pyrealsense2.[video_]stream_profile: Color(0) 640x480 @ 30fps RGB8>\n",
      "<pyrealsense2.[video_]stream_profile: Depth(0) 848x480 @ 30fps Z16>\n",
      "<pyrealsense2.[video_]stream_profile: Color(0) 640x480 @ 30fps RGB8>\n",
      "<pyrealsense2.[video_]stream_profile: Depth(0) 848x480 @ 30fps Z16>\n",
      "<pyrealsense2.[video_]stream_profile: Color(0) 640x480 @ 30fps RGB8>\n",
      "<pyrealsense2.[video_]stream_profile: Depth(0) 848x480 @ 30fps Z16>\n",
      "<pyrealsense2.[video_]stream_profile: Color(0) 640x480 @ 30fps RGB8>\n",
      "<pyrealsense2.[video_]stream_profile: Depth(0) 848x480 @ 30fps Z16>\n",
      "<pyrealsense2.[video_]stream_profile: Color(0) 640x480 @ 30fps RGB8>\n",
      "<pyrealsense2.[video_]stream_profile: Depth(0) 848x480 @ 30fps Z16>\n",
      "<pyrealsense2.[video_]stream_profile: Color(0) 640x480 @ 30fps RGB8>\n",
      "<pyrealsense2.[video_]stream_profile: Depth(0) 848x480 @ 30fps Z16>\n",
      "<pyrealsense2.[video_]stream_profile: Color(0) 640x480 @ 30fps RGB8>\n",
      "<pyrealsense2.[video_]stream_profile: Depth(0) 848x480 @ 30fps Z16>\n",
      "<pyrealsense2.[video_]stream_profile: Color(0) 640x480 @ 30fps RGB8>\n",
      "<pyrealsense2.[video_]stream_profile: Depth(0) 848x480 @ 30fps Z16>\n",
      "<pyrealsense2.[video_]stream_profile: Color(0) 640x480 @ 30fps RGB8>\n",
      "<pyrealsense2.[video_]stream_profile: Depth(0) 848x480 @ 30fps Z16>\n",
      "<pyrealsense2.[video_]stream_profile: Color(0) 640x480 @ 30fps RGB8>\n",
      "<pyrealsense2.[video_]stream_profile: Depth(0) 848x480 @ 30fps Z16>\n",
      "<pyrealsense2.[video_]stream_profile: Color(0) 640x480 @ 30fps RGB8>\n",
      "<pyrealsense2.[video_]stream_profile: Depth(0) 848x480 @ 30fps Z16>\n",
      "<pyrealsense2.[video_]stream_profile: Color(0) 640x480 @ 30fps RGB8>\n",
      "<pyrealsense2.[video_]stream_profile: Depth(0) 848x480 @ 30fps Z16>\n",
      "<pyrealsense2.[video_]stream_profile: Color(0) 640x480 @ 30fps RGB8>\n",
      "<pyrealsense2.[video_]stream_profile: Depth(0) 848x480 @ 30fps Z16>\n",
      "<pyrealsense2.[video_]stream_profile: Color(0) 640x480 @ 30fps RGB8>\n",
      "<pyrealsense2.[video_]stream_profile: Depth(0) 848x480 @ 30fps Z16>\n",
      "<pyrealsense2.[video_]stream_profile: Color(0) 640x480 @ 30fps RGB8>\n",
      "<pyrealsense2.[video_]stream_profile: Depth(0) 848x480 @ 30fps Z16>\n",
      "<pyrealsense2.[video_]stream_profile: Color(0) 640x480 @ 30fps RGB8>\n",
      "<pyrealsense2.[video_]stream_profile: Depth(0) 848x480 @ 30fps Z16>\n",
      "<pyrealsense2.[video_]stream_profile: Color(0) 640x480 @ 30fps RGB8>\n",
      "<pyrealsense2.[video_]stream_profile: Depth(0) 848x480 @ 30fps Z16>\n",
      "<pyrealsense2.[video_]stream_profile: Color(0) 640x480 @ 30fps RGB8>\n",
      "<pyrealsense2.[video_]stream_profile: Depth(0) 848x480 @ 30fps Z16>\n",
      "<pyrealsense2.[video_]stream_profile: Color(0) 640x480 @ 30fps RGB8>\n",
      "<pyrealsense2.[video_]stream_profile: Depth(0) 848x480 @ 30fps Z16>\n",
      "<pyrealsense2.[video_]stream_profile: Color(0) 640x480 @ 30fps RGB8>\n",
      "<pyrealsense2.[video_]stream_profile: Depth(0) 848x480 @ 30fps Z16>\n",
      "<pyrealsense2.[video_]stream_profile: Color(0) 640x480 @ 30fps RGB8>\n",
      "<pyrealsense2.[video_]stream_profile: Depth(0) 848x480 @ 30fps Z16>\n",
      "<pyrealsense2.[video_]stream_profile: Color(0) 640x480 @ 30fps RGB8>\n",
      "<pyrealsense2.[video_]stream_profile: Depth(0) 848x480 @ 30fps Z16>\n",
      "<pyrealsense2.[video_]stream_profile: Color(0) 640x480 @ 30fps RGB8>\n",
      "<pyrealsense2.[video_]stream_profile: Depth(0) 848x480 @ 30fps Z16>\n",
      "<pyrealsense2.[video_]stream_profile: Color(0) 640x480 @ 30fps RGB8>\n",
      "<pyrealsense2.[video_]stream_profile: Depth(0) 848x480 @ 30fps Z16>\n",
      "<pyrealsense2.[video_]stream_profile: Color(0) 640x480 @ 30fps RGB8>\n",
      "<pyrealsense2.[video_]stream_profile: Depth(0) 848x480 @ 30fps Z16>\n",
      "<pyrealsense2.[video_]stream_profile: Color(0) 640x480 @ 30fps RGB8>\n",
      "<pyrealsense2.[video_]stream_profile: Depth(0) 848x480 @ 30fps Z16>\n",
      "<pyrealsense2.[video_]stream_profile: Color(0) 640x480 @ 30fps RGB8>\n",
      "<pyrealsense2.[video_]stream_profile: Depth(0) 848x480 @ 30fps Z16>\n",
      "<pyrealsense2.[video_]stream_profile: Color(0) 640x480 @ 30fps RGB8>\n",
      "<pyrealsense2.[video_]stream_profile: Depth(0) 848x480 @ 30fps Z16>\n",
      "<pyrealsense2.[video_]stream_profile: Color(0) 640x480 @ 30fps RGB8>\n",
      "<pyrealsense2.[video_]stream_profile: Depth(0) 848x480 @ 30fps Z16>\n",
      "<pyrealsense2.[video_]stream_profile: Color(0) 640x480 @ 30fps RGB8>\n",
      "<pyrealsense2.[video_]stream_profile: Depth(0) 848x480 @ 30fps Z16>\n",
      "<pyrealsense2.[video_]stream_profile: Color(0) 640x480 @ 30fps RGB8>\n",
      "<pyrealsense2.[video_]stream_profile: Depth(0) 848x480 @ 30fps Z16>\n",
      "<pyrealsense2.[video_]stream_profile: Color(0) 640x480 @ 30fps RGB8>\n",
      "<pyrealsense2.[video_]stream_profile: Depth(0) 848x480 @ 30fps Z16>\n",
      "<pyrealsense2.[video_]stream_profile: Color(0) 640x480 @ 30fps RGB8>\n",
      "<pyrealsense2.[video_]stream_profile: Depth(0) 848x480 @ 30fps Z16>\n",
      "<pyrealsense2.[video_]stream_profile: Color(0) 640x480 @ 30fps RGB8>\n",
      "<pyrealsense2.[video_]stream_profile: Depth(0) 848x480 @ 30fps Z16>\n",
      "<pyrealsense2.[video_]stream_profile: Color(0) 640x480 @ 30fps RGB8>\n"
     ]
    },
    {
     "name": "stdout",
     "output_type": "stream",
     "text": [
      "<pyrealsense2.[video_]stream_profile: Depth(0) 848x480 @ 30fps Z16>\n",
      "<pyrealsense2.[video_]stream_profile: Color(0) 640x480 @ 30fps RGB8>\n",
      "<pyrealsense2.[video_]stream_profile: Depth(0) 848x480 @ 30fps Z16>\n",
      "<pyrealsense2.[video_]stream_profile: Color(0) 640x480 @ 30fps RGB8>\n",
      "<pyrealsense2.[video_]stream_profile: Depth(0) 848x480 @ 30fps Z16>\n",
      "<pyrealsense2.[video_]stream_profile: Color(0) 640x480 @ 30fps RGB8>\n",
      "<pyrealsense2.[video_]stream_profile: Depth(0) 848x480 @ 30fps Z16>\n",
      "<pyrealsense2.[video_]stream_profile: Color(0) 640x480 @ 30fps RGB8>\n",
      "<pyrealsense2.[video_]stream_profile: Depth(0) 848x480 @ 30fps Z16>\n",
      "<pyrealsense2.[video_]stream_profile: Color(0) 640x480 @ 30fps RGB8>\n",
      "<pyrealsense2.[video_]stream_profile: Depth(0) 848x480 @ 30fps Z16>\n",
      "<pyrealsense2.[video_]stream_profile: Color(0) 640x480 @ 30fps RGB8>\n",
      "<pyrealsense2.[video_]stream_profile: Depth(0) 848x480 @ 30fps Z16>\n",
      "<pyrealsense2.[video_]stream_profile: Color(0) 640x480 @ 30fps RGB8>\n",
      "<pyrealsense2.[video_]stream_profile: Depth(0) 848x480 @ 30fps Z16>\n",
      "<pyrealsense2.[video_]stream_profile: Color(0) 640x480 @ 30fps RGB8>\n",
      "<pyrealsense2.[video_]stream_profile: Depth(0) 848x480 @ 30fps Z16>\n",
      "<pyrealsense2.[video_]stream_profile: Color(0) 640x480 @ 30fps RGB8>\n",
      "<pyrealsense2.[video_]stream_profile: Depth(0) 848x480 @ 30fps Z16>\n",
      "<pyrealsense2.[video_]stream_profile: Color(0) 640x480 @ 30fps RGB8>\n",
      "<pyrealsense2.[video_]stream_profile: Depth(0) 848x480 @ 30fps Z16>\n",
      "<pyrealsense2.[video_]stream_profile: Color(0) 640x480 @ 30fps RGB8>\n",
      "<pyrealsense2.[video_]stream_profile: Depth(0) 848x480 @ 30fps Z16>\n",
      "<pyrealsense2.[video_]stream_profile: Color(0) 640x480 @ 30fps RGB8>\n",
      "<pyrealsense2.[video_]stream_profile: Depth(0) 848x480 @ 30fps Z16>\n",
      "<pyrealsense2.[video_]stream_profile: Color(0) 640x480 @ 30fps RGB8>\n",
      "<pyrealsense2.[video_]stream_profile: Depth(0) 848x480 @ 30fps Z16>\n",
      "<pyrealsense2.[video_]stream_profile: Color(0) 640x480 @ 30fps RGB8>\n",
      "<pyrealsense2.[video_]stream_profile: Depth(0) 848x480 @ 30fps Z16>\n",
      "<pyrealsense2.[video_]stream_profile: Color(0) 640x480 @ 30fps RGB8>\n",
      "<pyrealsense2.[video_]stream_profile: Depth(0) 848x480 @ 30fps Z16>\n",
      "<pyrealsense2.[video_]stream_profile: Color(0) 640x480 @ 30fps RGB8>\n",
      "<pyrealsense2.[video_]stream_profile: Depth(0) 848x480 @ 30fps Z16>\n",
      "<pyrealsense2.[video_]stream_profile: Color(0) 640x480 @ 30fps RGB8>\n",
      "<pyrealsense2.[video_]stream_profile: Depth(0) 848x480 @ 30fps Z16>\n",
      "<pyrealsense2.[video_]stream_profile: Color(0) 640x480 @ 30fps RGB8>\n",
      "<pyrealsense2.[video_]stream_profile: Depth(0) 848x480 @ 30fps Z16>\n",
      "<pyrealsense2.[video_]stream_profile: Color(0) 640x480 @ 30fps RGB8>\n",
      "<pyrealsense2.[video_]stream_profile: Depth(0) 848x480 @ 30fps Z16>\n",
      "<pyrealsense2.[video_]stream_profile: Color(0) 640x480 @ 30fps RGB8>\n",
      "<pyrealsense2.[video_]stream_profile: Depth(0) 848x480 @ 30fps Z16>\n",
      "<pyrealsense2.[video_]stream_profile: Color(0) 640x480 @ 30fps RGB8>\n",
      "<pyrealsense2.[video_]stream_profile: Depth(0) 848x480 @ 30fps Z16>\n",
      "<pyrealsense2.[video_]stream_profile: Color(0) 640x480 @ 30fps RGB8>\n",
      "<pyrealsense2.[video_]stream_profile: Depth(0) 848x480 @ 30fps Z16>\n",
      "<pyrealsense2.[video_]stream_profile: Color(0) 640x480 @ 30fps RGB8>\n",
      "<pyrealsense2.[video_]stream_profile: Depth(0) 848x480 @ 30fps Z16>\n",
      "<pyrealsense2.[video_]stream_profile: Color(0) 640x480 @ 30fps RGB8>\n",
      "<pyrealsense2.[video_]stream_profile: Depth(0) 848x480 @ 30fps Z16>\n",
      "<pyrealsense2.[video_]stream_profile: Color(0) 640x480 @ 30fps RGB8>\n",
      "<pyrealsense2.[video_]stream_profile: Depth(0) 848x480 @ 30fps Z16>\n",
      "<pyrealsense2.[video_]stream_profile: Color(0) 640x480 @ 30fps RGB8>\n",
      "<pyrealsense2.[video_]stream_profile: Depth(0) 848x480 @ 30fps Z16>\n",
      "<pyrealsense2.[video_]stream_profile: Color(0) 640x480 @ 30fps RGB8>\n",
      "<pyrealsense2.[video_]stream_profile: Depth(0) 848x480 @ 30fps Z16>\n",
      "<pyrealsense2.[video_]stream_profile: Color(0) 640x480 @ 30fps RGB8>\n",
      "<pyrealsense2.[video_]stream_profile: Depth(0) 848x480 @ 30fps Z16>\n",
      "<pyrealsense2.[video_]stream_profile: Color(0) 640x480 @ 30fps RGB8>\n",
      "<pyrealsense2.[video_]stream_profile: Depth(0) 848x480 @ 30fps Z16>\n",
      "<pyrealsense2.[video_]stream_profile: Color(0) 640x480 @ 30fps RGB8>\n",
      "<pyrealsense2.[video_]stream_profile: Depth(0) 848x480 @ 30fps Z16>\n",
      "<pyrealsense2.[video_]stream_profile: Color(0) 640x480 @ 30fps RGB8>\n",
      "<pyrealsense2.[video_]stream_profile: Depth(0) 848x480 @ 30fps Z16>\n",
      "<pyrealsense2.[video_]stream_profile: Color(0) 640x480 @ 30fps RGB8>\n",
      "<pyrealsense2.[video_]stream_profile: Depth(0) 848x480 @ 30fps Z16>\n",
      "<pyrealsense2.[video_]stream_profile: Color(0) 640x480 @ 30fps RGB8>\n",
      "<pyrealsense2.[video_]stream_profile: Depth(0) 848x480 @ 30fps Z16>\n",
      "<pyrealsense2.[video_]stream_profile: Color(0) 640x480 @ 30fps RGB8>\n",
      "<pyrealsense2.[video_]stream_profile: Depth(0) 848x480 @ 30fps Z16>\n",
      "<pyrealsense2.[video_]stream_profile: Color(0) 640x480 @ 30fps RGB8>\n",
      "<pyrealsense2.[video_]stream_profile: Depth(0) 848x480 @ 30fps Z16>\n",
      "<pyrealsense2.[video_]stream_profile: Color(0) 640x480 @ 30fps RGB8>\n",
      "<pyrealsense2.[video_]stream_profile: Depth(0) 848x480 @ 30fps Z16>\n",
      "<pyrealsense2.[video_]stream_profile: Color(0) 640x480 @ 30fps RGB8>\n"
     ]
    }
   ],
   "source": [
    "pipeline.start()\n",
    "try:\n",
    "    for i in range(0,100):\n",
    "        frames=pipeline.wait_for_frames()\n",
    "        depth=frames.get_depth_frame()\n",
    "        for f in frames:\n",
    "            print(f.profile)\n",
    "finally:\n",
    "    pipeline.stop()"
   ]
  },
  {
   "cell_type": "code",
   "execution_count": null,
   "id": "da5497c1",
   "metadata": {},
   "outputs": [],
   "source": []
  }
 ],
 "metadata": {
  "kernelspec": {
   "display_name": "Python 3 (ipykernel)",
   "language": "python",
   "name": "python3"
  },
  "language_info": {
   "codemirror_mode": {
    "name": "ipython",
    "version": 3
   },
   "file_extension": ".py",
   "mimetype": "text/x-python",
   "name": "python",
   "nbconvert_exporter": "python",
   "pygments_lexer": "ipython3",
   "version": "3.11.3"
  }
 },
 "nbformat": 4,
 "nbformat_minor": 5
}
